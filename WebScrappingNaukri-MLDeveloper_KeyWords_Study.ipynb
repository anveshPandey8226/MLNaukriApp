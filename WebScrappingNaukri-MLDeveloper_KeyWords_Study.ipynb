{
 "cells": [
  {
   "cell_type": "code",
   "execution_count": 1,
   "id": "4ae7fdd3",
   "metadata": {},
   "outputs": [],
   "source": [
    "import bs4\n",
    "import pandas\n",
    "import numpy\n",
    "import requests\n",
    "from selenium import webdriver\n",
    "import time\n",
    "import random"
   ]
  },
  {
   "cell_type": "code",
   "execution_count": 2,
   "id": "a114e570",
   "metadata": {},
   "outputs": [],
   "source": [
    "url = \"https://www.naukri.com/ml-engineer-ml-algorithms-machine-learning-engineer-ml-engineer-jobs?k=ml%20engineer%2C%20ml%20algorithms%2C%20machine%20learning%20engineer%2C%20ml%20engineer&nignbevent_src=jobsearchDeskGNB\""
   ]
  },
  {
   "cell_type": "code",
   "execution_count": 3,
   "id": "3bd14a94",
   "metadata": {},
   "outputs": [],
   "source": [
    "response =  requests.get(url) "
   ]
  },
  {
   "cell_type": "code",
   "execution_count": 4,
   "id": "9df54e5d",
   "metadata": {},
   "outputs": [
    {
     "name": "stderr",
     "output_type": "stream",
     "text": [
      "<ipython-input-4-7b27ac695236>:1: DeprecationWarning: executable_path has been deprecated, please pass in a Service object\n",
      "  driver = webdriver.Chrome(executable_path='C:/program files/chromedriver.exe')\n"
     ]
    }
   ],
   "source": [
    "driver = webdriver.Chrome(executable_path='C:/program files/chromedriver.exe')"
   ]
  },
  {
   "cell_type": "code",
   "execution_count": 5,
   "id": "7530a781",
   "metadata": {},
   "outputs": [],
   "source": [
    "Link=[]\n",
    "for page in range(1,50): #first 50 pages of the naukri search\n",
    "    driver.get(url+\"-\"+str(page))\n",
    "    timeDelay = random.randrange(0,5)\n",
    "    time.sleep(timeDelay) \n",
    "    soup=bs4.BeautifulSoup(driver.page_source, 'lxml')#returns html of the page\n",
    "    for i in soup.findAll(attrs={'class':\"jobTuple\"}):\n",
    "        for j in i.findAll(attrs={'class':\"title ellipsis\"}):\n",
    "            Link.append(j.get('href')) #stores all the link of the job postings"
   ]
  },
  {
   "cell_type": "code",
   "execution_count": 6,
   "id": "de76ae19",
   "metadata": {},
   "outputs": [
    {
     "data": {
      "text/plain": [
       "820"
      ]
     },
     "execution_count": 6,
     "metadata": {},
     "output_type": "execute_result"
    }
   ],
   "source": [
    "len(Link)"
   ]
  },
  {
   "cell_type": "code",
   "execution_count": 11,
   "id": "b6193b11",
   "metadata": {
    "collapsed": true
   },
   "outputs": [
    {
     "name": "stdout",
     "output_type": "stream",
     "text": [
      "['https://www.naukri.com/job-listings-data-scientist-wockhardt-mumbai-all-areas-5-to-8-years-040423003661', 'https://www.naukri.com/job-listings-data-scientists-fugetron-corporation-mumbai-all-areas-7-to-12-years-040523004786', 'https://www.naukri.com/job-listings-machine-learning-engineer-incorpway-ahmedabad-1-to-6-years-270423008786', 'https://www.naukri.com/job-listings-data-scientist-nms-consultant-gurgaon-gurugram-6-to-11-years-310323603696', 'https://www.naukri.com/job-listings-al-ml-video-analytics-engineer-ave-promagne-indore-1-to-5-years-040523908328', 'https://www.naukri.com/job-listings-machine-learning-ai-platform-engineer-accenture-solutions-pvt-ltd-bangalore-bengaluru-12-to-15-years-050523908784', 'https://www.naukri.com/job-listings-data-scientist-python-ml-dl-ave-promagne-noida-mumbai-pune-chennai-bangalore-bengaluru-assam-sikkim-manipur-2-to-4-years-040523908280', 'https://www.naukri.com/job-listings-hiring-data-scientist-ai-ml-noida-hyderabad-r1rcm-r1-rcm-noida-hyderabad-secunderabad-delhi-ncr-6-to-11-years-030423006041', 'https://www.naukri.com/job-listings-machine-learning-ml-engineer-online-manufacturing-mumbai-4-to-9-years-040422500132', 'https://www.naukri.com/job-listings-ml-engineer-seven-consultancy-hr-solution-chennai-3-to-4-years-301122502483', 'https://www.naukri.com/job-listings-junior-ml-engineer-seven-consultancy-hr-solution-chennai-4-to-9-years-290322500030', 'https://www.naukri.com/job-listings-ml-engineer-seven-consultancy-hr-solution-new-delhi-2-to-7-years-280322502427', 'https://www.naukri.com/job-listings-junior-ml-engineer-seven-consultancy-hr-solution-new-delhi-1-to-6-years-280322502399', 'https://www.naukri.com/job-listings-ml-engineer-copperpod-digital-kolkata-mumbai-new-delhi-hyderabad-secunderabad-pune-chennai-bangalore-bengaluru-2-to-5-years-060423501641', 'https://www.naukri.com/job-listings-ml-engineer-seven-consultancy-hr-solution-new-delhi-2-to-5-years-301122502480', 'https://www.naukri.com/job-listings-junior-ml-engineer-seven-consultancy-hr-solution-bangalore-bengaluru-4-to-5-years-290322500359', 'https://www.naukri.com/job-listings-senior-ml-engineer-seven-consultancy-hr-solution-new-delhi-4-to-8-years-290322500347', 'https://www.naukri.com/job-listings-ml-engineer-seven-consultancy-hr-solution-bangalore-bengaluru-3-to-4-years-290322500343', 'https://www.naukri.com/job-listings-ml-engineer-seven-consultancy-hr-solution-mumbai-2-to-5-years-290322500339', 'https://www.naukri.com/job-listings-senior-ml-engineer-seven-consultancy-hr-solution-mumbai-4-to-9-years-290322500154', 'https://www.naukri.com/job-listings-data-scientist-wockhardt-mumbai-all-areas-5-to-8-years-040423003661', 'https://www.naukri.com/job-listings-data-scientists-fugetron-corporation-mumbai-all-areas-7-to-12-years-040523004786', 'https://www.naukri.com/job-listings-machine-learning-engineer-incorpway-ahmedabad-1-to-6-years-270423008786', 'https://www.naukri.com/job-listings-data-scientist-nms-consultant-gurgaon-gurugram-6-to-11-years-310323603696', 'https://www.naukri.com/job-listings-al-ml-video-analytics-engineer-ave-promagne-indore-1-to-5-years-040523908328', 'https://www.naukri.com/job-listings-machine-learning-ai-platform-engineer-accenture-solutions-pvt-ltd-bangalore-bengaluru-12-to-15-years-050523908784', 'https://www.naukri.com/job-listings-data-scientist-python-ml-dl-ave-promagne-noida-mumbai-pune-chennai-bangalore-bengaluru-assam-sikkim-manipur-2-to-4-years-040523908280', 'https://www.naukri.com/job-listings-hiring-data-scientist-ai-ml-noida-hyderabad-r1rcm-r1-rcm-noida-hyderabad-secunderabad-delhi-ncr-6-to-11-years-030423006041', 'https://www.naukri.com/job-listings-machine-learning-ml-engineer-online-manufacturing-mumbai-4-to-9-years-040422500132', 'https://www.naukri.com/job-listings-ml-engineer-seven-consultancy-hr-solution-chennai-3-to-4-years-301122502483', 'https://www.naukri.com/job-listings-junior-ml-engineer-seven-consultancy-hr-solution-chennai-4-to-9-years-290322500030', 'https://www.naukri.com/job-listings-ml-engineer-seven-consultancy-hr-solution-new-delhi-2-to-7-years-280322502427', 'https://www.naukri.com/job-listings-junior-ml-engineer-seven-consultancy-hr-solution-new-delhi-1-to-6-years-280322502399', 'https://www.naukri.com/job-listings-ml-engineer-copperpod-digital-kolkata-mumbai-new-delhi-hyderabad-secunderabad-pune-chennai-bangalore-bengaluru-2-to-5-years-060423501641', 'https://www.naukri.com/job-listings-ml-engineer-seven-consultancy-hr-solution-new-delhi-2-to-5-years-301122502480', 'https://www.naukri.com/job-listings-junior-ml-engineer-seven-consultancy-hr-solution-bangalore-bengaluru-4-to-5-years-290322500359', 'https://www.naukri.com/job-listings-senior-ml-engineer-seven-consultancy-hr-solution-new-delhi-4-to-8-years-290322500347', 'https://www.naukri.com/job-listings-ml-engineer-seven-consultancy-hr-solution-bangalore-bengaluru-3-to-4-years-290322500343', 'https://www.naukri.com/job-listings-ml-engineer-seven-consultancy-hr-solution-mumbai-2-to-5-years-290322500339', 'https://www.naukri.com/job-listings-senior-ml-engineer-seven-consultancy-hr-solution-mumbai-4-to-9-years-290322500154', 'https://www.naukri.com/job-listings-data-scientist-wockhardt-mumbai-all-areas-5-to-8-years-040423003661', 'https://www.naukri.com/job-listings-data-scientists-fugetron-corporation-mumbai-all-areas-7-to-12-years-040523004786', 'https://www.naukri.com/job-listings-machine-learning-engineer-incorpway-ahmedabad-1-to-6-years-270423008786', 'https://www.naukri.com/job-listings-data-scientist-nms-consultant-gurgaon-gurugram-6-to-11-years-310323603696', 'https://www.naukri.com/job-listings-al-ml-video-analytics-engineer-ave-promagne-indore-1-to-5-years-040523908328', 'https://www.naukri.com/job-listings-machine-learning-ai-platform-engineer-accenture-solutions-pvt-ltd-bangalore-bengaluru-12-to-15-years-050523908784', 'https://www.naukri.com/job-listings-data-scientist-python-ml-dl-ave-promagne-noida-mumbai-pune-chennai-bangalore-bengaluru-assam-sikkim-manipur-2-to-4-years-040523908280', 'https://www.naukri.com/job-listings-hiring-data-scientist-ai-ml-noida-hyderabad-r1rcm-r1-rcm-noida-hyderabad-secunderabad-delhi-ncr-6-to-11-years-030423006041', 'https://www.naukri.com/job-listings-machine-learning-ml-engineer-online-manufacturing-mumbai-4-to-9-years-040422500132', 'https://www.naukri.com/job-listings-ml-engineer-seven-consultancy-hr-solution-chennai-3-to-4-years-301122502483', 'https://www.naukri.com/job-listings-junior-ml-engineer-seven-consultancy-hr-solution-chennai-4-to-9-years-290322500030', 'https://www.naukri.com/job-listings-ml-engineer-seven-consultancy-hr-solution-new-delhi-2-to-7-years-280322502427', 'https://www.naukri.com/job-listings-junior-ml-engineer-seven-consultancy-hr-solution-new-delhi-1-to-6-years-280322502399', 'https://www.naukri.com/job-listings-ml-engineer-copperpod-digital-kolkata-mumbai-new-delhi-hyderabad-secunderabad-pune-chennai-bangalore-bengaluru-2-to-5-years-060423501641', 'https://www.naukri.com/job-listings-ml-engineer-seven-consultancy-hr-solution-new-delhi-2-to-5-years-301122502480', 'https://www.naukri.com/job-listings-junior-ml-engineer-seven-consultancy-hr-solution-bangalore-bengaluru-4-to-5-years-290322500359', 'https://www.naukri.com/job-listings-senior-ml-engineer-seven-consultancy-hr-solution-new-delhi-4-to-8-years-290322500347', 'https://www.naukri.com/job-listings-ml-engineer-seven-consultancy-hr-solution-bangalore-bengaluru-3-to-4-years-290322500343', 'https://www.naukri.com/job-listings-ml-engineer-seven-consultancy-hr-solution-mumbai-2-to-5-years-290322500339', 'https://www.naukri.com/job-listings-senior-ml-engineer-seven-consultancy-hr-solution-mumbai-4-to-9-years-290322500154', 'https://www.naukri.com/job-listings-data-scientist-wockhardt-mumbai-all-areas-5-to-8-years-040423003661', 'https://www.naukri.com/job-listings-data-scientists-fugetron-corporation-mumbai-all-areas-7-to-12-years-040523004786', 'https://www.naukri.com/job-listings-machine-learning-engineer-incorpway-ahmedabad-1-to-6-years-270423008786', 'https://www.naukri.com/job-listings-data-scientist-nms-consultant-gurgaon-gurugram-6-to-11-years-310323603696', 'https://www.naukri.com/job-listings-al-ml-video-analytics-engineer-ave-promagne-indore-1-to-5-years-040523908328', 'https://www.naukri.com/job-listings-machine-learning-ai-platform-engineer-accenture-solutions-pvt-ltd-bangalore-bengaluru-12-to-15-years-050523908784', 'https://www.naukri.com/job-listings-data-scientist-python-ml-dl-ave-promagne-noida-mumbai-pune-chennai-bangalore-bengaluru-assam-sikkim-manipur-2-to-4-years-040523908280', 'https://www.naukri.com/job-listings-hiring-data-scientist-ai-ml-noida-hyderabad-r1rcm-r1-rcm-noida-hyderabad-secunderabad-delhi-ncr-6-to-11-years-030423006041', 'https://www.naukri.com/job-listings-machine-learning-ml-engineer-online-manufacturing-mumbai-4-to-9-years-040422500132', 'https://www.naukri.com/job-listings-ml-engineer-seven-consultancy-hr-solution-chennai-3-to-4-years-301122502483', 'https://www.naukri.com/job-listings-junior-ml-engineer-seven-consultancy-hr-solution-chennai-4-to-9-years-290322500030', 'https://www.naukri.com/job-listings-ml-engineer-seven-consultancy-hr-solution-new-delhi-2-to-7-years-280322502427', 'https://www.naukri.com/job-listings-junior-ml-engineer-seven-consultancy-hr-solution-new-delhi-1-to-6-years-280322502399', 'https://www.naukri.com/job-listings-ml-engineer-copperpod-digital-kolkata-mumbai-new-delhi-hyderabad-secunderabad-pune-chennai-bangalore-bengaluru-2-to-5-years-060423501641', 'https://www.naukri.com/job-listings-ml-engineer-seven-consultancy-hr-solution-new-delhi-2-to-5-years-301122502480', 'https://www.naukri.com/job-listings-junior-ml-engineer-seven-consultancy-hr-solution-bangalore-bengaluru-4-to-5-years-290322500359', 'https://www.naukri.com/job-listings-senior-ml-engineer-seven-consultancy-hr-solution-new-delhi-4-to-8-years-290322500347', 'https://www.naukri.com/job-listings-ml-engineer-seven-consultancy-hr-solution-bangalore-bengaluru-3-to-4-years-290322500343', 'https://www.naukri.com/job-listings-ml-engineer-seven-consultancy-hr-solution-mumbai-2-to-5-years-290322500339', 'https://www.naukri.com/job-listings-senior-ml-engineer-seven-consultancy-hr-solution-mumbai-4-to-9-years-290322500154', 'https://www.naukri.com/job-listings-data-scientist-wockhardt-mumbai-all-areas-5-to-8-years-040423003661', 'https://www.naukri.com/job-listings-data-scientists-fugetron-corporation-mumbai-all-areas-7-to-12-years-040523004786', 'https://www.naukri.com/job-listings-machine-learning-engineer-incorpway-ahmedabad-1-to-6-years-270423008786', 'https://www.naukri.com/job-listings-data-scientist-nms-consultant-gurgaon-gurugram-6-to-11-years-310323603696', 'https://www.naukri.com/job-listings-al-ml-video-analytics-engineer-ave-promagne-indore-1-to-5-years-040523908328', 'https://www.naukri.com/job-listings-machine-learning-ai-platform-engineer-accenture-solutions-pvt-ltd-bangalore-bengaluru-12-to-15-years-050523908784', 'https://www.naukri.com/job-listings-data-scientist-python-ml-dl-ave-promagne-noida-mumbai-pune-chennai-bangalore-bengaluru-assam-sikkim-manipur-2-to-4-years-040523908280', 'https://www.naukri.com/job-listings-hiring-data-scientist-ai-ml-noida-hyderabad-r1rcm-r1-rcm-noida-hyderabad-secunderabad-delhi-ncr-6-to-11-years-030423006041', 'https://www.naukri.com/job-listings-machine-learning-ml-engineer-online-manufacturing-mumbai-4-to-9-years-040422500132', 'https://www.naukri.com/job-listings-ml-engineer-seven-consultancy-hr-solution-chennai-3-to-4-years-301122502483', 'https://www.naukri.com/job-listings-junior-ml-engineer-seven-consultancy-hr-solution-chennai-4-to-9-years-290322500030', 'https://www.naukri.com/job-listings-ml-engineer-seven-consultancy-hr-solution-new-delhi-2-to-7-years-280322502427', 'https://www.naukri.com/job-listings-junior-ml-engineer-seven-consultancy-hr-solution-new-delhi-1-to-6-years-280322502399', 'https://www.naukri.com/job-listings-ml-engineer-copperpod-digital-kolkata-mumbai-new-delhi-hyderabad-secunderabad-pune-chennai-bangalore-bengaluru-2-to-5-years-060423501641', 'https://www.naukri.com/job-listings-ml-engineer-seven-consultancy-hr-solution-new-delhi-2-to-5-years-301122502480', 'https://www.naukri.com/job-listings-junior-ml-engineer-seven-consultancy-hr-solution-bangalore-bengaluru-4-to-5-years-290322500359', 'https://www.naukri.com/job-listings-senior-ml-engineer-seven-consultancy-hr-solution-new-delhi-4-to-8-years-290322500347', 'https://www.naukri.com/job-listings-ml-engineer-seven-consultancy-hr-solution-bangalore-bengaluru-3-to-4-years-290322500343', 'https://www.naukri.com/job-listings-ml-engineer-seven-consultancy-hr-solution-mumbai-2-to-5-years-290322500339', 'https://www.naukri.com/job-listings-senior-ml-engineer-seven-consultancy-hr-solution-mumbai-4-to-9-years-290322500154', 'https://www.naukri.com/job-listings-data-scientist-wockhardt-mumbai-all-areas-5-to-8-years-040423003661', 'https://www.naukri.com/job-listings-data-scientists-fugetron-corporation-mumbai-all-areas-7-to-12-years-040523004786', 'https://www.naukri.com/job-listings-machine-learning-engineer-incorpway-ahmedabad-1-to-6-years-270423008786', 'https://www.naukri.com/job-listings-data-scientist-nms-consultant-gurgaon-gurugram-6-to-11-years-310323603696', 'https://www.naukri.com/job-listings-al-ml-video-analytics-engineer-ave-promagne-indore-1-to-5-years-040523908328', 'https://www.naukri.com/job-listings-machine-learning-ai-platform-engineer-accenture-solutions-pvt-ltd-bangalore-bengaluru-12-to-15-years-050523908784', 'https://www.naukri.com/job-listings-data-scientist-python-ml-dl-ave-promagne-noida-mumbai-pune-chennai-bangalore-bengaluru-assam-sikkim-manipur-2-to-4-years-040523908280', 'https://www.naukri.com/job-listings-hiring-data-scientist-ai-ml-noida-hyderabad-r1rcm-r1-rcm-noida-hyderabad-secunderabad-delhi-ncr-6-to-11-years-030423006041', 'https://www.naukri.com/job-listings-machine-learning-ml-engineer-online-manufacturing-mumbai-4-to-9-years-040422500132', 'https://www.naukri.com/job-listings-ml-engineer-seven-consultancy-hr-solution-chennai-3-to-4-years-301122502483', 'https://www.naukri.com/job-listings-junior-ml-engineer-seven-consultancy-hr-solution-chennai-4-to-9-years-290322500030', 'https://www.naukri.com/job-listings-ml-engineer-seven-consultancy-hr-solution-new-delhi-2-to-7-years-280322502427', 'https://www.naukri.com/job-listings-junior-ml-engineer-seven-consultancy-hr-solution-new-delhi-1-to-6-years-280322502399', 'https://www.naukri.com/job-listings-ml-engineer-copperpod-digital-kolkata-mumbai-new-delhi-hyderabad-secunderabad-pune-chennai-bangalore-bengaluru-2-to-5-years-060423501641', 'https://www.naukri.com/job-listings-ml-engineer-seven-consultancy-hr-solution-new-delhi-2-to-5-years-301122502480', 'https://www.naukri.com/job-listings-junior-ml-engineer-seven-consultancy-hr-solution-bangalore-bengaluru-4-to-5-years-290322500359', 'https://www.naukri.com/job-listings-senior-ml-engineer-seven-consultancy-hr-solution-new-delhi-4-to-8-years-290322500347', 'https://www.naukri.com/job-listings-ml-engineer-seven-consultancy-hr-solution-bangalore-bengaluru-3-to-4-years-290322500343', 'https://www.naukri.com/job-listings-ml-engineer-seven-consultancy-hr-solution-mumbai-2-to-5-years-290322500339', 'https://www.naukri.com/job-listings-senior-ml-engineer-seven-consultancy-hr-solution-mumbai-4-to-9-years-290322500154', 'https://www.naukri.com/job-listings-data-scientist-wockhardt-mumbai-all-areas-5-to-8-years-040423003661', 'https://www.naukri.com/job-listings-data-scientists-fugetron-corporation-mumbai-all-areas-7-to-12-years-040523004786', 'https://www.naukri.com/job-listings-machine-learning-engineer-incorpway-ahmedabad-1-to-6-years-270423008786', 'https://www.naukri.com/job-listings-data-scientist-nms-consultant-gurgaon-gurugram-6-to-11-years-310323603696', 'https://www.naukri.com/job-listings-al-ml-video-analytics-engineer-ave-promagne-indore-1-to-5-years-040523908328', 'https://www.naukri.com/job-listings-machine-learning-ai-platform-engineer-accenture-solutions-pvt-ltd-bangalore-bengaluru-12-to-15-years-050523908784', 'https://www.naukri.com/job-listings-data-scientist-python-ml-dl-ave-promagne-noida-mumbai-pune-chennai-bangalore-bengaluru-assam-sikkim-manipur-2-to-4-years-040523908280', 'https://www.naukri.com/job-listings-hiring-data-scientist-ai-ml-noida-hyderabad-r1rcm-r1-rcm-noida-hyderabad-secunderabad-delhi-ncr-6-to-11-years-030423006041', 'https://www.naukri.com/job-listings-machine-learning-ml-engineer-online-manufacturing-mumbai-4-to-9-years-040422500132', 'https://www.naukri.com/job-listings-ml-engineer-seven-consultancy-hr-solution-chennai-3-to-4-years-301122502483', 'https://www.naukri.com/job-listings-junior-ml-engineer-seven-consultancy-hr-solution-chennai-4-to-9-years-290322500030', 'https://www.naukri.com/job-listings-ml-engineer-seven-consultancy-hr-solution-new-delhi-2-to-7-years-280322502427', 'https://www.naukri.com/job-listings-junior-ml-engineer-seven-consultancy-hr-solution-new-delhi-1-to-6-years-280322502399', 'https://www.naukri.com/job-listings-ml-engineer-copperpod-digital-kolkata-mumbai-new-delhi-hyderabad-secunderabad-pune-chennai-bangalore-bengaluru-2-to-5-years-060423501641', 'https://www.naukri.com/job-listings-ml-engineer-seven-consultancy-hr-solution-new-delhi-2-to-5-years-301122502480', 'https://www.naukri.com/job-listings-junior-ml-engineer-seven-consultancy-hr-solution-bangalore-bengaluru-4-to-5-years-290322500359', 'https://www.naukri.com/job-listings-senior-ml-engineer-seven-consultancy-hr-solution-new-delhi-4-to-8-years-290322500347', 'https://www.naukri.com/job-listings-ml-engineer-seven-consultancy-hr-solution-bangalore-bengaluru-3-to-4-years-290322500343', 'https://www.naukri.com/job-listings-ml-engineer-seven-consultancy-hr-solution-mumbai-2-to-5-years-290322500339', 'https://www.naukri.com/job-listings-senior-ml-engineer-seven-consultancy-hr-solution-mumbai-4-to-9-years-290322500154', 'https://www.naukri.com/job-listings-data-scientist-wockhardt-mumbai-all-areas-5-to-8-years-040423003661', 'https://www.naukri.com/job-listings-data-scientists-fugetron-corporation-mumbai-all-areas-7-to-12-years-040523004786', 'https://www.naukri.com/job-listings-machine-learning-engineer-incorpway-ahmedabad-1-to-6-years-270423008786', 'https://www.naukri.com/job-listings-data-scientist-nms-consultant-gurgaon-gurugram-6-to-11-years-310323603696', 'https://www.naukri.com/job-listings-al-ml-video-analytics-engineer-ave-promagne-indore-1-to-5-years-040523908328', 'https://www.naukri.com/job-listings-machine-learning-ai-platform-engineer-accenture-solutions-pvt-ltd-bangalore-bengaluru-12-to-15-years-050523908784', 'https://www.naukri.com/job-listings-data-scientist-python-ml-dl-ave-promagne-noida-mumbai-pune-chennai-bangalore-bengaluru-assam-sikkim-manipur-2-to-4-years-040523908280', 'https://www.naukri.com/job-listings-hiring-data-scientist-ai-ml-noida-hyderabad-r1rcm-r1-rcm-noida-hyderabad-secunderabad-delhi-ncr-6-to-11-years-030423006041', 'https://www.naukri.com/job-listings-machine-learning-ml-engineer-online-manufacturing-mumbai-4-to-9-years-040422500132', 'https://www.naukri.com/job-listings-ml-engineer-seven-consultancy-hr-solution-chennai-3-to-4-years-301122502483', 'https://www.naukri.com/job-listings-junior-ml-engineer-seven-consultancy-hr-solution-chennai-4-to-9-years-290322500030', 'https://www.naukri.com/job-listings-ml-engineer-seven-consultancy-hr-solution-new-delhi-2-to-7-years-280322502427', 'https://www.naukri.com/job-listings-junior-ml-engineer-seven-consultancy-hr-solution-new-delhi-1-to-6-years-280322502399', 'https://www.naukri.com/job-listings-ml-engineer-copperpod-digital-kolkata-mumbai-new-delhi-hyderabad-secunderabad-pune-chennai-bangalore-bengaluru-2-to-5-years-060423501641', 'https://www.naukri.com/job-listings-ml-engineer-seven-consultancy-hr-solution-new-delhi-2-to-5-years-301122502480', 'https://www.naukri.com/job-listings-junior-ml-engineer-seven-consultancy-hr-solution-bangalore-bengaluru-4-to-5-years-290322500359', 'https://www.naukri.com/job-listings-senior-ml-engineer-seven-consultancy-hr-solution-new-delhi-4-to-8-years-290322500347', 'https://www.naukri.com/job-listings-ml-engineer-seven-consultancy-hr-solution-bangalore-bengaluru-3-to-4-years-290322500343', 'https://www.naukri.com/job-listings-ml-engineer-seven-consultancy-hr-solution-mumbai-2-to-5-years-290322500339', 'https://www.naukri.com/job-listings-senior-ml-engineer-seven-consultancy-hr-solution-mumbai-4-to-9-years-290322500154', 'https://www.naukri.com/job-listings-data-scientist-wockhardt-mumbai-all-areas-5-to-8-years-040423003661', 'https://www.naukri.com/job-listings-data-scientists-fugetron-corporation-mumbai-all-areas-7-to-12-years-040523004786', 'https://www.naukri.com/job-listings-machine-learning-engineer-incorpway-ahmedabad-1-to-6-years-270423008786', 'https://www.naukri.com/job-listings-data-scientist-nms-consultant-gurgaon-gurugram-6-to-11-years-310323603696', 'https://www.naukri.com/job-listings-al-ml-video-analytics-engineer-ave-promagne-indore-1-to-5-years-040523908328', 'https://www.naukri.com/job-listings-machine-learning-ai-platform-engineer-accenture-solutions-pvt-ltd-bangalore-bengaluru-12-to-15-years-050523908784', 'https://www.naukri.com/job-listings-data-scientist-python-ml-dl-ave-promagne-noida-mumbai-pune-chennai-bangalore-bengaluru-assam-sikkim-manipur-2-to-4-years-040523908280', 'https://www.naukri.com/job-listings-hiring-data-scientist-ai-ml-noida-hyderabad-r1rcm-r1-rcm-noida-hyderabad-secunderabad-delhi-ncr-6-to-11-years-030423006041', 'https://www.naukri.com/job-listings-machine-learning-ml-engineer-online-manufacturing-mumbai-4-to-9-years-040422500132', 'https://www.naukri.com/job-listings-ml-engineer-seven-consultancy-hr-solution-chennai-3-to-4-years-301122502483', 'https://www.naukri.com/job-listings-junior-ml-engineer-seven-consultancy-hr-solution-chennai-4-to-9-years-290322500030', 'https://www.naukri.com/job-listings-ml-engineer-seven-consultancy-hr-solution-new-delhi-2-to-7-years-280322502427', 'https://www.naukri.com/job-listings-junior-ml-engineer-seven-consultancy-hr-solution-new-delhi-1-to-6-years-280322502399', 'https://www.naukri.com/job-listings-ml-engineer-copperpod-digital-kolkata-mumbai-new-delhi-hyderabad-secunderabad-pune-chennai-bangalore-bengaluru-2-to-5-years-060423501641', 'https://www.naukri.com/job-listings-ml-engineer-seven-consultancy-hr-solution-new-delhi-2-to-5-years-301122502480', 'https://www.naukri.com/job-listings-junior-ml-engineer-seven-consultancy-hr-solution-bangalore-bengaluru-4-to-5-years-290322500359', 'https://www.naukri.com/job-listings-senior-ml-engineer-seven-consultancy-hr-solution-new-delhi-4-to-8-years-290322500347', 'https://www.naukri.com/job-listings-ml-engineer-seven-consultancy-hr-solution-bangalore-bengaluru-3-to-4-years-290322500343', 'https://www.naukri.com/job-listings-ml-engineer-seven-consultancy-hr-solution-mumbai-2-to-5-years-290322500339', 'https://www.naukri.com/job-listings-senior-ml-engineer-seven-consultancy-hr-solution-mumbai-4-to-9-years-290322500154', 'https://www.naukri.com/job-listings-data-scientist-wockhardt-mumbai-all-areas-5-to-8-years-040423003661', 'https://www.naukri.com/job-listings-data-scientists-fugetron-corporation-mumbai-all-areas-7-to-12-years-040523004786', 'https://www.naukri.com/job-listings-machine-learning-engineer-incorpway-ahmedabad-1-to-6-years-270423008786', 'https://www.naukri.com/job-listings-data-scientist-nms-consultant-gurgaon-gurugram-6-to-11-years-310323603696', 'https://www.naukri.com/job-listings-al-ml-video-analytics-engineer-ave-promagne-indore-1-to-5-years-040523908328', 'https://www.naukri.com/job-listings-machine-learning-ai-platform-engineer-accenture-solutions-pvt-ltd-bangalore-bengaluru-12-to-15-years-050523908784', 'https://www.naukri.com/job-listings-data-scientist-python-ml-dl-ave-promagne-noida-mumbai-pune-chennai-bangalore-bengaluru-assam-sikkim-manipur-2-to-4-years-040523908280', 'https://www.naukri.com/job-listings-hiring-data-scientist-ai-ml-noida-hyderabad-r1rcm-r1-rcm-noida-hyderabad-secunderabad-delhi-ncr-6-to-11-years-030423006041', 'https://www.naukri.com/job-listings-machine-learning-ml-engineer-online-manufacturing-mumbai-4-to-9-years-040422500132', 'https://www.naukri.com/job-listings-ml-engineer-seven-consultancy-hr-solution-chennai-3-to-4-years-301122502483', 'https://www.naukri.com/job-listings-junior-ml-engineer-seven-consultancy-hr-solution-chennai-4-to-9-years-290322500030', 'https://www.naukri.com/job-listings-ml-engineer-seven-consultancy-hr-solution-new-delhi-2-to-7-years-280322502427', 'https://www.naukri.com/job-listings-junior-ml-engineer-seven-consultancy-hr-solution-new-delhi-1-to-6-years-280322502399', 'https://www.naukri.com/job-listings-ml-engineer-copperpod-digital-kolkata-mumbai-new-delhi-hyderabad-secunderabad-pune-chennai-bangalore-bengaluru-2-to-5-years-060423501641', 'https://www.naukri.com/job-listings-ml-engineer-seven-consultancy-hr-solution-new-delhi-2-to-5-years-301122502480', 'https://www.naukri.com/job-listings-junior-ml-engineer-seven-consultancy-hr-solution-bangalore-bengaluru-4-to-5-years-290322500359', 'https://www.naukri.com/job-listings-senior-ml-engineer-seven-consultancy-hr-solution-new-delhi-4-to-8-years-290322500347', 'https://www.naukri.com/job-listings-ml-engineer-seven-consultancy-hr-solution-bangalore-bengaluru-3-to-4-years-290322500343', 'https://www.naukri.com/job-listings-ml-engineer-seven-consultancy-hr-solution-mumbai-2-to-5-years-290322500339', 'https://www.naukri.com/job-listings-senior-ml-engineer-seven-consultancy-hr-solution-mumbai-4-to-9-years-290322500154', 'https://www.naukri.com/job-listings-data-scientist-wockhardt-mumbai-all-areas-5-to-8-years-040423003661', 'https://www.naukri.com/job-listings-data-scientists-fugetron-corporation-mumbai-all-areas-7-to-12-years-040523004786', 'https://www.naukri.com/job-listings-machine-learning-engineer-incorpway-ahmedabad-1-to-6-years-270423008786', 'https://www.naukri.com/job-listings-data-scientist-nms-consultant-gurgaon-gurugram-6-to-11-years-310323603696', 'https://www.naukri.com/job-listings-al-ml-video-analytics-engineer-ave-promagne-indore-1-to-5-years-040523908328', 'https://www.naukri.com/job-listings-machine-learning-ai-platform-engineer-accenture-solutions-pvt-ltd-bangalore-bengaluru-12-to-15-years-050523908784', 'https://www.naukri.com/job-listings-data-scientist-python-ml-dl-ave-promagne-noida-mumbai-pune-chennai-bangalore-bengaluru-assam-sikkim-manipur-2-to-4-years-040523908280', 'https://www.naukri.com/job-listings-hiring-data-scientist-ai-ml-noida-hyderabad-r1rcm-r1-rcm-noida-hyderabad-secunderabad-delhi-ncr-6-to-11-years-030423006041', 'https://www.naukri.com/job-listings-machine-learning-ml-engineer-online-manufacturing-mumbai-4-to-9-years-040422500132', 'https://www.naukri.com/job-listings-ml-engineer-seven-consultancy-hr-solution-chennai-3-to-4-years-301122502483', 'https://www.naukri.com/job-listings-junior-ml-engineer-seven-consultancy-hr-solution-chennai-4-to-9-years-290322500030', 'https://www.naukri.com/job-listings-ml-engineer-seven-consultancy-hr-solution-new-delhi-2-to-7-years-280322502427', 'https://www.naukri.com/job-listings-junior-ml-engineer-seven-consultancy-hr-solution-new-delhi-1-to-6-years-280322502399', 'https://www.naukri.com/job-listings-ml-engineer-copperpod-digital-kolkata-mumbai-new-delhi-hyderabad-secunderabad-pune-chennai-bangalore-bengaluru-2-to-5-years-060423501641', 'https://www.naukri.com/job-listings-ml-engineer-seven-consultancy-hr-solution-new-delhi-2-to-5-years-301122502480', 'https://www.naukri.com/job-listings-junior-ml-engineer-seven-consultancy-hr-solution-bangalore-bengaluru-4-to-5-years-290322500359', 'https://www.naukri.com/job-listings-senior-ml-engineer-seven-consultancy-hr-solution-new-delhi-4-to-8-years-290322500347', 'https://www.naukri.com/job-listings-ml-engineer-seven-consultancy-hr-solution-bangalore-bengaluru-3-to-4-years-290322500343', 'https://www.naukri.com/job-listings-ml-engineer-seven-consultancy-hr-solution-mumbai-2-to-5-years-290322500339', 'https://www.naukri.com/job-listings-senior-ml-engineer-seven-consultancy-hr-solution-mumbai-4-to-9-years-290322500154', 'https://www.naukri.com/job-listings-data-scientist-wockhardt-mumbai-all-areas-5-to-8-years-040423003661', 'https://www.naukri.com/job-listings-data-scientists-fugetron-corporation-mumbai-all-areas-7-to-12-years-040523004786', 'https://www.naukri.com/job-listings-machine-learning-engineer-incorpway-ahmedabad-1-to-6-years-270423008786', 'https://www.naukri.com/job-listings-data-scientist-nms-consultant-gurgaon-gurugram-6-to-11-years-310323603696', 'https://www.naukri.com/job-listings-al-ml-video-analytics-engineer-ave-promagne-indore-1-to-5-years-040523908328', 'https://www.naukri.com/job-listings-machine-learning-ai-platform-engineer-accenture-solutions-pvt-ltd-bangalore-bengaluru-12-to-15-years-050523908784', 'https://www.naukri.com/job-listings-data-scientist-python-ml-dl-ave-promagne-noida-mumbai-pune-chennai-bangalore-bengaluru-assam-sikkim-manipur-2-to-4-years-040523908280', 'https://www.naukri.com/job-listings-hiring-data-scientist-ai-ml-noida-hyderabad-r1rcm-r1-rcm-noida-hyderabad-secunderabad-delhi-ncr-6-to-11-years-030423006041', 'https://www.naukri.com/job-listings-machine-learning-ml-engineer-online-manufacturing-mumbai-4-to-9-years-040422500132', 'https://www.naukri.com/job-listings-ml-engineer-seven-consultancy-hr-solution-chennai-3-to-4-years-301122502483', 'https://www.naukri.com/job-listings-junior-ml-engineer-seven-consultancy-hr-solution-chennai-4-to-9-years-290322500030', 'https://www.naukri.com/job-listings-ml-engineer-seven-consultancy-hr-solution-new-delhi-2-to-7-years-280322502427', 'https://www.naukri.com/job-listings-junior-ml-engineer-seven-consultancy-hr-solution-new-delhi-1-to-6-years-280322502399', 'https://www.naukri.com/job-listings-ml-engineer-copperpod-digital-kolkata-mumbai-new-delhi-hyderabad-secunderabad-pune-chennai-bangalore-bengaluru-2-to-5-years-060423501641', 'https://www.naukri.com/job-listings-ml-engineer-seven-consultancy-hr-solution-new-delhi-2-to-5-years-301122502480', 'https://www.naukri.com/job-listings-junior-ml-engineer-seven-consultancy-hr-solution-bangalore-bengaluru-4-to-5-years-290322500359', 'https://www.naukri.com/job-listings-senior-ml-engineer-seven-consultancy-hr-solution-new-delhi-4-to-8-years-290322500347', 'https://www.naukri.com/job-listings-ml-engineer-seven-consultancy-hr-solution-bangalore-bengaluru-3-to-4-years-290322500343', 'https://www.naukri.com/job-listings-ml-engineer-seven-consultancy-hr-solution-mumbai-2-to-5-years-290322500339', 'https://www.naukri.com/job-listings-senior-ml-engineer-seven-consultancy-hr-solution-mumbai-4-to-9-years-290322500154', 'https://www.naukri.com/job-listings-data-scientist-wockhardt-mumbai-all-areas-5-to-8-years-040423003661', 'https://www.naukri.com/job-listings-data-scientists-fugetron-corporation-mumbai-all-areas-7-to-12-years-040523004786', 'https://www.naukri.com/job-listings-machine-learning-engineer-incorpway-ahmedabad-1-to-6-years-270423008786', 'https://www.naukri.com/job-listings-data-scientist-nms-consultant-gurgaon-gurugram-6-to-11-years-310323603696', 'https://www.naukri.com/job-listings-al-ml-video-analytics-engineer-ave-promagne-indore-1-to-5-years-040523908328', 'https://www.naukri.com/job-listings-machine-learning-ai-platform-engineer-accenture-solutions-pvt-ltd-bangalore-bengaluru-12-to-15-years-050523908784', 'https://www.naukri.com/job-listings-data-scientist-python-ml-dl-ave-promagne-noida-mumbai-pune-chennai-bangalore-bengaluru-assam-sikkim-manipur-2-to-4-years-040523908280', 'https://www.naukri.com/job-listings-hiring-data-scientist-ai-ml-noida-hyderabad-r1rcm-r1-rcm-noida-hyderabad-secunderabad-delhi-ncr-6-to-11-years-030423006041', 'https://www.naukri.com/job-listings-machine-learning-ml-engineer-online-manufacturing-mumbai-4-to-9-years-040422500132', 'https://www.naukri.com/job-listings-ml-engineer-seven-consultancy-hr-solution-chennai-3-to-4-years-301122502483', 'https://www.naukri.com/job-listings-junior-ml-engineer-seven-consultancy-hr-solution-chennai-4-to-9-years-290322500030', 'https://www.naukri.com/job-listings-ml-engineer-seven-consultancy-hr-solution-new-delhi-2-to-7-years-280322502427', 'https://www.naukri.com/job-listings-junior-ml-engineer-seven-consultancy-hr-solution-new-delhi-1-to-6-years-280322502399', 'https://www.naukri.com/job-listings-ml-engineer-copperpod-digital-kolkata-mumbai-new-delhi-hyderabad-secunderabad-pune-chennai-bangalore-bengaluru-2-to-5-years-060423501641', 'https://www.naukri.com/job-listings-ml-engineer-seven-consultancy-hr-solution-new-delhi-2-to-5-years-301122502480', 'https://www.naukri.com/job-listings-junior-ml-engineer-seven-consultancy-hr-solution-bangalore-bengaluru-4-to-5-years-290322500359', 'https://www.naukri.com/job-listings-senior-ml-engineer-seven-consultancy-hr-solution-new-delhi-4-to-8-years-290322500347', 'https://www.naukri.com/job-listings-ml-engineer-seven-consultancy-hr-solution-bangalore-bengaluru-3-to-4-years-290322500343', 'https://www.naukri.com/job-listings-ml-engineer-seven-consultancy-hr-solution-mumbai-2-to-5-years-290322500339', 'https://www.naukri.com/job-listings-senior-ml-engineer-seven-consultancy-hr-solution-mumbai-4-to-9-years-290322500154', 'https://www.naukri.com/job-listings-data-scientist-wockhardt-mumbai-all-areas-5-to-8-years-040423003661', 'https://www.naukri.com/job-listings-data-scientists-fugetron-corporation-mumbai-all-areas-7-to-12-years-040523004786', 'https://www.naukri.com/job-listings-machine-learning-engineer-incorpway-ahmedabad-1-to-6-years-270423008786', 'https://www.naukri.com/job-listings-data-scientist-nms-consultant-gurgaon-gurugram-6-to-11-years-310323603696', 'https://www.naukri.com/job-listings-al-ml-video-analytics-engineer-ave-promagne-indore-1-to-5-years-040523908328', 'https://www.naukri.com/job-listings-machine-learning-ai-platform-engineer-accenture-solutions-pvt-ltd-bangalore-bengaluru-12-to-15-years-050523908784', 'https://www.naukri.com/job-listings-data-scientist-python-ml-dl-ave-promagne-noida-mumbai-pune-chennai-bangalore-bengaluru-assam-sikkim-manipur-2-to-4-years-040523908280', 'https://www.naukri.com/job-listings-hiring-data-scientist-ai-ml-noida-hyderabad-r1rcm-r1-rcm-noida-hyderabad-secunderabad-delhi-ncr-6-to-11-years-030423006041', 'https://www.naukri.com/job-listings-machine-learning-ml-engineer-online-manufacturing-mumbai-4-to-9-years-040422500132', 'https://www.naukri.com/job-listings-ml-engineer-seven-consultancy-hr-solution-chennai-3-to-4-years-301122502483', 'https://www.naukri.com/job-listings-junior-ml-engineer-seven-consultancy-hr-solution-chennai-4-to-9-years-290322500030', 'https://www.naukri.com/job-listings-ml-engineer-seven-consultancy-hr-solution-new-delhi-2-to-7-years-280322502427', 'https://www.naukri.com/job-listings-junior-ml-engineer-seven-consultancy-hr-solution-new-delhi-1-to-6-years-280322502399', 'https://www.naukri.com/job-listings-ml-engineer-copperpod-digital-kolkata-mumbai-new-delhi-hyderabad-secunderabad-pune-chennai-bangalore-bengaluru-2-to-5-years-060423501641', 'https://www.naukri.com/job-listings-ml-engineer-seven-consultancy-hr-solution-new-delhi-2-to-5-years-301122502480', 'https://www.naukri.com/job-listings-junior-ml-engineer-seven-consultancy-hr-solution-bangalore-bengaluru-4-to-5-years-290322500359', 'https://www.naukri.com/job-listings-senior-ml-engineer-seven-consultancy-hr-solution-new-delhi-4-to-8-years-290322500347', 'https://www.naukri.com/job-listings-ml-engineer-seven-consultancy-hr-solution-bangalore-bengaluru-3-to-4-years-290322500343', 'https://www.naukri.com/job-listings-ml-engineer-seven-consultancy-hr-solution-mumbai-2-to-5-years-290322500339', 'https://www.naukri.com/job-listings-senior-ml-engineer-seven-consultancy-hr-solution-mumbai-4-to-9-years-290322500154', 'https://www.naukri.com/job-listings-data-scientist-wockhardt-mumbai-all-areas-5-to-8-years-040423003661', 'https://www.naukri.com/job-listings-data-scientists-fugetron-corporation-mumbai-all-areas-7-to-12-years-040523004786', 'https://www.naukri.com/job-listings-machine-learning-engineer-incorpway-ahmedabad-1-to-6-years-270423008786', 'https://www.naukri.com/job-listings-data-scientist-nms-consultant-gurgaon-gurugram-6-to-11-years-310323603696', 'https://www.naukri.com/job-listings-al-ml-video-analytics-engineer-ave-promagne-indore-1-to-5-years-040523908328', 'https://www.naukri.com/job-listings-machine-learning-ai-platform-engineer-accenture-solutions-pvt-ltd-bangalore-bengaluru-12-to-15-years-050523908784', 'https://www.naukri.com/job-listings-data-scientist-python-ml-dl-ave-promagne-noida-mumbai-pune-chennai-bangalore-bengaluru-assam-sikkim-manipur-2-to-4-years-040523908280', 'https://www.naukri.com/job-listings-hiring-data-scientist-ai-ml-noida-hyderabad-r1rcm-r1-rcm-noida-hyderabad-secunderabad-delhi-ncr-6-to-11-years-030423006041', 'https://www.naukri.com/job-listings-machine-learning-ml-engineer-online-manufacturing-mumbai-4-to-9-years-040422500132', 'https://www.naukri.com/job-listings-ml-engineer-seven-consultancy-hr-solution-chennai-3-to-4-years-301122502483', 'https://www.naukri.com/job-listings-junior-ml-engineer-seven-consultancy-hr-solution-chennai-4-to-9-years-290322500030', 'https://www.naukri.com/job-listings-ml-engineer-seven-consultancy-hr-solution-new-delhi-2-to-7-years-280322502427', 'https://www.naukri.com/job-listings-junior-ml-engineer-seven-consultancy-hr-solution-new-delhi-1-to-6-years-280322502399', 'https://www.naukri.com/job-listings-ml-engineer-copperpod-digital-kolkata-mumbai-new-delhi-hyderabad-secunderabad-pune-chennai-bangalore-bengaluru-2-to-5-years-060423501641', 'https://www.naukri.com/job-listings-ml-engineer-seven-consultancy-hr-solution-new-delhi-2-to-5-years-301122502480', 'https://www.naukri.com/job-listings-junior-ml-engineer-seven-consultancy-hr-solution-bangalore-bengaluru-4-to-5-years-290322500359', 'https://www.naukri.com/job-listings-senior-ml-engineer-seven-consultancy-hr-solution-new-delhi-4-to-8-years-290322500347', 'https://www.naukri.com/job-listings-ml-engineer-seven-consultancy-hr-solution-bangalore-bengaluru-3-to-4-years-290322500343', 'https://www.naukri.com/job-listings-ml-engineer-seven-consultancy-hr-solution-mumbai-2-to-5-years-290322500339', 'https://www.naukri.com/job-listings-senior-ml-engineer-seven-consultancy-hr-solution-mumbai-4-to-9-years-290322500154', 'https://www.naukri.com/job-listings-data-scientist-wockhardt-mumbai-all-areas-5-to-8-years-040423003661', 'https://www.naukri.com/job-listings-data-scientists-fugetron-corporation-mumbai-all-areas-7-to-12-years-040523004786', 'https://www.naukri.com/job-listings-machine-learning-engineer-incorpway-ahmedabad-1-to-6-years-270423008786', 'https://www.naukri.com/job-listings-data-scientist-nms-consultant-gurgaon-gurugram-6-to-11-years-310323603696', 'https://www.naukri.com/job-listings-al-ml-video-analytics-engineer-ave-promagne-indore-1-to-5-years-040523908328', 'https://www.naukri.com/job-listings-machine-learning-ai-platform-engineer-accenture-solutions-pvt-ltd-bangalore-bengaluru-12-to-15-years-050523908784', 'https://www.naukri.com/job-listings-data-scientist-python-ml-dl-ave-promagne-noida-mumbai-pune-chennai-bangalore-bengaluru-assam-sikkim-manipur-2-to-4-years-040523908280', 'https://www.naukri.com/job-listings-hiring-data-scientist-ai-ml-noida-hyderabad-r1rcm-r1-rcm-noida-hyderabad-secunderabad-delhi-ncr-6-to-11-years-030423006041', 'https://www.naukri.com/job-listings-machine-learning-ml-engineer-online-manufacturing-mumbai-4-to-9-years-040422500132', 'https://www.naukri.com/job-listings-ml-engineer-seven-consultancy-hr-solution-chennai-3-to-4-years-301122502483', 'https://www.naukri.com/job-listings-junior-ml-engineer-seven-consultancy-hr-solution-chennai-4-to-9-years-290322500030', 'https://www.naukri.com/job-listings-ml-engineer-seven-consultancy-hr-solution-new-delhi-2-to-7-years-280322502427', 'https://www.naukri.com/job-listings-junior-ml-engineer-seven-consultancy-hr-solution-new-delhi-1-to-6-years-280322502399', 'https://www.naukri.com/job-listings-ml-engineer-copperpod-digital-kolkata-mumbai-new-delhi-hyderabad-secunderabad-pune-chennai-bangalore-bengaluru-2-to-5-years-060423501641', 'https://www.naukri.com/job-listings-ml-engineer-seven-consultancy-hr-solution-new-delhi-2-to-5-years-301122502480', 'https://www.naukri.com/job-listings-junior-ml-engineer-seven-consultancy-hr-solution-bangalore-bengaluru-4-to-5-years-290322500359', 'https://www.naukri.com/job-listings-senior-ml-engineer-seven-consultancy-hr-solution-new-delhi-4-to-8-years-290322500347', 'https://www.naukri.com/job-listings-ml-engineer-seven-consultancy-hr-solution-bangalore-bengaluru-3-to-4-years-290322500343', 'https://www.naukri.com/job-listings-ml-engineer-seven-consultancy-hr-solution-mumbai-2-to-5-years-290322500339', 'https://www.naukri.com/job-listings-senior-ml-engineer-seven-consultancy-hr-solution-mumbai-4-to-9-years-290322500154', 'https://www.naukri.com/job-listings-data-scientist-wockhardt-mumbai-all-areas-5-to-8-years-040423003661', 'https://www.naukri.com/job-listings-data-scientists-fugetron-corporation-mumbai-all-areas-7-to-12-years-040523004786', 'https://www.naukri.com/job-listings-machine-learning-engineer-incorpway-ahmedabad-1-to-6-years-270423008786', 'https://www.naukri.com/job-listings-data-scientist-nms-consultant-gurgaon-gurugram-6-to-11-years-310323603696', 'https://www.naukri.com/job-listings-al-ml-video-analytics-engineer-ave-promagne-indore-1-to-5-years-040523908328', 'https://www.naukri.com/job-listings-machine-learning-ai-platform-engineer-accenture-solutions-pvt-ltd-bangalore-bengaluru-12-to-15-years-050523908784', 'https://www.naukri.com/job-listings-data-scientist-python-ml-dl-ave-promagne-noida-mumbai-pune-chennai-bangalore-bengaluru-assam-sikkim-manipur-2-to-4-years-040523908280', 'https://www.naukri.com/job-listings-hiring-data-scientist-ai-ml-noida-hyderabad-r1rcm-r1-rcm-noida-hyderabad-secunderabad-delhi-ncr-6-to-11-years-030423006041', 'https://www.naukri.com/job-listings-machine-learning-ml-engineer-online-manufacturing-mumbai-4-to-9-years-040422500132', 'https://www.naukri.com/job-listings-ml-engineer-seven-consultancy-hr-solution-chennai-3-to-4-years-301122502483', 'https://www.naukri.com/job-listings-junior-ml-engineer-seven-consultancy-hr-solution-chennai-4-to-9-years-290322500030', 'https://www.naukri.com/job-listings-ml-engineer-seven-consultancy-hr-solution-new-delhi-2-to-7-years-280322502427', 'https://www.naukri.com/job-listings-junior-ml-engineer-seven-consultancy-hr-solution-new-delhi-1-to-6-years-280322502399', 'https://www.naukri.com/job-listings-ml-engineer-copperpod-digital-kolkata-mumbai-new-delhi-hyderabad-secunderabad-pune-chennai-bangalore-bengaluru-2-to-5-years-060423501641', 'https://www.naukri.com/job-listings-ml-engineer-seven-consultancy-hr-solution-new-delhi-2-to-5-years-301122502480', 'https://www.naukri.com/job-listings-junior-ml-engineer-seven-consultancy-hr-solution-bangalore-bengaluru-4-to-5-years-290322500359', 'https://www.naukri.com/job-listings-senior-ml-engineer-seven-consultancy-hr-solution-new-delhi-4-to-8-years-290322500347', 'https://www.naukri.com/job-listings-ml-engineer-seven-consultancy-hr-solution-bangalore-bengaluru-3-to-4-years-290322500343', 'https://www.naukri.com/job-listings-ml-engineer-seven-consultancy-hr-solution-mumbai-2-to-5-years-290322500339', 'https://www.naukri.com/job-listings-senior-ml-engineer-seven-consultancy-hr-solution-mumbai-4-to-9-years-290322500154', 'https://www.naukri.com/job-listings-data-scientist-wockhardt-mumbai-all-areas-5-to-8-years-040423003661', 'https://www.naukri.com/job-listings-data-scientists-fugetron-corporation-mumbai-all-areas-7-to-12-years-040523004786', 'https://www.naukri.com/job-listings-machine-learning-engineer-incorpway-ahmedabad-1-to-6-years-270423008786', 'https://www.naukri.com/job-listings-data-scientist-nms-consultant-gurgaon-gurugram-6-to-11-years-310323603696', 'https://www.naukri.com/job-listings-al-ml-video-analytics-engineer-ave-promagne-indore-1-to-5-years-040523908328', 'https://www.naukri.com/job-listings-machine-learning-ai-platform-engineer-accenture-solutions-pvt-ltd-bangalore-bengaluru-12-to-15-years-050523908784', 'https://www.naukri.com/job-listings-data-scientist-python-ml-dl-ave-promagne-noida-mumbai-pune-chennai-bangalore-bengaluru-assam-sikkim-manipur-2-to-4-years-040523908280', 'https://www.naukri.com/job-listings-hiring-data-scientist-ai-ml-noida-hyderabad-r1rcm-r1-rcm-noida-hyderabad-secunderabad-delhi-ncr-6-to-11-years-030423006041', 'https://www.naukri.com/job-listings-machine-learning-ml-engineer-online-manufacturing-mumbai-4-to-9-years-040422500132', 'https://www.naukri.com/job-listings-ml-engineer-seven-consultancy-hr-solution-chennai-3-to-4-years-301122502483', 'https://www.naukri.com/job-listings-junior-ml-engineer-seven-consultancy-hr-solution-chennai-4-to-9-years-290322500030', 'https://www.naukri.com/job-listings-ml-engineer-seven-consultancy-hr-solution-new-delhi-2-to-7-years-280322502427', 'https://www.naukri.com/job-listings-junior-ml-engineer-seven-consultancy-hr-solution-new-delhi-1-to-6-years-280322502399', 'https://www.naukri.com/job-listings-ml-engineer-copperpod-digital-kolkata-mumbai-new-delhi-hyderabad-secunderabad-pune-chennai-bangalore-bengaluru-2-to-5-years-060423501641', 'https://www.naukri.com/job-listings-ml-engineer-seven-consultancy-hr-solution-new-delhi-2-to-5-years-301122502480', 'https://www.naukri.com/job-listings-junior-ml-engineer-seven-consultancy-hr-solution-bangalore-bengaluru-4-to-5-years-290322500359', 'https://www.naukri.com/job-listings-senior-ml-engineer-seven-consultancy-hr-solution-new-delhi-4-to-8-years-290322500347', 'https://www.naukri.com/job-listings-ml-engineer-seven-consultancy-hr-solution-bangalore-bengaluru-3-to-4-years-290322500343', 'https://www.naukri.com/job-listings-ml-engineer-seven-consultancy-hr-solution-mumbai-2-to-5-years-290322500339', 'https://www.naukri.com/job-listings-senior-ml-engineer-seven-consultancy-hr-solution-mumbai-4-to-9-years-290322500154', 'https://www.naukri.com/job-listings-data-scientist-wockhardt-mumbai-all-areas-5-to-8-years-040423003661', 'https://www.naukri.com/job-listings-data-scientists-fugetron-corporation-mumbai-all-areas-7-to-12-years-040523004786', 'https://www.naukri.com/job-listings-machine-learning-engineer-incorpway-ahmedabad-1-to-6-years-270423008786', 'https://www.naukri.com/job-listings-data-scientist-nms-consultant-gurgaon-gurugram-6-to-11-years-310323603696', 'https://www.naukri.com/job-listings-al-ml-video-analytics-engineer-ave-promagne-indore-1-to-5-years-040523908328', 'https://www.naukri.com/job-listings-machine-learning-ai-platform-engineer-accenture-solutions-pvt-ltd-bangalore-bengaluru-12-to-15-years-050523908784', 'https://www.naukri.com/job-listings-data-scientist-python-ml-dl-ave-promagne-noida-mumbai-pune-chennai-bangalore-bengaluru-assam-sikkim-manipur-2-to-4-years-040523908280', 'https://www.naukri.com/job-listings-hiring-data-scientist-ai-ml-noida-hyderabad-r1rcm-r1-rcm-noida-hyderabad-secunderabad-delhi-ncr-6-to-11-years-030423006041', 'https://www.naukri.com/job-listings-machine-learning-ml-engineer-online-manufacturing-mumbai-4-to-9-years-040422500132', 'https://www.naukri.com/job-listings-ml-engineer-seven-consultancy-hr-solution-chennai-3-to-4-years-301122502483', 'https://www.naukri.com/job-listings-junior-ml-engineer-seven-consultancy-hr-solution-chennai-4-to-9-years-290322500030', 'https://www.naukri.com/job-listings-ml-engineer-seven-consultancy-hr-solution-new-delhi-2-to-7-years-280322502427', 'https://www.naukri.com/job-listings-junior-ml-engineer-seven-consultancy-hr-solution-new-delhi-1-to-6-years-280322502399', 'https://www.naukri.com/job-listings-ml-engineer-copperpod-digital-kolkata-mumbai-new-delhi-hyderabad-secunderabad-pune-chennai-bangalore-bengaluru-2-to-5-years-060423501641', 'https://www.naukri.com/job-listings-ml-engineer-seven-consultancy-hr-solution-new-delhi-2-to-5-years-301122502480', 'https://www.naukri.com/job-listings-junior-ml-engineer-seven-consultancy-hr-solution-bangalore-bengaluru-4-to-5-years-290322500359', 'https://www.naukri.com/job-listings-senior-ml-engineer-seven-consultancy-hr-solution-new-delhi-4-to-8-years-290322500347', 'https://www.naukri.com/job-listings-ml-engineer-seven-consultancy-hr-solution-bangalore-bengaluru-3-to-4-years-290322500343', 'https://www.naukri.com/job-listings-ml-engineer-seven-consultancy-hr-solution-mumbai-2-to-5-years-290322500339', 'https://www.naukri.com/job-listings-senior-ml-engineer-seven-consultancy-hr-solution-mumbai-4-to-9-years-290322500154', 'https://www.naukri.com/job-listings-data-scientist-wockhardt-mumbai-all-areas-5-to-8-years-040423003661', 'https://www.naukri.com/job-listings-data-scientists-fugetron-corporation-mumbai-all-areas-7-to-12-years-040523004786', 'https://www.naukri.com/job-listings-machine-learning-engineer-incorpway-ahmedabad-1-to-6-years-270423008786', 'https://www.naukri.com/job-listings-data-scientist-nms-consultant-gurgaon-gurugram-6-to-11-years-310323603696', 'https://www.naukri.com/job-listings-al-ml-video-analytics-engineer-ave-promagne-indore-1-to-5-years-040523908328', 'https://www.naukri.com/job-listings-machine-learning-ai-platform-engineer-accenture-solutions-pvt-ltd-bangalore-bengaluru-12-to-15-years-050523908784', 'https://www.naukri.com/job-listings-data-scientist-python-ml-dl-ave-promagne-noida-mumbai-pune-chennai-bangalore-bengaluru-assam-sikkim-manipur-2-to-4-years-040523908280', 'https://www.naukri.com/job-listings-hiring-data-scientist-ai-ml-noida-hyderabad-r1rcm-r1-rcm-noida-hyderabad-secunderabad-delhi-ncr-6-to-11-years-030423006041', 'https://www.naukri.com/job-listings-machine-learning-ml-engineer-online-manufacturing-mumbai-4-to-9-years-040422500132', 'https://www.naukri.com/job-listings-ml-engineer-seven-consultancy-hr-solution-chennai-3-to-4-years-301122502483', 'https://www.naukri.com/job-listings-junior-ml-engineer-seven-consultancy-hr-solution-chennai-4-to-9-years-290322500030', 'https://www.naukri.com/job-listings-ml-engineer-seven-consultancy-hr-solution-new-delhi-2-to-7-years-280322502427', 'https://www.naukri.com/job-listings-junior-ml-engineer-seven-consultancy-hr-solution-new-delhi-1-to-6-years-280322502399', 'https://www.naukri.com/job-listings-ml-engineer-copperpod-digital-kolkata-mumbai-new-delhi-hyderabad-secunderabad-pune-chennai-bangalore-bengaluru-2-to-5-years-060423501641', 'https://www.naukri.com/job-listings-ml-engineer-seven-consultancy-hr-solution-new-delhi-2-to-5-years-301122502480', 'https://www.naukri.com/job-listings-junior-ml-engineer-seven-consultancy-hr-solution-bangalore-bengaluru-4-to-5-years-290322500359', 'https://www.naukri.com/job-listings-senior-ml-engineer-seven-consultancy-hr-solution-new-delhi-4-to-8-years-290322500347', 'https://www.naukri.com/job-listings-ml-engineer-seven-consultancy-hr-solution-bangalore-bengaluru-3-to-4-years-290322500343', 'https://www.naukri.com/job-listings-ml-engineer-seven-consultancy-hr-solution-mumbai-2-to-5-years-290322500339', 'https://www.naukri.com/job-listings-senior-ml-engineer-seven-consultancy-hr-solution-mumbai-4-to-9-years-290322500154', 'https://www.naukri.com/job-listings-data-scientist-wockhardt-mumbai-all-areas-5-to-8-years-040423003661', 'https://www.naukri.com/job-listings-data-scientists-fugetron-corporation-mumbai-all-areas-7-to-12-years-040523004786', 'https://www.naukri.com/job-listings-machine-learning-engineer-incorpway-ahmedabad-1-to-6-years-270423008786', 'https://www.naukri.com/job-listings-data-scientist-nms-consultant-gurgaon-gurugram-6-to-11-years-310323603696', 'https://www.naukri.com/job-listings-al-ml-video-analytics-engineer-ave-promagne-indore-1-to-5-years-040523908328', 'https://www.naukri.com/job-listings-machine-learning-ai-platform-engineer-accenture-solutions-pvt-ltd-bangalore-bengaluru-12-to-15-years-050523908784', 'https://www.naukri.com/job-listings-data-scientist-python-ml-dl-ave-promagne-noida-mumbai-pune-chennai-bangalore-bengaluru-assam-sikkim-manipur-2-to-4-years-040523908280', 'https://www.naukri.com/job-listings-hiring-data-scientist-ai-ml-noida-hyderabad-r1rcm-r1-rcm-noida-hyderabad-secunderabad-delhi-ncr-6-to-11-years-030423006041', 'https://www.naukri.com/job-listings-machine-learning-ml-engineer-online-manufacturing-mumbai-4-to-9-years-040422500132', 'https://www.naukri.com/job-listings-ml-engineer-seven-consultancy-hr-solution-chennai-3-to-4-years-301122502483', 'https://www.naukri.com/job-listings-junior-ml-engineer-seven-consultancy-hr-solution-chennai-4-to-9-years-290322500030', 'https://www.naukri.com/job-listings-ml-engineer-seven-consultancy-hr-solution-new-delhi-2-to-7-years-280322502427', 'https://www.naukri.com/job-listings-junior-ml-engineer-seven-consultancy-hr-solution-new-delhi-1-to-6-years-280322502399', 'https://www.naukri.com/job-listings-ml-engineer-copperpod-digital-kolkata-mumbai-new-delhi-hyderabad-secunderabad-pune-chennai-bangalore-bengaluru-2-to-5-years-060423501641', 'https://www.naukri.com/job-listings-ml-engineer-seven-consultancy-hr-solution-new-delhi-2-to-5-years-301122502480', 'https://www.naukri.com/job-listings-junior-ml-engineer-seven-consultancy-hr-solution-bangalore-bengaluru-4-to-5-years-290322500359', 'https://www.naukri.com/job-listings-senior-ml-engineer-seven-consultancy-hr-solution-new-delhi-4-to-8-years-290322500347', 'https://www.naukri.com/job-listings-ml-engineer-seven-consultancy-hr-solution-bangalore-bengaluru-3-to-4-years-290322500343', 'https://www.naukri.com/job-listings-ml-engineer-seven-consultancy-hr-solution-mumbai-2-to-5-years-290322500339', 'https://www.naukri.com/job-listings-senior-ml-engineer-seven-consultancy-hr-solution-mumbai-4-to-9-years-290322500154', 'https://www.naukri.com/job-listings-data-scientist-wockhardt-mumbai-all-areas-5-to-8-years-040423003661', 'https://www.naukri.com/job-listings-data-scientists-fugetron-corporation-mumbai-all-areas-7-to-12-years-040523004786', 'https://www.naukri.com/job-listings-machine-learning-engineer-incorpway-ahmedabad-1-to-6-years-270423008786', 'https://www.naukri.com/job-listings-data-scientist-nms-consultant-gurgaon-gurugram-6-to-11-years-310323603696', 'https://www.naukri.com/job-listings-al-ml-video-analytics-engineer-ave-promagne-indore-1-to-5-years-040523908328', 'https://www.naukri.com/job-listings-machine-learning-ai-platform-engineer-accenture-solutions-pvt-ltd-bangalore-bengaluru-12-to-15-years-050523908784', 'https://www.naukri.com/job-listings-data-scientist-python-ml-dl-ave-promagne-noida-mumbai-pune-chennai-bangalore-bengaluru-assam-sikkim-manipur-2-to-4-years-040523908280', 'https://www.naukri.com/job-listings-hiring-data-scientist-ai-ml-noida-hyderabad-r1rcm-r1-rcm-noida-hyderabad-secunderabad-delhi-ncr-6-to-11-years-030423006041', 'https://www.naukri.com/job-listings-machine-learning-ml-engineer-online-manufacturing-mumbai-4-to-9-years-040422500132', 'https://www.naukri.com/job-listings-ml-engineer-seven-consultancy-hr-solution-chennai-3-to-4-years-301122502483', 'https://www.naukri.com/job-listings-junior-ml-engineer-seven-consultancy-hr-solution-chennai-4-to-9-years-290322500030', 'https://www.naukri.com/job-listings-ml-engineer-seven-consultancy-hr-solution-new-delhi-2-to-7-years-280322502427', 'https://www.naukri.com/job-listings-junior-ml-engineer-seven-consultancy-hr-solution-new-delhi-1-to-6-years-280322502399', 'https://www.naukri.com/job-listings-ml-engineer-copperpod-digital-kolkata-mumbai-new-delhi-hyderabad-secunderabad-pune-chennai-bangalore-bengaluru-2-to-5-years-060423501641', 'https://www.naukri.com/job-listings-ml-engineer-seven-consultancy-hr-solution-new-delhi-2-to-5-years-301122502480', 'https://www.naukri.com/job-listings-junior-ml-engineer-seven-consultancy-hr-solution-bangalore-bengaluru-4-to-5-years-290322500359', 'https://www.naukri.com/job-listings-senior-ml-engineer-seven-consultancy-hr-solution-new-delhi-4-to-8-years-290322500347', 'https://www.naukri.com/job-listings-ml-engineer-seven-consultancy-hr-solution-bangalore-bengaluru-3-to-4-years-290322500343', 'https://www.naukri.com/job-listings-ml-engineer-seven-consultancy-hr-solution-mumbai-2-to-5-years-290322500339', 'https://www.naukri.com/job-listings-senior-ml-engineer-seven-consultancy-hr-solution-mumbai-4-to-9-years-290322500154', 'https://www.naukri.com/job-listings-data-scientist-wockhardt-mumbai-all-areas-5-to-8-years-040423003661', 'https://www.naukri.com/job-listings-data-scientists-fugetron-corporation-mumbai-all-areas-7-to-12-years-040523004786', 'https://www.naukri.com/job-listings-machine-learning-engineer-incorpway-ahmedabad-1-to-6-years-270423008786', 'https://www.naukri.com/job-listings-data-scientist-nms-consultant-gurgaon-gurugram-6-to-11-years-310323603696', 'https://www.naukri.com/job-listings-al-ml-video-analytics-engineer-ave-promagne-indore-1-to-5-years-040523908328', 'https://www.naukri.com/job-listings-machine-learning-ai-platform-engineer-accenture-solutions-pvt-ltd-bangalore-bengaluru-12-to-15-years-050523908784', 'https://www.naukri.com/job-listings-data-scientist-python-ml-dl-ave-promagne-noida-mumbai-pune-chennai-bangalore-bengaluru-assam-sikkim-manipur-2-to-4-years-040523908280', 'https://www.naukri.com/job-listings-hiring-data-scientist-ai-ml-noida-hyderabad-r1rcm-r1-rcm-noida-hyderabad-secunderabad-delhi-ncr-6-to-11-years-030423006041', 'https://www.naukri.com/job-listings-machine-learning-ml-engineer-online-manufacturing-mumbai-4-to-9-years-040422500132', 'https://www.naukri.com/job-listings-ml-engineer-seven-consultancy-hr-solution-chennai-3-to-4-years-301122502483', 'https://www.naukri.com/job-listings-junior-ml-engineer-seven-consultancy-hr-solution-chennai-4-to-9-years-290322500030', 'https://www.naukri.com/job-listings-ml-engineer-seven-consultancy-hr-solution-new-delhi-2-to-7-years-280322502427', 'https://www.naukri.com/job-listings-junior-ml-engineer-seven-consultancy-hr-solution-new-delhi-1-to-6-years-280322502399', 'https://www.naukri.com/job-listings-ml-engineer-copperpod-digital-kolkata-mumbai-new-delhi-hyderabad-secunderabad-pune-chennai-bangalore-bengaluru-2-to-5-years-060423501641', 'https://www.naukri.com/job-listings-ml-engineer-seven-consultancy-hr-solution-new-delhi-2-to-5-years-301122502480', 'https://www.naukri.com/job-listings-junior-ml-engineer-seven-consultancy-hr-solution-bangalore-bengaluru-4-to-5-years-290322500359', 'https://www.naukri.com/job-listings-senior-ml-engineer-seven-consultancy-hr-solution-new-delhi-4-to-8-years-290322500347', 'https://www.naukri.com/job-listings-ml-engineer-seven-consultancy-hr-solution-bangalore-bengaluru-3-to-4-years-290322500343', 'https://www.naukri.com/job-listings-ml-engineer-seven-consultancy-hr-solution-mumbai-2-to-5-years-290322500339', 'https://www.naukri.com/job-listings-senior-ml-engineer-seven-consultancy-hr-solution-mumbai-4-to-9-years-290322500154', 'https://www.naukri.com/job-listings-data-scientist-wockhardt-mumbai-all-areas-5-to-8-years-040423003661', 'https://www.naukri.com/job-listings-data-scientists-fugetron-corporation-mumbai-all-areas-7-to-12-years-040523004786', 'https://www.naukri.com/job-listings-machine-learning-engineer-incorpway-ahmedabad-1-to-6-years-270423008786', 'https://www.naukri.com/job-listings-data-scientist-nms-consultant-gurgaon-gurugram-6-to-11-years-310323603696', 'https://www.naukri.com/job-listings-al-ml-video-analytics-engineer-ave-promagne-indore-1-to-5-years-040523908328', 'https://www.naukri.com/job-listings-machine-learning-ai-platform-engineer-accenture-solutions-pvt-ltd-bangalore-bengaluru-12-to-15-years-050523908784', 'https://www.naukri.com/job-listings-data-scientist-python-ml-dl-ave-promagne-noida-mumbai-pune-chennai-bangalore-bengaluru-assam-sikkim-manipur-2-to-4-years-040523908280', 'https://www.naukri.com/job-listings-hiring-data-scientist-ai-ml-noida-hyderabad-r1rcm-r1-rcm-noida-hyderabad-secunderabad-delhi-ncr-6-to-11-years-030423006041', 'https://www.naukri.com/job-listings-machine-learning-ml-engineer-online-manufacturing-mumbai-4-to-9-years-040422500132', 'https://www.naukri.com/job-listings-ml-engineer-seven-consultancy-hr-solution-chennai-3-to-4-years-301122502483', 'https://www.naukri.com/job-listings-junior-ml-engineer-seven-consultancy-hr-solution-chennai-4-to-9-years-290322500030', 'https://www.naukri.com/job-listings-ml-engineer-seven-consultancy-hr-solution-new-delhi-2-to-7-years-280322502427', 'https://www.naukri.com/job-listings-junior-ml-engineer-seven-consultancy-hr-solution-new-delhi-1-to-6-years-280322502399', 'https://www.naukri.com/job-listings-ml-engineer-copperpod-digital-kolkata-mumbai-new-delhi-hyderabad-secunderabad-pune-chennai-bangalore-bengaluru-2-to-5-years-060423501641', 'https://www.naukri.com/job-listings-ml-engineer-seven-consultancy-hr-solution-new-delhi-2-to-5-years-301122502480', 'https://www.naukri.com/job-listings-junior-ml-engineer-seven-consultancy-hr-solution-bangalore-bengaluru-4-to-5-years-290322500359', 'https://www.naukri.com/job-listings-senior-ml-engineer-seven-consultancy-hr-solution-new-delhi-4-to-8-years-290322500347', 'https://www.naukri.com/job-listings-ml-engineer-seven-consultancy-hr-solution-bangalore-bengaluru-3-to-4-years-290322500343', 'https://www.naukri.com/job-listings-ml-engineer-seven-consultancy-hr-solution-mumbai-2-to-5-years-290322500339', 'https://www.naukri.com/job-listings-senior-ml-engineer-seven-consultancy-hr-solution-mumbai-4-to-9-years-290322500154', 'https://www.naukri.com/job-listings-data-scientist-wockhardt-mumbai-all-areas-5-to-8-years-040423003661', 'https://www.naukri.com/job-listings-data-scientists-fugetron-corporation-mumbai-all-areas-7-to-12-years-040523004786', 'https://www.naukri.com/job-listings-machine-learning-engineer-incorpway-ahmedabad-1-to-6-years-270423008786', 'https://www.naukri.com/job-listings-data-scientist-nms-consultant-gurgaon-gurugram-6-to-11-years-310323603696', 'https://www.naukri.com/job-listings-al-ml-video-analytics-engineer-ave-promagne-indore-1-to-5-years-040523908328', 'https://www.naukri.com/job-listings-machine-learning-ai-platform-engineer-accenture-solutions-pvt-ltd-bangalore-bengaluru-12-to-15-years-050523908784', 'https://www.naukri.com/job-listings-data-scientist-python-ml-dl-ave-promagne-noida-mumbai-pune-chennai-bangalore-bengaluru-assam-sikkim-manipur-2-to-4-years-040523908280', 'https://www.naukri.com/job-listings-hiring-data-scientist-ai-ml-noida-hyderabad-r1rcm-r1-rcm-noida-hyderabad-secunderabad-delhi-ncr-6-to-11-years-030423006041', 'https://www.naukri.com/job-listings-machine-learning-ml-engineer-online-manufacturing-mumbai-4-to-9-years-040422500132', 'https://www.naukri.com/job-listings-ml-engineer-seven-consultancy-hr-solution-chennai-3-to-4-years-301122502483', 'https://www.naukri.com/job-listings-junior-ml-engineer-seven-consultancy-hr-solution-chennai-4-to-9-years-290322500030', 'https://www.naukri.com/job-listings-ml-engineer-seven-consultancy-hr-solution-new-delhi-2-to-7-years-280322502427', 'https://www.naukri.com/job-listings-junior-ml-engineer-seven-consultancy-hr-solution-new-delhi-1-to-6-years-280322502399', 'https://www.naukri.com/job-listings-ml-engineer-copperpod-digital-kolkata-mumbai-new-delhi-hyderabad-secunderabad-pune-chennai-bangalore-bengaluru-2-to-5-years-060423501641', 'https://www.naukri.com/job-listings-ml-engineer-seven-consultancy-hr-solution-new-delhi-2-to-5-years-301122502480', 'https://www.naukri.com/job-listings-junior-ml-engineer-seven-consultancy-hr-solution-bangalore-bengaluru-4-to-5-years-290322500359', 'https://www.naukri.com/job-listings-senior-ml-engineer-seven-consultancy-hr-solution-new-delhi-4-to-8-years-290322500347', 'https://www.naukri.com/job-listings-ml-engineer-seven-consultancy-hr-solution-bangalore-bengaluru-3-to-4-years-290322500343', 'https://www.naukri.com/job-listings-ml-engineer-seven-consultancy-hr-solution-mumbai-2-to-5-years-290322500339', 'https://www.naukri.com/job-listings-senior-ml-engineer-seven-consultancy-hr-solution-mumbai-4-to-9-years-290322500154', 'https://www.naukri.com/job-listings-data-scientist-wockhardt-mumbai-all-areas-5-to-8-years-040423003661', 'https://www.naukri.com/job-listings-data-scientists-fugetron-corporation-mumbai-all-areas-7-to-12-years-040523004786', 'https://www.naukri.com/job-listings-machine-learning-engineer-incorpway-ahmedabad-1-to-6-years-270423008786', 'https://www.naukri.com/job-listings-data-scientist-nms-consultant-gurgaon-gurugram-6-to-11-years-310323603696', 'https://www.naukri.com/job-listings-al-ml-video-analytics-engineer-ave-promagne-indore-1-to-5-years-040523908328', 'https://www.naukri.com/job-listings-machine-learning-ai-platform-engineer-accenture-solutions-pvt-ltd-bangalore-bengaluru-12-to-15-years-050523908784', 'https://www.naukri.com/job-listings-data-scientist-python-ml-dl-ave-promagne-noida-mumbai-pune-chennai-bangalore-bengaluru-assam-sikkim-manipur-2-to-4-years-040523908280', 'https://www.naukri.com/job-listings-hiring-data-scientist-ai-ml-noida-hyderabad-r1rcm-r1-rcm-noida-hyderabad-secunderabad-delhi-ncr-6-to-11-years-030423006041', 'https://www.naukri.com/job-listings-machine-learning-ml-engineer-online-manufacturing-mumbai-4-to-9-years-040422500132', 'https://www.naukri.com/job-listings-ml-engineer-seven-consultancy-hr-solution-chennai-3-to-4-years-301122502483', 'https://www.naukri.com/job-listings-junior-ml-engineer-seven-consultancy-hr-solution-chennai-4-to-9-years-290322500030', 'https://www.naukri.com/job-listings-ml-engineer-seven-consultancy-hr-solution-new-delhi-2-to-7-years-280322502427', 'https://www.naukri.com/job-listings-junior-ml-engineer-seven-consultancy-hr-solution-new-delhi-1-to-6-years-280322502399', 'https://www.naukri.com/job-listings-ml-engineer-copperpod-digital-kolkata-mumbai-new-delhi-hyderabad-secunderabad-pune-chennai-bangalore-bengaluru-2-to-5-years-060423501641', 'https://www.naukri.com/job-listings-ml-engineer-seven-consultancy-hr-solution-new-delhi-2-to-5-years-301122502480', 'https://www.naukri.com/job-listings-junior-ml-engineer-seven-consultancy-hr-solution-bangalore-bengaluru-4-to-5-years-290322500359', 'https://www.naukri.com/job-listings-senior-ml-engineer-seven-consultancy-hr-solution-new-delhi-4-to-8-years-290322500347', 'https://www.naukri.com/job-listings-ml-engineer-seven-consultancy-hr-solution-bangalore-bengaluru-3-to-4-years-290322500343', 'https://www.naukri.com/job-listings-ml-engineer-seven-consultancy-hr-solution-mumbai-2-to-5-years-290322500339', 'https://www.naukri.com/job-listings-senior-ml-engineer-seven-consultancy-hr-solution-mumbai-4-to-9-years-290322500154', 'https://www.naukri.com/job-listings-data-scientist-wockhardt-mumbai-all-areas-5-to-8-years-040423003661', 'https://www.naukri.com/job-listings-data-scientists-fugetron-corporation-mumbai-all-areas-7-to-12-years-040523004786', 'https://www.naukri.com/job-listings-machine-learning-engineer-incorpway-ahmedabad-1-to-6-years-270423008786', 'https://www.naukri.com/job-listings-data-scientist-nms-consultant-gurgaon-gurugram-6-to-11-years-310323603696', 'https://www.naukri.com/job-listings-al-ml-video-analytics-engineer-ave-promagne-indore-1-to-5-years-040523908328', 'https://www.naukri.com/job-listings-machine-learning-ai-platform-engineer-accenture-solutions-pvt-ltd-bangalore-bengaluru-12-to-15-years-050523908784', 'https://www.naukri.com/job-listings-data-scientist-python-ml-dl-ave-promagne-noida-mumbai-pune-chennai-bangalore-bengaluru-assam-sikkim-manipur-2-to-4-years-040523908280', 'https://www.naukri.com/job-listings-hiring-data-scientist-ai-ml-noida-hyderabad-r1rcm-r1-rcm-noida-hyderabad-secunderabad-delhi-ncr-6-to-11-years-030423006041', 'https://www.naukri.com/job-listings-machine-learning-ml-engineer-online-manufacturing-mumbai-4-to-9-years-040422500132', 'https://www.naukri.com/job-listings-ml-engineer-seven-consultancy-hr-solution-chennai-3-to-4-years-301122502483', 'https://www.naukri.com/job-listings-junior-ml-engineer-seven-consultancy-hr-solution-chennai-4-to-9-years-290322500030', 'https://www.naukri.com/job-listings-ml-engineer-seven-consultancy-hr-solution-new-delhi-2-to-7-years-280322502427', 'https://www.naukri.com/job-listings-junior-ml-engineer-seven-consultancy-hr-solution-new-delhi-1-to-6-years-280322502399', 'https://www.naukri.com/job-listings-ml-engineer-copperpod-digital-kolkata-mumbai-new-delhi-hyderabad-secunderabad-pune-chennai-bangalore-bengaluru-2-to-5-years-060423501641', 'https://www.naukri.com/job-listings-ml-engineer-seven-consultancy-hr-solution-new-delhi-2-to-5-years-301122502480', 'https://www.naukri.com/job-listings-junior-ml-engineer-seven-consultancy-hr-solution-bangalore-bengaluru-4-to-5-years-290322500359', 'https://www.naukri.com/job-listings-senior-ml-engineer-seven-consultancy-hr-solution-new-delhi-4-to-8-years-290322500347', 'https://www.naukri.com/job-listings-ml-engineer-seven-consultancy-hr-solution-bangalore-bengaluru-3-to-4-years-290322500343', 'https://www.naukri.com/job-listings-ml-engineer-seven-consultancy-hr-solution-mumbai-2-to-5-years-290322500339', 'https://www.naukri.com/job-listings-senior-ml-engineer-seven-consultancy-hr-solution-mumbai-4-to-9-years-290322500154', 'https://www.naukri.com/job-listings-data-scientist-wockhardt-mumbai-all-areas-5-to-8-years-040423003661', 'https://www.naukri.com/job-listings-data-scientists-fugetron-corporation-mumbai-all-areas-7-to-12-years-040523004786', 'https://www.naukri.com/job-listings-machine-learning-engineer-incorpway-ahmedabad-1-to-6-years-270423008786', 'https://www.naukri.com/job-listings-data-scientist-nms-consultant-gurgaon-gurugram-6-to-11-years-310323603696', 'https://www.naukri.com/job-listings-al-ml-video-analytics-engineer-ave-promagne-indore-1-to-5-years-040523908328', 'https://www.naukri.com/job-listings-machine-learning-ai-platform-engineer-accenture-solutions-pvt-ltd-bangalore-bengaluru-12-to-15-years-050523908784', 'https://www.naukri.com/job-listings-data-scientist-python-ml-dl-ave-promagne-noida-mumbai-pune-chennai-bangalore-bengaluru-assam-sikkim-manipur-2-to-4-years-040523908280', 'https://www.naukri.com/job-listings-hiring-data-scientist-ai-ml-noida-hyderabad-r1rcm-r1-rcm-noida-hyderabad-secunderabad-delhi-ncr-6-to-11-years-030423006041', 'https://www.naukri.com/job-listings-machine-learning-ml-engineer-online-manufacturing-mumbai-4-to-9-years-040422500132', 'https://www.naukri.com/job-listings-ml-engineer-seven-consultancy-hr-solution-chennai-3-to-4-years-301122502483', 'https://www.naukri.com/job-listings-junior-ml-engineer-seven-consultancy-hr-solution-chennai-4-to-9-years-290322500030', 'https://www.naukri.com/job-listings-ml-engineer-seven-consultancy-hr-solution-new-delhi-2-to-7-years-280322502427', 'https://www.naukri.com/job-listings-junior-ml-engineer-seven-consultancy-hr-solution-new-delhi-1-to-6-years-280322502399', 'https://www.naukri.com/job-listings-ml-engineer-copperpod-digital-kolkata-mumbai-new-delhi-hyderabad-secunderabad-pune-chennai-bangalore-bengaluru-2-to-5-years-060423501641', 'https://www.naukri.com/job-listings-ml-engineer-seven-consultancy-hr-solution-new-delhi-2-to-5-years-301122502480', 'https://www.naukri.com/job-listings-junior-ml-engineer-seven-consultancy-hr-solution-bangalore-bengaluru-4-to-5-years-290322500359', 'https://www.naukri.com/job-listings-senior-ml-engineer-seven-consultancy-hr-solution-new-delhi-4-to-8-years-290322500347', 'https://www.naukri.com/job-listings-ml-engineer-seven-consultancy-hr-solution-bangalore-bengaluru-3-to-4-years-290322500343', 'https://www.naukri.com/job-listings-ml-engineer-seven-consultancy-hr-solution-mumbai-2-to-5-years-290322500339', 'https://www.naukri.com/job-listings-senior-ml-engineer-seven-consultancy-hr-solution-mumbai-4-to-9-years-290322500154', 'https://www.naukri.com/job-listings-data-scientist-wockhardt-mumbai-all-areas-5-to-8-years-040423003661', 'https://www.naukri.com/job-listings-data-scientists-fugetron-corporation-mumbai-all-areas-7-to-12-years-040523004786', 'https://www.naukri.com/job-listings-machine-learning-engineer-incorpway-ahmedabad-1-to-6-years-270423008786', 'https://www.naukri.com/job-listings-data-scientist-nms-consultant-gurgaon-gurugram-6-to-11-years-310323603696', 'https://www.naukri.com/job-listings-al-ml-video-analytics-engineer-ave-promagne-indore-1-to-5-years-040523908328', 'https://www.naukri.com/job-listings-machine-learning-ai-platform-engineer-accenture-solutions-pvt-ltd-bangalore-bengaluru-12-to-15-years-050523908784', 'https://www.naukri.com/job-listings-data-scientist-python-ml-dl-ave-promagne-noida-mumbai-pune-chennai-bangalore-bengaluru-assam-sikkim-manipur-2-to-4-years-040523908280', 'https://www.naukri.com/job-listings-hiring-data-scientist-ai-ml-noida-hyderabad-r1rcm-r1-rcm-noida-hyderabad-secunderabad-delhi-ncr-6-to-11-years-030423006041', 'https://www.naukri.com/job-listings-machine-learning-ml-engineer-online-manufacturing-mumbai-4-to-9-years-040422500132', 'https://www.naukri.com/job-listings-ml-engineer-seven-consultancy-hr-solution-chennai-3-to-4-years-301122502483', 'https://www.naukri.com/job-listings-junior-ml-engineer-seven-consultancy-hr-solution-chennai-4-to-9-years-290322500030', 'https://www.naukri.com/job-listings-ml-engineer-seven-consultancy-hr-solution-new-delhi-2-to-7-years-280322502427', 'https://www.naukri.com/job-listings-junior-ml-engineer-seven-consultancy-hr-solution-new-delhi-1-to-6-years-280322502399', 'https://www.naukri.com/job-listings-ml-engineer-copperpod-digital-kolkata-mumbai-new-delhi-hyderabad-secunderabad-pune-chennai-bangalore-bengaluru-2-to-5-years-060423501641', 'https://www.naukri.com/job-listings-ml-engineer-seven-consultancy-hr-solution-new-delhi-2-to-5-years-301122502480', 'https://www.naukri.com/job-listings-junior-ml-engineer-seven-consultancy-hr-solution-bangalore-bengaluru-4-to-5-years-290322500359', 'https://www.naukri.com/job-listings-senior-ml-engineer-seven-consultancy-hr-solution-new-delhi-4-to-8-years-290322500347', 'https://www.naukri.com/job-listings-ml-engineer-seven-consultancy-hr-solution-bangalore-bengaluru-3-to-4-years-290322500343', 'https://www.naukri.com/job-listings-ml-engineer-seven-consultancy-hr-solution-mumbai-2-to-5-years-290322500339', 'https://www.naukri.com/job-listings-senior-ml-engineer-seven-consultancy-hr-solution-mumbai-4-to-9-years-290322500154', 'https://www.naukri.com/job-listings-data-scientist-wockhardt-mumbai-all-areas-5-to-8-years-040423003661', 'https://www.naukri.com/job-listings-data-scientists-fugetron-corporation-mumbai-all-areas-7-to-12-years-040523004786', 'https://www.naukri.com/job-listings-machine-learning-engineer-incorpway-ahmedabad-1-to-6-years-270423008786', 'https://www.naukri.com/job-listings-data-scientist-nms-consultant-gurgaon-gurugram-6-to-11-years-310323603696', 'https://www.naukri.com/job-listings-al-ml-video-analytics-engineer-ave-promagne-indore-1-to-5-years-040523908328', 'https://www.naukri.com/job-listings-machine-learning-ai-platform-engineer-accenture-solutions-pvt-ltd-bangalore-bengaluru-12-to-15-years-050523908784', 'https://www.naukri.com/job-listings-data-scientist-python-ml-dl-ave-promagne-noida-mumbai-pune-chennai-bangalore-bengaluru-assam-sikkim-manipur-2-to-4-years-040523908280', 'https://www.naukri.com/job-listings-hiring-data-scientist-ai-ml-noida-hyderabad-r1rcm-r1-rcm-noida-hyderabad-secunderabad-delhi-ncr-6-to-11-years-030423006041', 'https://www.naukri.com/job-listings-machine-learning-ml-engineer-online-manufacturing-mumbai-4-to-9-years-040422500132', 'https://www.naukri.com/job-listings-ml-engineer-seven-consultancy-hr-solution-chennai-3-to-4-years-301122502483', 'https://www.naukri.com/job-listings-junior-ml-engineer-seven-consultancy-hr-solution-chennai-4-to-9-years-290322500030', 'https://www.naukri.com/job-listings-ml-engineer-seven-consultancy-hr-solution-new-delhi-2-to-7-years-280322502427', 'https://www.naukri.com/job-listings-junior-ml-engineer-seven-consultancy-hr-solution-new-delhi-1-to-6-years-280322502399', 'https://www.naukri.com/job-listings-ml-engineer-copperpod-digital-kolkata-mumbai-new-delhi-hyderabad-secunderabad-pune-chennai-bangalore-bengaluru-2-to-5-years-060423501641', 'https://www.naukri.com/job-listings-ml-engineer-seven-consultancy-hr-solution-new-delhi-2-to-5-years-301122502480', 'https://www.naukri.com/job-listings-junior-ml-engineer-seven-consultancy-hr-solution-bangalore-bengaluru-4-to-5-years-290322500359', 'https://www.naukri.com/job-listings-senior-ml-engineer-seven-consultancy-hr-solution-new-delhi-4-to-8-years-290322500347', 'https://www.naukri.com/job-listings-ml-engineer-seven-consultancy-hr-solution-bangalore-bengaluru-3-to-4-years-290322500343', 'https://www.naukri.com/job-listings-ml-engineer-seven-consultancy-hr-solution-mumbai-2-to-5-years-290322500339', 'https://www.naukri.com/job-listings-senior-ml-engineer-seven-consultancy-hr-solution-mumbai-4-to-9-years-290322500154', 'https://www.naukri.com/job-listings-data-scientist-wockhardt-mumbai-all-areas-5-to-8-years-040423003661', 'https://www.naukri.com/job-listings-data-scientists-fugetron-corporation-mumbai-all-areas-7-to-12-years-040523004786', 'https://www.naukri.com/job-listings-machine-learning-engineer-incorpway-ahmedabad-1-to-6-years-270423008786', 'https://www.naukri.com/job-listings-data-scientist-nms-consultant-gurgaon-gurugram-6-to-11-years-310323603696', 'https://www.naukri.com/job-listings-al-ml-video-analytics-engineer-ave-promagne-indore-1-to-5-years-040523908328', 'https://www.naukri.com/job-listings-machine-learning-ai-platform-engineer-accenture-solutions-pvt-ltd-bangalore-bengaluru-12-to-15-years-050523908784', 'https://www.naukri.com/job-listings-data-scientist-python-ml-dl-ave-promagne-noida-mumbai-pune-chennai-bangalore-bengaluru-assam-sikkim-manipur-2-to-4-years-040523908280', 'https://www.naukri.com/job-listings-hiring-data-scientist-ai-ml-noida-hyderabad-r1rcm-r1-rcm-noida-hyderabad-secunderabad-delhi-ncr-6-to-11-years-030423006041', 'https://www.naukri.com/job-listings-machine-learning-ml-engineer-online-manufacturing-mumbai-4-to-9-years-040422500132', 'https://www.naukri.com/job-listings-ml-engineer-seven-consultancy-hr-solution-chennai-3-to-4-years-301122502483', 'https://www.naukri.com/job-listings-junior-ml-engineer-seven-consultancy-hr-solution-chennai-4-to-9-years-290322500030', 'https://www.naukri.com/job-listings-ml-engineer-seven-consultancy-hr-solution-new-delhi-2-to-7-years-280322502427', 'https://www.naukri.com/job-listings-junior-ml-engineer-seven-consultancy-hr-solution-new-delhi-1-to-6-years-280322502399', 'https://www.naukri.com/job-listings-ml-engineer-copperpod-digital-kolkata-mumbai-new-delhi-hyderabad-secunderabad-pune-chennai-bangalore-bengaluru-2-to-5-years-060423501641', 'https://www.naukri.com/job-listings-ml-engineer-seven-consultancy-hr-solution-new-delhi-2-to-5-years-301122502480', 'https://www.naukri.com/job-listings-junior-ml-engineer-seven-consultancy-hr-solution-bangalore-bengaluru-4-to-5-years-290322500359', 'https://www.naukri.com/job-listings-senior-ml-engineer-seven-consultancy-hr-solution-new-delhi-4-to-8-years-290322500347', 'https://www.naukri.com/job-listings-ml-engineer-seven-consultancy-hr-solution-bangalore-bengaluru-3-to-4-years-290322500343', 'https://www.naukri.com/job-listings-ml-engineer-seven-consultancy-hr-solution-mumbai-2-to-5-years-290322500339', 'https://www.naukri.com/job-listings-senior-ml-engineer-seven-consultancy-hr-solution-mumbai-4-to-9-years-290322500154', 'https://www.naukri.com/job-listings-data-scientist-wockhardt-mumbai-all-areas-5-to-8-years-040423003661', 'https://www.naukri.com/job-listings-data-scientists-fugetron-corporation-mumbai-all-areas-7-to-12-years-040523004786', 'https://www.naukri.com/job-listings-machine-learning-engineer-incorpway-ahmedabad-1-to-6-years-270423008786', 'https://www.naukri.com/job-listings-data-scientist-nms-consultant-gurgaon-gurugram-6-to-11-years-310323603696', 'https://www.naukri.com/job-listings-al-ml-video-analytics-engineer-ave-promagne-indore-1-to-5-years-040523908328', 'https://www.naukri.com/job-listings-machine-learning-ai-platform-engineer-accenture-solutions-pvt-ltd-bangalore-bengaluru-12-to-15-years-050523908784', 'https://www.naukri.com/job-listings-data-scientist-python-ml-dl-ave-promagne-noida-mumbai-pune-chennai-bangalore-bengaluru-assam-sikkim-manipur-2-to-4-years-040523908280', 'https://www.naukri.com/job-listings-hiring-data-scientist-ai-ml-noida-hyderabad-r1rcm-r1-rcm-noida-hyderabad-secunderabad-delhi-ncr-6-to-11-years-030423006041', 'https://www.naukri.com/job-listings-machine-learning-ml-engineer-online-manufacturing-mumbai-4-to-9-years-040422500132', 'https://www.naukri.com/job-listings-ml-engineer-seven-consultancy-hr-solution-chennai-3-to-4-years-301122502483', 'https://www.naukri.com/job-listings-junior-ml-engineer-seven-consultancy-hr-solution-chennai-4-to-9-years-290322500030', 'https://www.naukri.com/job-listings-ml-engineer-seven-consultancy-hr-solution-new-delhi-2-to-7-years-280322502427', 'https://www.naukri.com/job-listings-junior-ml-engineer-seven-consultancy-hr-solution-new-delhi-1-to-6-years-280322502399', 'https://www.naukri.com/job-listings-ml-engineer-copperpod-digital-kolkata-mumbai-new-delhi-hyderabad-secunderabad-pune-chennai-bangalore-bengaluru-2-to-5-years-060423501641', 'https://www.naukri.com/job-listings-ml-engineer-seven-consultancy-hr-solution-new-delhi-2-to-5-years-301122502480', 'https://www.naukri.com/job-listings-junior-ml-engineer-seven-consultancy-hr-solution-bangalore-bengaluru-4-to-5-years-290322500359', 'https://www.naukri.com/job-listings-senior-ml-engineer-seven-consultancy-hr-solution-new-delhi-4-to-8-years-290322500347', 'https://www.naukri.com/job-listings-ml-engineer-seven-consultancy-hr-solution-bangalore-bengaluru-3-to-4-years-290322500343', 'https://www.naukri.com/job-listings-ml-engineer-seven-consultancy-hr-solution-mumbai-2-to-5-years-290322500339', 'https://www.naukri.com/job-listings-senior-ml-engineer-seven-consultancy-hr-solution-mumbai-4-to-9-years-290322500154', 'https://www.naukri.com/job-listings-data-scientist-wockhardt-mumbai-all-areas-5-to-8-years-040423003661', 'https://www.naukri.com/job-listings-data-scientists-fugetron-corporation-mumbai-all-areas-7-to-12-years-040523004786', 'https://www.naukri.com/job-listings-machine-learning-engineer-incorpway-ahmedabad-1-to-6-years-270423008786', 'https://www.naukri.com/job-listings-data-scientist-nms-consultant-gurgaon-gurugram-6-to-11-years-310323603696', 'https://www.naukri.com/job-listings-al-ml-video-analytics-engineer-ave-promagne-indore-1-to-5-years-040523908328', 'https://www.naukri.com/job-listings-machine-learning-ai-platform-engineer-accenture-solutions-pvt-ltd-bangalore-bengaluru-12-to-15-years-050523908784', 'https://www.naukri.com/job-listings-data-scientist-python-ml-dl-ave-promagne-noida-mumbai-pune-chennai-bangalore-bengaluru-assam-sikkim-manipur-2-to-4-years-040523908280', 'https://www.naukri.com/job-listings-hiring-data-scientist-ai-ml-noida-hyderabad-r1rcm-r1-rcm-noida-hyderabad-secunderabad-delhi-ncr-6-to-11-years-030423006041', 'https://www.naukri.com/job-listings-machine-learning-ml-engineer-online-manufacturing-mumbai-4-to-9-years-040422500132', 'https://www.naukri.com/job-listings-ml-engineer-seven-consultancy-hr-solution-chennai-3-to-4-years-301122502483', 'https://www.naukri.com/job-listings-junior-ml-engineer-seven-consultancy-hr-solution-chennai-4-to-9-years-290322500030', 'https://www.naukri.com/job-listings-ml-engineer-seven-consultancy-hr-solution-new-delhi-2-to-7-years-280322502427', 'https://www.naukri.com/job-listings-junior-ml-engineer-seven-consultancy-hr-solution-new-delhi-1-to-6-years-280322502399', 'https://www.naukri.com/job-listings-ml-engineer-copperpod-digital-kolkata-mumbai-new-delhi-hyderabad-secunderabad-pune-chennai-bangalore-bengaluru-2-to-5-years-060423501641', 'https://www.naukri.com/job-listings-ml-engineer-seven-consultancy-hr-solution-new-delhi-2-to-5-years-301122502480', 'https://www.naukri.com/job-listings-junior-ml-engineer-seven-consultancy-hr-solution-bangalore-bengaluru-4-to-5-years-290322500359', 'https://www.naukri.com/job-listings-senior-ml-engineer-seven-consultancy-hr-solution-new-delhi-4-to-8-years-290322500347', 'https://www.naukri.com/job-listings-ml-engineer-seven-consultancy-hr-solution-bangalore-bengaluru-3-to-4-years-290322500343', 'https://www.naukri.com/job-listings-ml-engineer-seven-consultancy-hr-solution-mumbai-2-to-5-years-290322500339', 'https://www.naukri.com/job-listings-senior-ml-engineer-seven-consultancy-hr-solution-mumbai-4-to-9-years-290322500154', 'https://www.naukri.com/job-listings-data-scientist-wockhardt-mumbai-all-areas-5-to-8-years-040423003661', 'https://www.naukri.com/job-listings-data-scientists-fugetron-corporation-mumbai-all-areas-7-to-12-years-040523004786', 'https://www.naukri.com/job-listings-machine-learning-engineer-incorpway-ahmedabad-1-to-6-years-270423008786', 'https://www.naukri.com/job-listings-data-scientist-nms-consultant-gurgaon-gurugram-6-to-11-years-310323603696', 'https://www.naukri.com/job-listings-al-ml-video-analytics-engineer-ave-promagne-indore-1-to-5-years-040523908328', 'https://www.naukri.com/job-listings-machine-learning-ai-platform-engineer-accenture-solutions-pvt-ltd-bangalore-bengaluru-12-to-15-years-050523908784', 'https://www.naukri.com/job-listings-data-scientist-python-ml-dl-ave-promagne-noida-mumbai-pune-chennai-bangalore-bengaluru-assam-sikkim-manipur-2-to-4-years-040523908280', 'https://www.naukri.com/job-listings-hiring-data-scientist-ai-ml-noida-hyderabad-r1rcm-r1-rcm-noida-hyderabad-secunderabad-delhi-ncr-6-to-11-years-030423006041', 'https://www.naukri.com/job-listings-machine-learning-ml-engineer-online-manufacturing-mumbai-4-to-9-years-040422500132', 'https://www.naukri.com/job-listings-ml-engineer-seven-consultancy-hr-solution-chennai-3-to-4-years-301122502483', 'https://www.naukri.com/job-listings-junior-ml-engineer-seven-consultancy-hr-solution-chennai-4-to-9-years-290322500030', 'https://www.naukri.com/job-listings-ml-engineer-seven-consultancy-hr-solution-new-delhi-2-to-7-years-280322502427', 'https://www.naukri.com/job-listings-junior-ml-engineer-seven-consultancy-hr-solution-new-delhi-1-to-6-years-280322502399', 'https://www.naukri.com/job-listings-ml-engineer-copperpod-digital-kolkata-mumbai-new-delhi-hyderabad-secunderabad-pune-chennai-bangalore-bengaluru-2-to-5-years-060423501641', 'https://www.naukri.com/job-listings-ml-engineer-seven-consultancy-hr-solution-new-delhi-2-to-5-years-301122502480', 'https://www.naukri.com/job-listings-junior-ml-engineer-seven-consultancy-hr-solution-bangalore-bengaluru-4-to-5-years-290322500359', 'https://www.naukri.com/job-listings-senior-ml-engineer-seven-consultancy-hr-solution-new-delhi-4-to-8-years-290322500347', 'https://www.naukri.com/job-listings-ml-engineer-seven-consultancy-hr-solution-bangalore-bengaluru-3-to-4-years-290322500343', 'https://www.naukri.com/job-listings-ml-engineer-seven-consultancy-hr-solution-mumbai-2-to-5-years-290322500339', 'https://www.naukri.com/job-listings-senior-ml-engineer-seven-consultancy-hr-solution-mumbai-4-to-9-years-290322500154', 'https://www.naukri.com/job-listings-data-scientist-wockhardt-mumbai-all-areas-5-to-8-years-040423003661', 'https://www.naukri.com/job-listings-data-scientists-fugetron-corporation-mumbai-all-areas-7-to-12-years-040523004786', 'https://www.naukri.com/job-listings-machine-learning-engineer-incorpway-ahmedabad-1-to-6-years-270423008786', 'https://www.naukri.com/job-listings-data-scientist-nms-consultant-gurgaon-gurugram-6-to-11-years-310323603696', 'https://www.naukri.com/job-listings-al-ml-video-analytics-engineer-ave-promagne-indore-1-to-5-years-040523908328', 'https://www.naukri.com/job-listings-machine-learning-ai-platform-engineer-accenture-solutions-pvt-ltd-bangalore-bengaluru-12-to-15-years-050523908784', 'https://www.naukri.com/job-listings-data-scientist-python-ml-dl-ave-promagne-noida-mumbai-pune-chennai-bangalore-bengaluru-assam-sikkim-manipur-2-to-4-years-040523908280', 'https://www.naukri.com/job-listings-hiring-data-scientist-ai-ml-noida-hyderabad-r1rcm-r1-rcm-noida-hyderabad-secunderabad-delhi-ncr-6-to-11-years-030423006041', 'https://www.naukri.com/job-listings-machine-learning-ml-engineer-online-manufacturing-mumbai-4-to-9-years-040422500132', 'https://www.naukri.com/job-listings-ml-engineer-seven-consultancy-hr-solution-chennai-3-to-4-years-301122502483', 'https://www.naukri.com/job-listings-junior-ml-engineer-seven-consultancy-hr-solution-chennai-4-to-9-years-290322500030', 'https://www.naukri.com/job-listings-ml-engineer-seven-consultancy-hr-solution-new-delhi-2-to-7-years-280322502427', 'https://www.naukri.com/job-listings-junior-ml-engineer-seven-consultancy-hr-solution-new-delhi-1-to-6-years-280322502399', 'https://www.naukri.com/job-listings-ml-engineer-copperpod-digital-kolkata-mumbai-new-delhi-hyderabad-secunderabad-pune-chennai-bangalore-bengaluru-2-to-5-years-060423501641', 'https://www.naukri.com/job-listings-ml-engineer-seven-consultancy-hr-solution-new-delhi-2-to-5-years-301122502480', 'https://www.naukri.com/job-listings-junior-ml-engineer-seven-consultancy-hr-solution-bangalore-bengaluru-4-to-5-years-290322500359', 'https://www.naukri.com/job-listings-senior-ml-engineer-seven-consultancy-hr-solution-new-delhi-4-to-8-years-290322500347', 'https://www.naukri.com/job-listings-ml-engineer-seven-consultancy-hr-solution-bangalore-bengaluru-3-to-4-years-290322500343', 'https://www.naukri.com/job-listings-ml-engineer-seven-consultancy-hr-solution-mumbai-2-to-5-years-290322500339', 'https://www.naukri.com/job-listings-senior-ml-engineer-seven-consultancy-hr-solution-mumbai-4-to-9-years-290322500154', 'https://www.naukri.com/job-listings-data-scientist-wockhardt-mumbai-all-areas-5-to-8-years-040423003661', 'https://www.naukri.com/job-listings-data-scientists-fugetron-corporation-mumbai-all-areas-7-to-12-years-040523004786', 'https://www.naukri.com/job-listings-machine-learning-engineer-incorpway-ahmedabad-1-to-6-years-270423008786', 'https://www.naukri.com/job-listings-data-scientist-nms-consultant-gurgaon-gurugram-6-to-11-years-310323603696', 'https://www.naukri.com/job-listings-al-ml-video-analytics-engineer-ave-promagne-indore-1-to-5-years-040523908328', 'https://www.naukri.com/job-listings-machine-learning-ai-platform-engineer-accenture-solutions-pvt-ltd-bangalore-bengaluru-12-to-15-years-050523908784', 'https://www.naukri.com/job-listings-data-scientist-python-ml-dl-ave-promagne-noida-mumbai-pune-chennai-bangalore-bengaluru-assam-sikkim-manipur-2-to-4-years-040523908280', 'https://www.naukri.com/job-listings-hiring-data-scientist-ai-ml-noida-hyderabad-r1rcm-r1-rcm-noida-hyderabad-secunderabad-delhi-ncr-6-to-11-years-030423006041', 'https://www.naukri.com/job-listings-machine-learning-ml-engineer-online-manufacturing-mumbai-4-to-9-years-040422500132', 'https://www.naukri.com/job-listings-ml-engineer-seven-consultancy-hr-solution-chennai-3-to-4-years-301122502483', 'https://www.naukri.com/job-listings-junior-ml-engineer-seven-consultancy-hr-solution-chennai-4-to-9-years-290322500030', 'https://www.naukri.com/job-listings-ml-engineer-seven-consultancy-hr-solution-new-delhi-2-to-7-years-280322502427', 'https://www.naukri.com/job-listings-junior-ml-engineer-seven-consultancy-hr-solution-new-delhi-1-to-6-years-280322502399', 'https://www.naukri.com/job-listings-ml-engineer-copperpod-digital-kolkata-mumbai-new-delhi-hyderabad-secunderabad-pune-chennai-bangalore-bengaluru-2-to-5-years-060423501641', 'https://www.naukri.com/job-listings-ml-engineer-seven-consultancy-hr-solution-new-delhi-2-to-5-years-301122502480', 'https://www.naukri.com/job-listings-junior-ml-engineer-seven-consultancy-hr-solution-bangalore-bengaluru-4-to-5-years-290322500359', 'https://www.naukri.com/job-listings-senior-ml-engineer-seven-consultancy-hr-solution-new-delhi-4-to-8-years-290322500347', 'https://www.naukri.com/job-listings-ml-engineer-seven-consultancy-hr-solution-bangalore-bengaluru-3-to-4-years-290322500343', 'https://www.naukri.com/job-listings-ml-engineer-seven-consultancy-hr-solution-mumbai-2-to-5-years-290322500339', 'https://www.naukri.com/job-listings-senior-ml-engineer-seven-consultancy-hr-solution-mumbai-4-to-9-years-290322500154', 'https://www.naukri.com/job-listings-data-scientist-wockhardt-mumbai-all-areas-5-to-8-years-040423003661', 'https://www.naukri.com/job-listings-data-scientists-fugetron-corporation-mumbai-all-areas-7-to-12-years-040523004786', 'https://www.naukri.com/job-listings-machine-learning-engineer-incorpway-ahmedabad-1-to-6-years-270423008786', 'https://www.naukri.com/job-listings-data-scientist-nms-consultant-gurgaon-gurugram-6-to-11-years-310323603696', 'https://www.naukri.com/job-listings-al-ml-video-analytics-engineer-ave-promagne-indore-1-to-5-years-040523908328', 'https://www.naukri.com/job-listings-machine-learning-ai-platform-engineer-accenture-solutions-pvt-ltd-bangalore-bengaluru-12-to-15-years-050523908784', 'https://www.naukri.com/job-listings-data-scientist-python-ml-dl-ave-promagne-noida-mumbai-pune-chennai-bangalore-bengaluru-assam-sikkim-manipur-2-to-4-years-040523908280', 'https://www.naukri.com/job-listings-hiring-data-scientist-ai-ml-noida-hyderabad-r1rcm-r1-rcm-noida-hyderabad-secunderabad-delhi-ncr-6-to-11-years-030423006041', 'https://www.naukri.com/job-listings-machine-learning-ml-engineer-online-manufacturing-mumbai-4-to-9-years-040422500132', 'https://www.naukri.com/job-listings-ml-engineer-seven-consultancy-hr-solution-chennai-3-to-4-years-301122502483', 'https://www.naukri.com/job-listings-junior-ml-engineer-seven-consultancy-hr-solution-chennai-4-to-9-years-290322500030', 'https://www.naukri.com/job-listings-ml-engineer-seven-consultancy-hr-solution-new-delhi-2-to-7-years-280322502427', 'https://www.naukri.com/job-listings-junior-ml-engineer-seven-consultancy-hr-solution-new-delhi-1-to-6-years-280322502399', 'https://www.naukri.com/job-listings-ml-engineer-copperpod-digital-kolkata-mumbai-new-delhi-hyderabad-secunderabad-pune-chennai-bangalore-bengaluru-2-to-5-years-060423501641', 'https://www.naukri.com/job-listings-ml-engineer-seven-consultancy-hr-solution-new-delhi-2-to-5-years-301122502480', 'https://www.naukri.com/job-listings-junior-ml-engineer-seven-consultancy-hr-solution-bangalore-bengaluru-4-to-5-years-290322500359', 'https://www.naukri.com/job-listings-senior-ml-engineer-seven-consultancy-hr-solution-new-delhi-4-to-8-years-290322500347', 'https://www.naukri.com/job-listings-ml-engineer-seven-consultancy-hr-solution-bangalore-bengaluru-3-to-4-years-290322500343', 'https://www.naukri.com/job-listings-ml-engineer-seven-consultancy-hr-solution-mumbai-2-to-5-years-290322500339', 'https://www.naukri.com/job-listings-senior-ml-engineer-seven-consultancy-hr-solution-mumbai-4-to-9-years-290322500154', 'https://www.naukri.com/job-listings-data-scientist-wockhardt-mumbai-all-areas-5-to-8-years-040423003661', 'https://www.naukri.com/job-listings-data-scientists-fugetron-corporation-mumbai-all-areas-7-to-12-years-040523004786', 'https://www.naukri.com/job-listings-machine-learning-engineer-incorpway-ahmedabad-1-to-6-years-270423008786', 'https://www.naukri.com/job-listings-data-scientist-nms-consultant-gurgaon-gurugram-6-to-11-years-310323603696', 'https://www.naukri.com/job-listings-al-ml-video-analytics-engineer-ave-promagne-indore-1-to-5-years-040523908328', 'https://www.naukri.com/job-listings-machine-learning-ai-platform-engineer-accenture-solutions-pvt-ltd-bangalore-bengaluru-12-to-15-years-050523908784', 'https://www.naukri.com/job-listings-data-scientist-python-ml-dl-ave-promagne-noida-mumbai-pune-chennai-bangalore-bengaluru-assam-sikkim-manipur-2-to-4-years-040523908280', 'https://www.naukri.com/job-listings-hiring-data-scientist-ai-ml-noida-hyderabad-r1rcm-r1-rcm-noida-hyderabad-secunderabad-delhi-ncr-6-to-11-years-030423006041', 'https://www.naukri.com/job-listings-machine-learning-ml-engineer-online-manufacturing-mumbai-4-to-9-years-040422500132', 'https://www.naukri.com/job-listings-ml-engineer-seven-consultancy-hr-solution-chennai-3-to-4-years-301122502483', 'https://www.naukri.com/job-listings-junior-ml-engineer-seven-consultancy-hr-solution-chennai-4-to-9-years-290322500030', 'https://www.naukri.com/job-listings-ml-engineer-seven-consultancy-hr-solution-new-delhi-2-to-7-years-280322502427', 'https://www.naukri.com/job-listings-junior-ml-engineer-seven-consultancy-hr-solution-new-delhi-1-to-6-years-280322502399', 'https://www.naukri.com/job-listings-ml-engineer-copperpod-digital-kolkata-mumbai-new-delhi-hyderabad-secunderabad-pune-chennai-bangalore-bengaluru-2-to-5-years-060423501641', 'https://www.naukri.com/job-listings-ml-engineer-seven-consultancy-hr-solution-new-delhi-2-to-5-years-301122502480', 'https://www.naukri.com/job-listings-junior-ml-engineer-seven-consultancy-hr-solution-bangalore-bengaluru-4-to-5-years-290322500359', 'https://www.naukri.com/job-listings-senior-ml-engineer-seven-consultancy-hr-solution-new-delhi-4-to-8-years-290322500347', 'https://www.naukri.com/job-listings-ml-engineer-seven-consultancy-hr-solution-bangalore-bengaluru-3-to-4-years-290322500343', 'https://www.naukri.com/job-listings-ml-engineer-seven-consultancy-hr-solution-mumbai-2-to-5-years-290322500339', 'https://www.naukri.com/job-listings-senior-ml-engineer-seven-consultancy-hr-solution-mumbai-4-to-9-years-290322500154', 'https://www.naukri.com/job-listings-data-scientist-wockhardt-mumbai-all-areas-5-to-8-years-040423003661', 'https://www.naukri.com/job-listings-data-scientists-fugetron-corporation-mumbai-all-areas-7-to-12-years-040523004786', 'https://www.naukri.com/job-listings-machine-learning-engineer-incorpway-ahmedabad-1-to-6-years-270423008786', 'https://www.naukri.com/job-listings-data-scientist-nms-consultant-gurgaon-gurugram-6-to-11-years-310323603696', 'https://www.naukri.com/job-listings-al-ml-video-analytics-engineer-ave-promagne-indore-1-to-5-years-040523908328', 'https://www.naukri.com/job-listings-machine-learning-ai-platform-engineer-accenture-solutions-pvt-ltd-bangalore-bengaluru-12-to-15-years-050523908784', 'https://www.naukri.com/job-listings-data-scientist-python-ml-dl-ave-promagne-noida-mumbai-pune-chennai-bangalore-bengaluru-assam-sikkim-manipur-2-to-4-years-040523908280', 'https://www.naukri.com/job-listings-hiring-data-scientist-ai-ml-noida-hyderabad-r1rcm-r1-rcm-noida-hyderabad-secunderabad-delhi-ncr-6-to-11-years-030423006041', 'https://www.naukri.com/job-listings-machine-learning-ml-engineer-online-manufacturing-mumbai-4-to-9-years-040422500132', 'https://www.naukri.com/job-listings-ml-engineer-seven-consultancy-hr-solution-chennai-3-to-4-years-301122502483', 'https://www.naukri.com/job-listings-junior-ml-engineer-seven-consultancy-hr-solution-chennai-4-to-9-years-290322500030', 'https://www.naukri.com/job-listings-ml-engineer-seven-consultancy-hr-solution-new-delhi-2-to-7-years-280322502427', 'https://www.naukri.com/job-listings-junior-ml-engineer-seven-consultancy-hr-solution-new-delhi-1-to-6-years-280322502399', 'https://www.naukri.com/job-listings-ml-engineer-copperpod-digital-kolkata-mumbai-new-delhi-hyderabad-secunderabad-pune-chennai-bangalore-bengaluru-2-to-5-years-060423501641', 'https://www.naukri.com/job-listings-ml-engineer-seven-consultancy-hr-solution-new-delhi-2-to-5-years-301122502480', 'https://www.naukri.com/job-listings-junior-ml-engineer-seven-consultancy-hr-solution-bangalore-bengaluru-4-to-5-years-290322500359', 'https://www.naukri.com/job-listings-senior-ml-engineer-seven-consultancy-hr-solution-new-delhi-4-to-8-years-290322500347', 'https://www.naukri.com/job-listings-ml-engineer-seven-consultancy-hr-solution-bangalore-bengaluru-3-to-4-years-290322500343', 'https://www.naukri.com/job-listings-ml-engineer-seven-consultancy-hr-solution-mumbai-2-to-5-years-290322500339', 'https://www.naukri.com/job-listings-senior-ml-engineer-seven-consultancy-hr-solution-mumbai-4-to-9-years-290322500154', 'https://www.naukri.com/job-listings-data-scientist-wockhardt-mumbai-all-areas-5-to-8-years-040423003661', 'https://www.naukri.com/job-listings-data-scientists-fugetron-corporation-mumbai-all-areas-7-to-12-years-040523004786', 'https://www.naukri.com/job-listings-machine-learning-engineer-incorpway-ahmedabad-1-to-6-years-270423008786', 'https://www.naukri.com/job-listings-data-scientist-nms-consultant-gurgaon-gurugram-6-to-11-years-310323603696', 'https://www.naukri.com/job-listings-al-ml-video-analytics-engineer-ave-promagne-indore-1-to-5-years-040523908328', 'https://www.naukri.com/job-listings-machine-learning-ai-platform-engineer-accenture-solutions-pvt-ltd-bangalore-bengaluru-12-to-15-years-050523908784', 'https://www.naukri.com/job-listings-data-scientist-python-ml-dl-ave-promagne-noida-mumbai-pune-chennai-bangalore-bengaluru-assam-sikkim-manipur-2-to-4-years-040523908280', 'https://www.naukri.com/job-listings-hiring-data-scientist-ai-ml-noida-hyderabad-r1rcm-r1-rcm-noida-hyderabad-secunderabad-delhi-ncr-6-to-11-years-030423006041', 'https://www.naukri.com/job-listings-machine-learning-ml-engineer-online-manufacturing-mumbai-4-to-9-years-040422500132', 'https://www.naukri.com/job-listings-ml-engineer-seven-consultancy-hr-solution-chennai-3-to-4-years-301122502483', 'https://www.naukri.com/job-listings-junior-ml-engineer-seven-consultancy-hr-solution-chennai-4-to-9-years-290322500030', 'https://www.naukri.com/job-listings-ml-engineer-seven-consultancy-hr-solution-new-delhi-2-to-7-years-280322502427', 'https://www.naukri.com/job-listings-junior-ml-engineer-seven-consultancy-hr-solution-new-delhi-1-to-6-years-280322502399', 'https://www.naukri.com/job-listings-ml-engineer-copperpod-digital-kolkata-mumbai-new-delhi-hyderabad-secunderabad-pune-chennai-bangalore-bengaluru-2-to-5-years-060423501641', 'https://www.naukri.com/job-listings-ml-engineer-seven-consultancy-hr-solution-new-delhi-2-to-5-years-301122502480', 'https://www.naukri.com/job-listings-junior-ml-engineer-seven-consultancy-hr-solution-bangalore-bengaluru-4-to-5-years-290322500359', 'https://www.naukri.com/job-listings-senior-ml-engineer-seven-consultancy-hr-solution-new-delhi-4-to-8-years-290322500347', 'https://www.naukri.com/job-listings-ml-engineer-seven-consultancy-hr-solution-bangalore-bengaluru-3-to-4-years-290322500343', 'https://www.naukri.com/job-listings-ml-engineer-seven-consultancy-hr-solution-mumbai-2-to-5-years-290322500339', 'https://www.naukri.com/job-listings-senior-ml-engineer-seven-consultancy-hr-solution-mumbai-4-to-9-years-290322500154', 'https://www.naukri.com/job-listings-data-scientist-wockhardt-mumbai-all-areas-5-to-8-years-040423003661', 'https://www.naukri.com/job-listings-data-scientists-fugetron-corporation-mumbai-all-areas-7-to-12-years-040523004786', 'https://www.naukri.com/job-listings-machine-learning-engineer-incorpway-ahmedabad-1-to-6-years-270423008786', 'https://www.naukri.com/job-listings-data-scientist-nms-consultant-gurgaon-gurugram-6-to-11-years-310323603696', 'https://www.naukri.com/job-listings-al-ml-video-analytics-engineer-ave-promagne-indore-1-to-5-years-040523908328', 'https://www.naukri.com/job-listings-machine-learning-ai-platform-engineer-accenture-solutions-pvt-ltd-bangalore-bengaluru-12-to-15-years-050523908784', 'https://www.naukri.com/job-listings-data-scientist-python-ml-dl-ave-promagne-noida-mumbai-pune-chennai-bangalore-bengaluru-assam-sikkim-manipur-2-to-4-years-040523908280', 'https://www.naukri.com/job-listings-hiring-data-scientist-ai-ml-noida-hyderabad-r1rcm-r1-rcm-noida-hyderabad-secunderabad-delhi-ncr-6-to-11-years-030423006041', 'https://www.naukri.com/job-listings-machine-learning-ml-engineer-online-manufacturing-mumbai-4-to-9-years-040422500132', 'https://www.naukri.com/job-listings-ml-engineer-seven-consultancy-hr-solution-chennai-3-to-4-years-301122502483', 'https://www.naukri.com/job-listings-junior-ml-engineer-seven-consultancy-hr-solution-chennai-4-to-9-years-290322500030', 'https://www.naukri.com/job-listings-ml-engineer-seven-consultancy-hr-solution-new-delhi-2-to-7-years-280322502427', 'https://www.naukri.com/job-listings-junior-ml-engineer-seven-consultancy-hr-solution-new-delhi-1-to-6-years-280322502399', 'https://www.naukri.com/job-listings-ml-engineer-copperpod-digital-kolkata-mumbai-new-delhi-hyderabad-secunderabad-pune-chennai-bangalore-bengaluru-2-to-5-years-060423501641', 'https://www.naukri.com/job-listings-ml-engineer-seven-consultancy-hr-solution-new-delhi-2-to-5-years-301122502480', 'https://www.naukri.com/job-listings-junior-ml-engineer-seven-consultancy-hr-solution-bangalore-bengaluru-4-to-5-years-290322500359', 'https://www.naukri.com/job-listings-senior-ml-engineer-seven-consultancy-hr-solution-new-delhi-4-to-8-years-290322500347', 'https://www.naukri.com/job-listings-ml-engineer-seven-consultancy-hr-solution-bangalore-bengaluru-3-to-4-years-290322500343', 'https://www.naukri.com/job-listings-ml-engineer-seven-consultancy-hr-solution-mumbai-2-to-5-years-290322500339', 'https://www.naukri.com/job-listings-senior-ml-engineer-seven-consultancy-hr-solution-mumbai-4-to-9-years-290322500154']\n"
     ]
    }
   ],
   "source": [
    "print(Link)"
   ]
  },
  {
   "cell_type": "code",
   "execution_count": 31,
   "id": "164da8bc",
   "metadata": {},
   "outputs": [],
   "source": [
    "description=[]\n",
    "role=[]\n",
    "skills=[]\n",
    "\n",
    "External_Site_Links = []\n",
    "\n",
    "for lin in range(len(Link[:50])):\n",
    "    driver.get(Link[lin])\n",
    "    time.sleep(1)\n",
    "    soup=bs4.BeautifulSoup(driver.page_source, 'lxml') \n",
    "    try:\n",
    "        description.append(soup.find(attrs={'class':\"job-desc\"}).text)\n",
    "        for i in soup.find(attrs={'class':\"other-details\"}).findAll(attrs={'class':\"details\"}):\n",
    "            role.append(i.text)\n",
    "            break\n",
    "\n",
    "        sk=[]\n",
    "        for i in soup.find(attrs={'class':\"key-skill\"}).findAll('a'):\n",
    "            sk.append(i.text)\n",
    "        skills.append(sk)\n",
    "    except AttributeError:\n",
    "        External_Site_Links.append(lin)\n",
    "        "
   ]
  },
  {
   "cell_type": "code",
   "execution_count": 32,
   "id": "0670f145",
   "metadata": {},
   "outputs": [],
   "source": [
    "df = pandas.DataFrame()"
   ]
  },
  {
   "cell_type": "code",
   "execution_count": 33,
   "id": "ce087912",
   "metadata": {},
   "outputs": [
    {
     "data": {
      "text/plain": [
       "(50, 47, 47)"
      ]
     },
     "execution_count": 33,
     "metadata": {},
     "output_type": "execute_result"
    }
   ],
   "source": [
    "len(description), len(skills) ,len(role)"
   ]
  },
  {
   "cell_type": "code",
   "execution_count": 34,
   "id": "43bcf700",
   "metadata": {},
   "outputs": [],
   "source": [
    "description = description[:47]"
   ]
  },
  {
   "cell_type": "code",
   "execution_count": 88,
   "id": "0653da6b",
   "metadata": {},
   "outputs": [],
   "source": [
    "df['role']=role\n",
    "df['description']=description\n",
    "df['skills']=skills"
   ]
  },
  {
   "cell_type": "code",
   "execution_count": 89,
   "id": "818b28f5",
   "metadata": {},
   "outputs": [
    {
     "data": {
      "text/html": [
       "<div>\n",
       "<style scoped>\n",
       "    .dataframe tbody tr th:only-of-type {\n",
       "        vertical-align: middle;\n",
       "    }\n",
       "\n",
       "    .dataframe tbody tr th {\n",
       "        vertical-align: top;\n",
       "    }\n",
       "\n",
       "    .dataframe thead th {\n",
       "        text-align: right;\n",
       "    }\n",
       "</style>\n",
       "<table border=\"1\" class=\"dataframe\">\n",
       "  <thead>\n",
       "    <tr style=\"text-align: right;\">\n",
       "      <th></th>\n",
       "      <th>role</th>\n",
       "      <th>description</th>\n",
       "      <th>skills</th>\n",
       "      <th>tokenized_sents</th>\n",
       "      <th>No_Stopwords</th>\n",
       "      <th>Lemmatized</th>\n",
       "      <th>POS_Lemmataized</th>\n",
       "      <th>KeyWords_Task</th>\n",
       "    </tr>\n",
       "  </thead>\n",
       "  <tbody>\n",
       "    <tr>\n",
       "      <th>0</th>\n",
       "      <td>Role: Data Scientist,</td>\n",
       "      <td>Job description a. 5-7 years exp in Pharma Man...</td>\n",
       "      <td>[python, ml algorithms, data analytics, Machin...</td>\n",
       "      <td>[job, description, a, 5, 7, years, exp, in, ph...</td>\n",
       "      <td>[job, description, 5, 7, years, exp, pharma, m...</td>\n",
       "      <td>[job, description, 5, 7, year, exp, pharma, ma...</td>\n",
       "      <td>[(job, NN), (description, NN), (5, CD), (7, CD...</td>\n",
       "      <td>[job, description, year, exp, quality, op, pro...</td>\n",
       "    </tr>\n",
       "    <tr>\n",
       "      <th>1</th>\n",
       "      <td>Role: Data Science &amp; Analytics - Other,</td>\n",
       "      <td>Job description Job Title: Senior consultant -...</td>\n",
       "      <td>[Data Scientist, Dataiku, Alteryx, Snowpark, D...</td>\n",
       "      <td>[job, description, job, title, senior, consult...</td>\n",
       "      <td>[job, description, job, title, senior, consult...</td>\n",
       "      <td>[job, description, job, title, senior, consult...</td>\n",
       "      <td>[(job, NN), (description, NN), (job, NN), (tit...</td>\n",
       "      <td>[job, description, job, title, consultant, sci...</td>\n",
       "    </tr>\n",
       "    <tr>\n",
       "      <th>2</th>\n",
       "      <td>Role: Machine Learning Engineer,</td>\n",
       "      <td>Job descriptionWe are looking for a passionate...</td>\n",
       "      <td>[python, Aws Cloud, Machine Learning, SQL, Azu...</td>\n",
       "      <td>[job, descriptionwe, are, looking, for, a, pas...</td>\n",
       "      <td>[job, descriptionwe, looking, passionate, expe...</td>\n",
       "      <td>[job, descriptionwe, looking, passionate, expe...</td>\n",
       "      <td>[(job, NN), (descriptionwe, NNS), (looking, VB...</td>\n",
       "      <td>[job, passionate, machine, engineer, join, tea...</td>\n",
       "    </tr>\n",
       "    <tr>\n",
       "      <th>3</th>\n",
       "      <td>Role: Data Scientist,</td>\n",
       "      <td>Job description Skillset -  Artificial Intelli...</td>\n",
       "      <td>[Artificial Intelligence, Machine Learning, NL...</td>\n",
       "      <td>[job, description, skillset, artificial, intel...</td>\n",
       "      <td>[job, description, skillset, artificial, intel...</td>\n",
       "      <td>[job, description, skillset, artificial, intel...</td>\n",
       "      <td>[(job, NN), (description, NN), (skillset, VBN)...</td>\n",
       "      <td>[job, description, intelligence, machine, lear...</td>\n",
       "    </tr>\n",
       "    <tr>\n",
       "      <th>4</th>\n",
       "      <td>Role: Machine Learning Engineer,</td>\n",
       "      <td>Job descriptionSkills : python, data preparati...</td>\n",
       "      <td>[Machine Learning, predictive modelling, deep ...</td>\n",
       "      <td>[job, descriptionskills, python, data, prepara...</td>\n",
       "      <td>[job, descriptionskills, python, data, prepara...</td>\n",
       "      <td>[job, descriptionskills, python, data, prepara...</td>\n",
       "      <td>[(job, NN), (descriptionskills, NNS), (python,...</td>\n",
       "      <td>[job, preparation, analysis, design, intellige...</td>\n",
       "    </tr>\n",
       "  </tbody>\n",
       "</table>\n",
       "</div>"
      ],
      "text/plain": [
       "                                      role  \\\n",
       "0                    Role: Data Scientist,   \n",
       "1  Role: Data Science & Analytics - Other,   \n",
       "2         Role: Machine Learning Engineer,   \n",
       "3                    Role: Data Scientist,   \n",
       "4         Role: Machine Learning Engineer,   \n",
       "\n",
       "                                         description  \\\n",
       "0  Job description a. 5-7 years exp in Pharma Man...   \n",
       "1  Job description Job Title: Senior consultant -...   \n",
       "2  Job descriptionWe are looking for a passionate...   \n",
       "3  Job description Skillset -  Artificial Intelli...   \n",
       "4  Job descriptionSkills : python, data preparati...   \n",
       "\n",
       "                                              skills  \\\n",
       "0  [python, ml algorithms, data analytics, Machin...   \n",
       "1  [Data Scientist, Dataiku, Alteryx, Snowpark, D...   \n",
       "2  [python, Aws Cloud, Machine Learning, SQL, Azu...   \n",
       "3  [Artificial Intelligence, Machine Learning, NL...   \n",
       "4  [Machine Learning, predictive modelling, deep ...   \n",
       "\n",
       "                                     tokenized_sents  \\\n",
       "0  [job, description, a, 5, 7, years, exp, in, ph...   \n",
       "1  [job, description, job, title, senior, consult...   \n",
       "2  [job, descriptionwe, are, looking, for, a, pas...   \n",
       "3  [job, description, skillset, artificial, intel...   \n",
       "4  [job, descriptionskills, python, data, prepara...   \n",
       "\n",
       "                                        No_Stopwords  \\\n",
       "0  [job, description, 5, 7, years, exp, pharma, m...   \n",
       "1  [job, description, job, title, senior, consult...   \n",
       "2  [job, descriptionwe, looking, passionate, expe...   \n",
       "3  [job, description, skillset, artificial, intel...   \n",
       "4  [job, descriptionskills, python, data, prepara...   \n",
       "\n",
       "                                          Lemmatized  \\\n",
       "0  [job, description, 5, 7, year, exp, pharma, ma...   \n",
       "1  [job, description, job, title, senior, consult...   \n",
       "2  [job, descriptionwe, looking, passionate, expe...   \n",
       "3  [job, description, skillset, artificial, intel...   \n",
       "4  [job, descriptionskills, python, data, prepara...   \n",
       "\n",
       "                                     POS_Lemmataized  \\\n",
       "0  [(job, NN), (description, NN), (5, CD), (7, CD...   \n",
       "1  [(job, NN), (description, NN), (job, NN), (tit...   \n",
       "2  [(job, NN), (descriptionwe, NNS), (looking, VB...   \n",
       "3  [(job, NN), (description, NN), (skillset, VBN)...   \n",
       "4  [(job, NN), (descriptionskills, NNS), (python,...   \n",
       "\n",
       "                                       KeyWords_Task  \n",
       "0  [job, description, year, exp, quality, op, pro...  \n",
       "1  [job, description, job, title, consultant, sci...  \n",
       "2  [job, passionate, machine, engineer, join, tea...  \n",
       "3  [job, description, intelligence, machine, lear...  \n",
       "4  [job, preparation, analysis, design, intellige...  "
      ]
     },
     "execution_count": 89,
     "metadata": {},
     "output_type": "execute_result"
    }
   ],
   "source": [
    "df.head()"
   ]
  },
  {
   "cell_type": "code",
   "execution_count": 90,
   "id": "c959e80b",
   "metadata": {},
   "outputs": [
    {
     "data": {
      "text/plain": [
       "(47, 8)"
      ]
     },
     "execution_count": 90,
     "metadata": {},
     "output_type": "execute_result"
    }
   ],
   "source": [
    "df.shape"
   ]
  },
  {
   "cell_type": "markdown",
   "id": "237bb5ba",
   "metadata": {},
   "source": [
    "# Pre Processing NLP"
   ]
  },
  {
   "cell_type": "code",
   "execution_count": 92,
   "id": "97f3699e",
   "metadata": {},
   "outputs": [
    {
     "data": {
      "text/html": [
       "<div>\n",
       "<style scoped>\n",
       "    .dataframe tbody tr th:only-of-type {\n",
       "        vertical-align: middle;\n",
       "    }\n",
       "\n",
       "    .dataframe tbody tr th {\n",
       "        vertical-align: top;\n",
       "    }\n",
       "\n",
       "    .dataframe thead th {\n",
       "        text-align: right;\n",
       "    }\n",
       "</style>\n",
       "<table border=\"1\" class=\"dataframe\">\n",
       "  <thead>\n",
       "    <tr style=\"text-align: right;\">\n",
       "      <th></th>\n",
       "      <th>role</th>\n",
       "      <th>description</th>\n",
       "      <th>skills</th>\n",
       "      <th>tokenized_sents</th>\n",
       "      <th>No_Stopwords</th>\n",
       "      <th>Lemmatized</th>\n",
       "      <th>POS_Lemmataized</th>\n",
       "      <th>KeyWords_Task</th>\n",
       "    </tr>\n",
       "  </thead>\n",
       "  <tbody>\n",
       "    <tr>\n",
       "      <th>0</th>\n",
       "      <td>Role: Data Scientist,</td>\n",
       "      <td>job description a. 5-7 years exp in pharma man...</td>\n",
       "      <td>[python, ml algorithms, data analytics, machin...</td>\n",
       "      <td>[job, description, a, 5, 7, years, exp, in, ph...</td>\n",
       "      <td>[job, description, 5, 7, years, exp, pharma, m...</td>\n",
       "      <td>[job, description, 5, 7, year, exp, pharma, ma...</td>\n",
       "      <td>[(job, NN), (description, NN), (5, CD), (7, CD...</td>\n",
       "      <td>[job, description, year, exp, quality, op, pro...</td>\n",
       "    </tr>\n",
       "    <tr>\n",
       "      <th>1</th>\n",
       "      <td>Role: Data Science &amp; Analytics - Other,</td>\n",
       "      <td>job description job title: senior consultant -...</td>\n",
       "      <td>[data scientist, dataiku, alteryx, snowpark, d...</td>\n",
       "      <td>[job, description, job, title, senior, consult...</td>\n",
       "      <td>[job, description, job, title, senior, consult...</td>\n",
       "      <td>[job, description, job, title, senior, consult...</td>\n",
       "      <td>[(job, NN), (description, NN), (job, NN), (tit...</td>\n",
       "      <td>[job, description, job, title, consultant, sci...</td>\n",
       "    </tr>\n",
       "    <tr>\n",
       "      <th>2</th>\n",
       "      <td>Role: Machine Learning Engineer,</td>\n",
       "      <td>job descriptionwe are looking for a passionate...</td>\n",
       "      <td>[python, aws cloud, machine learning, sql, azu...</td>\n",
       "      <td>[job, descriptionwe, are, looking, for, a, pas...</td>\n",
       "      <td>[job, descriptionwe, looking, passionate, expe...</td>\n",
       "      <td>[job, descriptionwe, looking, passionate, expe...</td>\n",
       "      <td>[(job, NN), (descriptionwe, NNS), (looking, VB...</td>\n",
       "      <td>[job, passionate, machine, engineer, join, tea...</td>\n",
       "    </tr>\n",
       "    <tr>\n",
       "      <th>3</th>\n",
       "      <td>Role: Data Scientist,</td>\n",
       "      <td>job description skillset -  artificial intelli...</td>\n",
       "      <td>[artificial intelligence, machine learning, nl...</td>\n",
       "      <td>[job, description, skillset, artificial, intel...</td>\n",
       "      <td>[job, description, skillset, artificial, intel...</td>\n",
       "      <td>[job, description, skillset, artificial, intel...</td>\n",
       "      <td>[(job, NN), (description, NN), (skillset, VBN)...</td>\n",
       "      <td>[job, description, intelligence, machine, lear...</td>\n",
       "    </tr>\n",
       "    <tr>\n",
       "      <th>4</th>\n",
       "      <td>Role: Machine Learning Engineer,</td>\n",
       "      <td>job descriptionskills : python, data preparati...</td>\n",
       "      <td>[machine learning, predictive modelling, deep ...</td>\n",
       "      <td>[job, descriptionskills, python, data, prepara...</td>\n",
       "      <td>[job, descriptionskills, python, data, prepara...</td>\n",
       "      <td>[job, descriptionskills, python, data, prepara...</td>\n",
       "      <td>[(job, NN), (descriptionskills, NNS), (python,...</td>\n",
       "      <td>[job, preparation, analysis, design, intellige...</td>\n",
       "    </tr>\n",
       "  </tbody>\n",
       "</table>\n",
       "</div>"
      ],
      "text/plain": [
       "                                      role  \\\n",
       "0                    Role: Data Scientist,   \n",
       "1  Role: Data Science & Analytics - Other,   \n",
       "2         Role: Machine Learning Engineer,   \n",
       "3                    Role: Data Scientist,   \n",
       "4         Role: Machine Learning Engineer,   \n",
       "\n",
       "                                         description  \\\n",
       "0  job description a. 5-7 years exp in pharma man...   \n",
       "1  job description job title: senior consultant -...   \n",
       "2  job descriptionwe are looking for a passionate...   \n",
       "3  job description skillset -  artificial intelli...   \n",
       "4  job descriptionskills : python, data preparati...   \n",
       "\n",
       "                                              skills  \\\n",
       "0  [python, ml algorithms, data analytics, machin...   \n",
       "1  [data scientist, dataiku, alteryx, snowpark, d...   \n",
       "2  [python, aws cloud, machine learning, sql, azu...   \n",
       "3  [artificial intelligence, machine learning, nl...   \n",
       "4  [machine learning, predictive modelling, deep ...   \n",
       "\n",
       "                                     tokenized_sents  \\\n",
       "0  [job, description, a, 5, 7, years, exp, in, ph...   \n",
       "1  [job, description, job, title, senior, consult...   \n",
       "2  [job, descriptionwe, are, looking, for, a, pas...   \n",
       "3  [job, description, skillset, artificial, intel...   \n",
       "4  [job, descriptionskills, python, data, prepara...   \n",
       "\n",
       "                                        No_Stopwords  \\\n",
       "0  [job, description, 5, 7, years, exp, pharma, m...   \n",
       "1  [job, description, job, title, senior, consult...   \n",
       "2  [job, descriptionwe, looking, passionate, expe...   \n",
       "3  [job, description, skillset, artificial, intel...   \n",
       "4  [job, descriptionskills, python, data, prepara...   \n",
       "\n",
       "                                          Lemmatized  \\\n",
       "0  [job, description, 5, 7, year, exp, pharma, ma...   \n",
       "1  [job, description, job, title, senior, consult...   \n",
       "2  [job, descriptionwe, looking, passionate, expe...   \n",
       "3  [job, description, skillset, artificial, intel...   \n",
       "4  [job, descriptionskills, python, data, prepara...   \n",
       "\n",
       "                                     POS_Lemmataized  \\\n",
       "0  [(job, NN), (description, NN), (5, CD), (7, CD...   \n",
       "1  [(job, NN), (description, NN), (job, NN), (tit...   \n",
       "2  [(job, NN), (descriptionwe, NNS), (looking, VB...   \n",
       "3  [(job, NN), (description, NN), (skillset, VBN)...   \n",
       "4  [(job, NN), (descriptionskills, NNS), (python,...   \n",
       "\n",
       "                                       KeyWords_Task  \n",
       "0  [job, description, year, exp, quality, op, pro...  \n",
       "1  [job, description, job, title, consultant, sci...  \n",
       "2  [job, passionate, machine, engineer, join, tea...  \n",
       "3  [job, description, intelligence, machine, lear...  \n",
       "4  [job, preparation, analysis, design, intellige...  "
      ]
     },
     "execution_count": 92,
     "metadata": {},
     "output_type": "execute_result"
    }
   ],
   "source": [
    "# lower Casing \n",
    "\n",
    "def lowerCasing_skills(x):\n",
    "    skills = []\n",
    "    for i in x:\n",
    "        temp = i.lower()\n",
    "        skills.append(temp)\n",
    "    return skills\n",
    "\n",
    "df.description = df.description.apply(lambda x: x.lower())\n",
    "df.skills = df.skills.apply(lowerCasing_skills) \n",
    "df.head()"
   ]
  },
  {
   "cell_type": "code",
   "execution_count": 93,
   "id": "e2975e9a",
   "metadata": {},
   "outputs": [],
   "source": [
    "from nltk import RegexpTokenizer\n",
    "\n",
    "tokenizer = RegexpTokenizer(r\"\\w+\") # Remove puntations\n",
    "df['tokenized_sents'] = df.apply(lambda row: tokenizer.tokenize(row['description']), axis=1)"
   ]
  },
  {
   "cell_type": "code",
   "execution_count": 94,
   "id": "b6b2a26b",
   "metadata": {},
   "outputs": [
    {
     "data": {
      "text/plain": [
       "0    [job, description, a, 5, 7, years, exp, in, ph...\n",
       "1    [job, description, job, title, senior, consult...\n",
       "2    [job, descriptionwe, are, looking, for, a, pas...\n",
       "3    [job, description, skillset, artificial, intel...\n",
       "4    [job, descriptionskills, python, data, prepara...\n",
       "5    [machine, learning, ai, platform, engineerfrom...\n",
       "6    [job, descriptionkey, responsibilities, collab...\n",
       "7    [job, descriptionroles, and, responsibilities,...\n",
       "8    [job, description, education, background, be, ...\n",
       "9    [job, description, data, collection, and, cura...\n",
       "Name: tokenized_sents, dtype: object"
      ]
     },
     "execution_count": 94,
     "metadata": {},
     "output_type": "execute_result"
    }
   ],
   "source": [
    "df['tokenized_sents'].head(10)"
   ]
  },
  {
   "cell_type": "code",
   "execution_count": 95,
   "id": "c3fba82e",
   "metadata": {},
   "outputs": [],
   "source": [
    "# Stopward removal\n",
    "\n",
    "from nltk.corpus import stopwords\n",
    "stop_words = set(stopwords.words(\"english\"))\n",
    "stop_words = [x for x in stop_words]"
   ]
  },
  {
   "cell_type": "code",
   "execution_count": 96,
   "id": "c9598aa3",
   "metadata": {},
   "outputs": [
    {
     "name": "stdout",
     "output_type": "stream",
     "text": [
      "[\"wouldn't\", 'whom', 'each', 'll', 'ourselves', 'how', 'shan', 'but', 'them', \"weren't\", 'an', 'its', 'out', \"that'll\", 'didn', 'what', \"didn't\", 'been', 's', 'needn', 'theirs', 'under', \"you'll\", 'own', 'that', 'for', 'and', 'himself', 'up', \"should've\", 'against', 'those', 'me', 'before', 'once', 'mustn', \"you're\", 'haven', \"won't\", 'then', 'your', 'into', 'until', \"mightn't\", 'hers', 'further', 'be', 'does', 'no', \"it's\", 'all', 'very', 'most', 'has', 'o', 'yourself', 'won', 'which', 'shouldn', 'we', 'aren', 'her', 'so', 'not', 'while', 'am', 'same', 'few', 't', 'some', 'this', 'wasn', 'when', \"aren't\", 'as', 'of', 'herself', 'from', 'any', 'my', 'couldn', \"hasn't\", 'only', 'is', \"don't\", 'to', \"mustn't\", \"haven't\", 'him', 'you', \"couldn't\", 've', 'such', 'a', 'other', 'she', 'during', 'had', 'm', 'hadn', \"hadn't\", \"shouldn't\", 'off', \"you'd\", 'ours', 'doesn', 'will', \"wasn't\", 'on', 'above', 'doing', \"isn't\", 'over', 'who', 'with', 'after', 'ma', 'they', 'was', 'do', 'here', 'wouldn', \"doesn't\", 'below', 'did', 'why', 'don', 'too', 'where', 'have', 'his', 'at', 'through', 'there', 'it', 'can', 're', 'mightn', 'these', 'our', 'about', 'more', 'isn', \"shan't\", 'if', 'were', \"you've\", 'ain', 'are', 'weren', \"needn't\", 'd', 'myself', 'just', 'both', 'by', 'than', 'yourselves', 'being', 'again', 'yours', 'having', 'between', 'y', 'because', \"she's\", 'or', 'he', 'nor', 'their', 'now', 'hasn', 'should', 'in', 'i', 'themselves', 'the', 'itself', 'down']\n"
     ]
    }
   ],
   "source": [
    "print(stop_words)"
   ]
  },
  {
   "cell_type": "code",
   "execution_count": 97,
   "id": "43d1ace8",
   "metadata": {},
   "outputs": [],
   "source": [
    "def remove_stopwords(x):\n",
    "    st = []\n",
    "    for i in x:\n",
    "        if i in stop_words:\n",
    "            continue\n",
    "        else:\n",
    "            st.append(i)\n",
    "    return st"
   ]
  },
  {
   "cell_type": "code",
   "execution_count": 98,
   "id": "e57ecf6f",
   "metadata": {},
   "outputs": [],
   "source": [
    "df['No_Stopwords'] = df['tokenized_sents'].apply(remove_stopwords)"
   ]
  },
  {
   "cell_type": "code",
   "execution_count": 99,
   "id": "77cee28d",
   "metadata": {},
   "outputs": [
    {
     "data": {
      "text/plain": [
       "0    [job, description, 5, 7, years, exp, pharma, m...\n",
       "1    [job, description, job, title, senior, consult...\n",
       "2    [job, descriptionwe, looking, passionate, expe...\n",
       "3    [job, description, skillset, artificial, intel...\n",
       "4    [job, descriptionskills, python, data, prepara...\n",
       "5    [machine, learning, ai, platform, engineerfrom...\n",
       "6    [job, descriptionkey, responsibilities, collab...\n",
       "7    [job, descriptionroles, responsibilities, part...\n",
       "8    [job, description, education, background, comp...\n",
       "9    [job, description, data, collection, curation,...\n",
       "Name: No_Stopwords, dtype: object"
      ]
     },
     "execution_count": 99,
     "metadata": {},
     "output_type": "execute_result"
    }
   ],
   "source": [
    "df['No_Stopwords'].head(10)"
   ]
  },
  {
   "cell_type": "code",
   "execution_count": 100,
   "id": "0682716b",
   "metadata": {},
   "outputs": [],
   "source": [
    "# Lemmatization \n",
    "\n",
    "from nltk.stem import WordNetLemmatizer\n",
    "lemmatizer = WordNetLemmatizer()"
   ]
  },
  {
   "cell_type": "code",
   "execution_count": 101,
   "id": "c2912d0c",
   "metadata": {},
   "outputs": [],
   "source": [
    "def lemmatize(x):\n",
    "    lem_words =  []\n",
    "    for ele in x:\n",
    "        lem_words.append(lemmatizer.lemmatize(ele))\n",
    "    return lem_words"
   ]
  },
  {
   "cell_type": "code",
   "execution_count": 102,
   "id": "5c9e8c99",
   "metadata": {},
   "outputs": [],
   "source": [
    "df[\"Lemmatized\"] = df[\"No_Stopwords\"].apply(lemmatize)"
   ]
  },
  {
   "cell_type": "code",
   "execution_count": 103,
   "id": "1d836c59",
   "metadata": {},
   "outputs": [
    {
     "data": {
      "text/plain": [
       "0    [job, description, 5, 7, year, exp, pharma, ma...\n",
       "1    [job, description, job, title, senior, consult...\n",
       "2    [job, descriptionwe, looking, passionate, expe...\n",
       "3    [job, description, skillset, artificial, intel...\n",
       "4    [job, descriptionskills, python, data, prepara...\n",
       "Name: Lemmatized, dtype: object"
      ]
     },
     "execution_count": 103,
     "metadata": {},
     "output_type": "execute_result"
    }
   ],
   "source": [
    "df[\"Lemmatized\"].head()"
   ]
  },
  {
   "cell_type": "code",
   "execution_count": 104,
   "id": "2ae2f1cc",
   "metadata": {},
   "outputs": [],
   "source": [
    "# pos tagging\n",
    "\n",
    "from nltk import pos_tag"
   ]
  },
  {
   "cell_type": "code",
   "execution_count": 105,
   "id": "d1c85659",
   "metadata": {},
   "outputs": [],
   "source": [
    "df[\"POS_Lemmataized\"] = df[\"Lemmatized\"].apply(pos_tag)"
   ]
  },
  {
   "cell_type": "code",
   "execution_count": 106,
   "id": "9db59f58",
   "metadata": {},
   "outputs": [],
   "source": [
    "def select_NN(x):\n",
    "    task_keywords = []\n",
    "    for i in x:\n",
    "        if i[1] == \"NN\":\n",
    "            task_keywords.append(i[0])\n",
    "        else:\n",
    "            continue\n",
    "    return task_keywords"
   ]
  },
  {
   "cell_type": "code",
   "execution_count": 107,
   "id": "88401374",
   "metadata": {},
   "outputs": [],
   "source": [
    "df['KeyWords_Task'] = df['POS_Lemmataized'].apply(select_NN)"
   ]
  },
  {
   "cell_type": "code",
   "execution_count": 108,
   "id": "672d5d46",
   "metadata": {},
   "outputs": [
    {
     "data": {
      "text/plain": [
       "0    [job, description, year, exp, quality, op, pro...\n",
       "1    [job, description, job, title, consultant, sci...\n",
       "2    [job, passionate, machine, engineer, join, tea...\n",
       "3    [job, description, intelligence, machine, lear...\n",
       "4    [job, preparation, analysis, design, intellige...\n",
       "Name: KeyWords_Task, dtype: object"
      ]
     },
     "execution_count": 108,
     "metadata": {},
     "output_type": "execute_result"
    }
   ],
   "source": [
    "df['KeyWords_Task'].head()"
   ]
  },
  {
   "cell_type": "markdown",
   "id": "f982ffd0",
   "metadata": {},
   "source": [
    "# Word CLoud"
   ]
  },
  {
   "cell_type": "code",
   "execution_count": 117,
   "id": "a27a0f8c",
   "metadata": {},
   "outputs": [],
   "source": [
    "from collections import Counter\n",
    "count = Counter()\n",
    "\n",
    "for list in df['KeyWords_Task']:\n",
    "    for word in list:\n",
    "        count[word] += 1"
   ]
  },
  {
   "cell_type": "code",
   "execution_count": 118,
   "id": "230ba884",
   "metadata": {},
   "outputs": [
    {
     "data": {
      "text/plain": [
       "<bound method Counter.most_common of Counter({'model': 165, 'machine': 145, 'experience': 130, 'science': 108, 'product': 102, 'technology': 100, 'nlp': 82, 'solution': 79, 'team': 73, 'industry': 72, 'job': 69, 'ml': 68, 'requirement': 62, 'type': 54, 'language': 51, 'python': 50, 'analysis': 50, 'technique': 49, 'role': 48, 'time': 47, 'category': 47, 'engineering': 46, 'department': 44, 'employment': 44, 'service': 44, 'representation': 44, 'ability': 43, 'algorithm': 43, 'use': 43, 'description': 42, 'development': 42, 'design': 40, 'task': 40, 'cloud': 40, 'tool': 36, 'software': 36, 'system': 35, 'knowledge': 34, 'b': 34, 'computer': 34, 'architecture': 33, 'skill': 32, 'work': 32, 'business': 32, 'framework': 32, 'practice': 31, 'method': 30, 'learningeducationug': 29, 'engineer': 28, 'management': 27, 'experiment': 27, 'result': 27, 'feature': 26, 'learning': 26, 'edge': 26, 'evaluation': 26, 'year': 25, 'research': 25, 'prototype': 25, 'scikit': 25, 'problem': 25, 'intelligencemachine': 25, 'change': 25, 'graduatepg': 25, 'train': 24, 'engine': 23, 'increase': 23, 'idea': 23, 'spark': 23, 'learningdata': 23, 'act': 23, 'recommendation': 23, 'hadoop': 23, 'exposure': 23, 'learn': 22, 'structure': 22, 'collection': 20, 'curation': 20, 'appropriate': 20, 'text': 20, 'dl': 20, 'refine': 20, 'building': 20, 'personalization': 20, 'user': 20, 'bridge': 20, 'translate': 20, 'stay': 20, 'trend': 20, 'discussion': 20, 'understanding': 20, 'extraction': 20, 'spacy': 20, 'gensim': 20, 'stanford': 20, 'proficiency': 20, 'panda': 20, 'optimisation': 20, 'transfer': 20, 'environment': 20, 'docker': 20, 'cd': 20, 'recruitment': 20, 'collectiondata': 20, 'marketing': 18, 'operation': 18, 'preparation': 18, 'application': 18, 'structuressqlpythonrecruitment': 18, 'tech': 17, 'intelligence': 17, 'customer': 17, 'responsibility': 16, 'postgraduatekey': 16, 'skillscomputer': 16, 'scientist': 15, 'vision': 15, 'create': 15, 'production': 15, 'deployment': 15, 'expertise': 15, 'company': 15, 'detail': 15, 'r': 14, 'e': 14, 'ai': 14, 'meet': 13, 'implement': 13, 'project': 12, 'hand': 12, 'platform': 12, 'level': 12, 'pipeline': 12, 'detection': 12, 'client': 11, 'optimization': 11, 'area': 11, 'candidate': 11, 'math': 11, 'presentation': 11, 'quality': 10, 'discovery': 9, 'creation': 9, 'manage': 9, 'stakeholder': 9, 'governance': 9, 'collaborate': 9, 'communicate': 9, 'image': 9, 'end': 9, 'ingestion': 9, 'validation': 9, 'background': 9, 'network': 9, 'imagery': 9, 'video': 9, 'recognition': 9, 'value': 9, 'life': 8, 'decision': 8, 'challenge': 8, 'communication': 8, 'accuracy': 8, 'profile': 8, 'performance': 8, 'test': 8, 'member': 7, 'opportunity': 7, 'process': 7, 'field': 7, 'way': 7, 'exp': 6, 'implementation': 6, 'interest': 6, 'partner': 6, 'specializationkey': 6, 'consultant': 6, 'charge': 6, 'report': 6, 'processing': 6, 'reinforcement': 6, 'matter': 6, 'influence': 6, 'trust': 6, 'passionate': 6, 'examine': 6, 'efficiency': 6, 'cross': 6, 'source': 6, 'minimum': 6, 'classification': 6, 'tune': 6, 'rate': 6, 'latency': 6, 'device': 6, 'grade': 6, 'scratch': 6, 'kera': 6, 'segmentation': 6, 'etc': 6, 'sc': 6, 'specialization': 6, 'bca': 6, 'custom': 6, 'cnn': 6, 'postgraduatedoctorate': 6, 'doctorate': 6, 'requiredkey': 6, 'day': 6, 'view': 6, 'regression': 6, 'contact': 6, 'mumbai': 6, 'mining': 6, 'manipur': 6, 'sikkim': 6, 'uttrakhand': 6, 'bihar': 6, 'developmenteducationug': 6, 'program': 5, 'goal': 5, 'procedure': 5, 'database': 5, 'transform': 5, 'pytorch': 5, 'graduatekey': 5, 'range': 5, 'familiarity': 5, 'flow': 5, 'concept': 5, 'cycle': 5, 'programming': 5, 'capability': 5, 'strategy': 5, 'world': 5, 'community': 5, 'document': 5, 'part': 5, 'mind': 5, 'support': 4, 'select': 4, 'perform': 4, 'fine': 4, 'retrain': 4, 'extend': 4, 'abreast': 4, 'culture': 4, 'diversity': 4, 'perspective': 4, 'employee': 4, 'assurance': 4, 'testingeducationug': 4, 'op': 3, 'processesb': 3, 'statistic': 3, 'interpreunership': 3, 'drivene': 3, 'graduate': 3, 'keyskillspythonml': 3, 'machinery': 3, 'title': 3, 'scientistsemployment': 3, 'parttime': 3, 'fugetron': 3, 'activation': 3, 'execution': 3, 'order': 3, 'experimentation': 3, 'pilot': 3, 'capacity': 3, 'manager': 3, 'vice': 3, 'president': 3, 'ab': 3, 'pricing': 3, 'mix': 3, 'attribution': 3, 'cluster': 3, 'non': 3, 'parametric': 3, 'dataiku': 3, 'alteryx': 3, 'integration': 3, 'making': 3, 'concern': 3, 'sage': 3, 'maker': 3, 'convey': 3, 'oversee': 3, 'expert': 3, 'agent': 3, 'simulation': 3, 'awareness': 3, 'agile': 3, 'methodology': 3, 'scrum': 3, 'box': 3, 'criterion': 3, 'mentorship': 3, 'sponsorship': 3, 'communicator': 3, 'position': 3, 'proposal': 3, 'correlation': 3, 'insight': 3, 'visualization': 3, 'record': 3, 'action': 3, 'outcome': 3, 'm': 3, 'phd': 3, 'discipline': 3, 'supervisor': 3, 'completion': 3, 'examination': 3, 'example': 3, 'torch': 3, 'depth': 3, 'scale': 3, 'cooperation': 3, 'excellent': 3, 'fact': 3, 'techniquessage': 3, 'makerml': 3, 'algorithmsmachine': 3, 'join': 3, 'ahmedabad': 3, 'ideal': 3, 'java': 3, 'convolution': 3, 'instance': 3, 'ssd': 3, 'tensorflow': 3, 'detectron': 3, 'look': 3, 'character': 3, 'recognitation': 3, 'gi': 3, 'perk': 3, 'lac': 3, 'learningsqlazure': 3, 'intelligenceml': 3, 'learningpytorchai': 3, 'algorithmsopencvpandasaimlkerasmachine': 3, 'sparkexperience': 3, 'series': 3, 'techniquesexperience': 3, 'visionexperience': 3, 'supervision': 3, 'restart': 3, 'interruption': 3, 'processingml': 3, 'sciencetime': 3, 'seriessparkcomputer': 3, 'visionml': 3, 'scope': 3, 'assistance': 3, 'accomplish': 3, 'face': 3, 'scene': 3, 'tensor': 3, 'caffee': 3, 'domain': 3, 'hardware': 3, 'acceleration': 3, 'computerspg': 3, 'keyskillsmachine': 3, 'modellingdeep': 3, 'learningcnnnlpopencvvideo': 3, 'intelligencepythontensorflow': 3, 'com': 3, 'yearswork': 3, 'location': 3, 'bengalurujob': 3, 'convert': 3, 'develop': 3, 'architect': 3, 'multiple': 3, 'share': 3, 'leadership': 3, 'state': 3, 'etl': 3, 'activity': 3, 'deploy': 3, 'hypothesis': 3, 'infrastructure': 3, 'mysql': 3, 'oracle': 3, 'vertica': 3, 'attribute': 3, 'guidance': 3, 'player': 3, 'pressure': 3, 'architectsalary': 3, 'recruiter': 3, 'consultingdepartment': 3, 'developmentemployment': 3, 'skillsmysqlmachine': 3, 'learningoraclesqlpythonhivedata': 3, 'infrastructurehadoopml': 3, 'solutionai': 3, 'keyskillseducationug': 3, 'pg': 3, 'profileaccentureaccenture': 3, 'security': 3, 'offer': 3, 'intelligent': 3, 'center': 3, 'ingenuity': 3, 'country': 3, 'embrace': 3, 'power': 3, 'success': 3, 'shareholder': 3, 'visit': 3, 'accenture': 3, 'comcompany': 3, 'accentureaddress': 3, 'plant': 3, 'godrej': 3, 'boyce': 3, 'compound': 3, 'lb': 3, 'marg': 3, 'vikhroli': 3, 'w': 3, 'indiareference': 3, 'id': 3, 'roadmap': 3, 'validate': 3, 'gather': 3, 'evaluate': 3, 'conceptualise': 3, 'data': 3, 'transformation': 3, 'adherence': 3, 'conduct': 3, 'root': 3, 'cause': 3, 'inaccuracy': 3, 'approach': 3, 'execute': 3, 'core': 3, 'bent': 3, 'patent': 3, 'shelf': 3, 'customise': 3, 'exploratory': 3, 'tree': 3, 'classifier': 3, 'analytical': 3, 'cpg': 3, 'ecommerce': 3, 'yearslocation': 3, 'bangalore': 3, 'chennai': 3, 'pune': 3, 'assam': 3, 'pondicherry': 3, 'coimbatore': 3, 'mysure': 3, 'hyderabad': 3, 'andra': 3, 'delhi': 3, 'gurgaon': 3, 'chandigarh': 3, 'jaipur': 3, 'kota': 3, 'ap': 3, 'mp': 3, 'karnataka': 3, 'nagaland': 3, 'keyskillspythonalgorithmsexploratory': 3, 'intelligencedata': 3, 'help': 2, 'leader': 2, 'scenario': 2, 'collaboration': 2, 'articulate': 2, 'lesson': 2, 'exploration': 2, 'incubation': 2, 'ass': 2, 'automation': 2, 'contributor': 2, 'poc': 2, 'proof': 2, 'object': 2, 'principle': 2, 'pattern': 2, 'api': 2, 'consumption': 2, 'rdbms': 2, 'benefit': 2, 'mode': 2, 'cab': 2, 'mealfree': 2, 'health': 2, 'insurance': 2, 'processingmachine': 2, 'education': 2, 'shape': 2, 'self': 2, 'internet': 2, 'analysisdata': 2, 'learningprogrammingresearchstatisticstesting': 2, 'ie': 2, 'intelligenceconsultingmachine': 2, 'structuressqlpython': 2, 'resolve': 2, 'fit': 2, 'bachelor': 2, 'degree': 2, 'master': 2, 'probability': 2, 'code': 2, 'library': 2, 'addition': 2, 'inclusivity': 2, 'workplace': 2, 'celebrate': 2, 'variety': 2, 'identity': 2, 'mission': 2, 'take': 2, 'risk': 2, 'provide': 2, 'question': 2, 'thing': 2, 'aspect': 2, 'specializationpg': 2, 'sciencesoftware': 2, 'architecturedata': 2, 'sciencedata': 2, 'learningprogrammingdata': 2, 'structurespython': 2, 'lead': 2})>"
      ]
     },
     "execution_count": 118,
     "metadata": {},
     "output_type": "execute_result"
    }
   ],
   "source": [
    "count.most_common"
   ]
  },
  {
   "cell_type": "code",
   "execution_count": 119,
   "id": "2ff3170c",
   "metadata": {},
   "outputs": [
    {
     "data": {
      "text/plain": [
       "['model',\n",
       " 'machine',\n",
       " 'experience',\n",
       " 'science',\n",
       " 'product',\n",
       " 'technology',\n",
       " 'nlp',\n",
       " 'solution',\n",
       " 'team',\n",
       " 'industry']"
      ]
     },
     "execution_count": 119,
     "metadata": {},
     "output_type": "execute_result"
    }
   ],
   "source": [
    "top_words = []\n",
    "for i in count.most_common(10):\n",
    "    top_words.append(i[0])\n",
    "top_words"
   ]
  },
  {
   "cell_type": "code",
   "execution_count": 120,
   "id": "0f89a4a0",
   "metadata": {},
   "outputs": [],
   "source": [
    "vocab = ['model','machine','nlp']"
   ]
  },
  {
   "cell_type": "code",
   "execution_count": 121,
   "id": "5650c961",
   "metadata": {},
   "outputs": [],
   "source": [
    "# Skills count\n",
    "from collections import Counter\n",
    "count = Counter()\n",
    "\n",
    "for list in df['skills']:\n",
    "    for word in list:\n",
    "        count[word] += 1"
   ]
  },
  {
   "cell_type": "code",
   "execution_count": 122,
   "id": "1daf1e34",
   "metadata": {},
   "outputs": [
    {
     "data": {
      "text/plain": [
       "<bound method Counter.most_common of Counter({'machine learning': 47, 'artificial intelligence': 44, 'python': 38, 'sql': 24, 'data structures': 23, 'prototype': 21, 'gcp': 21, 'data collection': 21, 'recruitment': 19, 'computer science': 17, 'ml algorithms': 12, 'data science': 11, 'deep learning': 9, 'staffing': 7, 'data scientist': 6, 'tensorflow': 6, 'opencv': 6, 'nlp': 6, 'natural language processing': 6, 'programming': 5, 'data analytics': 3, 'pharma machinery': 3, 'dataiku': 3, 'alteryx': 3, 'snowpark': 3, 'databricks': 3, 'ai techniques': 3, 'sage maker': 3, 'aws cloud': 3, 'azure machine learning': 3, 'numpy': 3, 'pytorch': 3, 'ai algorithms': 3, 'pandas': 3, 'aiml': 3, 'keras': 3, 'machine learning algorithms': 3, 'forecasting': 3, 'time series': 3, 'spark': 3, 'computer vision': 3, 'ml': 3, 'predictive modelling': 3, 'cnn': 3, 'video analytics': 3, 'algorithms': 3, 'exploratory data analysis': 3, 'data mining': 3, 'data preparation': 3, 'training': 3, 'statistical analysis': 3, 'research': 3, 'statistics': 3, 'testing': 3, 'consulting': 2, 'software architecture': 2, 'data modeling': 2, 'analytical': 2})>"
      ]
     },
     "execution_count": 122,
     "metadata": {},
     "output_type": "execute_result"
    }
   ],
   "source": [
    "count.most_common"
   ]
  },
  {
   "cell_type": "code",
   "execution_count": 123,
   "id": "40c05c6b",
   "metadata": {},
   "outputs": [],
   "source": [
    "vocab.extend(['machine learning','artificial intelligence','artificial intelligence','data collection',\n",
    "             'data scientist','tensorflow','data science','natural language processing','aiml','ai algorithms',\n",
    "             'pandas','numpy','pytorch','ml','predictive modelling'])"
   ]
  },
  {
   "cell_type": "code",
   "execution_count": 124,
   "id": "18a95695",
   "metadata": {},
   "outputs": [
    {
     "data": {
      "text/plain": [
       "['model',\n",
       " 'machine',\n",
       " 'nlp',\n",
       " 'machine learning',\n",
       " 'artificial intelligence',\n",
       " 'artificial intelligence',\n",
       " 'data collection',\n",
       " 'data scientist',\n",
       " 'tensorflow',\n",
       " 'data science',\n",
       " 'natural language processing',\n",
       " 'aiml',\n",
       " 'ai algorithms',\n",
       " 'pandas',\n",
       " 'numpy',\n",
       " 'pytorch',\n",
       " 'ml',\n",
       " 'predictive modelling']"
      ]
     },
     "execution_count": 124,
     "metadata": {},
     "output_type": "execute_result"
    }
   ],
   "source": [
    "vocab"
   ]
  },
  {
   "cell_type": "code",
   "execution_count": 125,
   "id": "dd1b9c18",
   "metadata": {},
   "outputs": [],
   "source": [
    "import pickle\n",
    "# Open a file and use dump()\n",
    "with open('vocab.pkl', 'wb') as file:\n",
    "    \n",
    "    # A new file will be created\n",
    "    pickle.dump(vocab, file)"
   ]
  },
  {
   "cell_type": "code",
   "execution_count": 126,
   "id": "6785393e",
   "metadata": {},
   "outputs": [
    {
     "name": "stdout",
     "output_type": "stream",
     "text": [
      "['model', 'machine', 'nlp', 'machine learning', 'artificial intelligence', 'artificial intelligence', 'data collection', 'data scientist', 'tensorflow', 'data science', 'natural language processing', 'aiml', 'ai algorithms', 'pandas', 'numpy', 'pytorch', 'ml', 'predictive modelling']\n"
     ]
    }
   ],
   "source": [
    "with open('vocab.pkl', 'rb') as file:\n",
    "    vocab = pickle.load(file)\n",
    "    print(vocab)"
   ]
  },
  {
   "cell_type": "code",
   "execution_count": null,
   "id": "f46bf22a",
   "metadata": {},
   "outputs": [],
   "source": []
  }
 ],
 "metadata": {
  "kernelspec": {
   "display_name": "Python 3",
   "language": "python",
   "name": "python3"
  },
  "language_info": {
   "codemirror_mode": {
    "name": "ipython",
    "version": 3
   },
   "file_extension": ".py",
   "mimetype": "text/x-python",
   "name": "python",
   "nbconvert_exporter": "python",
   "pygments_lexer": "ipython3",
   "version": "3.8.8"
  }
 },
 "nbformat": 4,
 "nbformat_minor": 5
}
