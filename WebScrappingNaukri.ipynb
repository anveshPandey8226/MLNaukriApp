{
 "cells": [
  {
   "cell_type": "code",
   "execution_count": 354,
   "id": "4ae7fdd3",
   "metadata": {},
   "outputs": [],
   "source": [
    "import bs4\n",
    "import pandas\n",
    "import numpy\n",
    "import requests\n",
    "from selenium import webdriver\n",
    "import time\n",
    "import random"
   ]
  },
  {
   "cell_type": "code",
   "execution_count": 355,
   "id": "10ca6e79",
   "metadata": {},
   "outputs": [
    {
     "name": "stdout",
     "output_type": "stream",
     "text": [
      "Enter Company name : airo digital labs\n",
      "Enter Location : mumbai\n"
     ]
    }
   ],
   "source": [
    "company_name = input(\"Enter Company name : \")\n",
    "location = input(\"Enter Location : \")"
   ]
  },
  {
   "cell_type": "code",
   "execution_count": 356,
   "id": "a114e570",
   "metadata": {},
   "outputs": [],
   "source": [
    "url = f\"https://www.naukri.com/{company_name}-jobs-in-{location}\""
   ]
  },
  {
   "cell_type": "code",
   "execution_count": 357,
   "id": "9df54e5d",
   "metadata": {},
   "outputs": [
    {
     "name": "stderr",
     "output_type": "stream",
     "text": [
      "<ipython-input-357-7b27ac695236>:1: DeprecationWarning: executable_path has been deprecated, please pass in a Service object\n",
      "  driver = webdriver.Chrome(executable_path='C:/program files/chromedriver.exe')\n"
     ]
    }
   ],
   "source": [
    "driver = webdriver.Chrome(executable_path='C:/program files/chromedriver.exe')"
   ]
  },
  {
   "cell_type": "code",
   "execution_count": 358,
   "id": "3e609ffb",
   "metadata": {},
   "outputs": [],
   "source": [
    "Link=[]\n",
    "driver.get(url+\"-\"+str(1))\n",
    "timeDelay = random.randrange(10,20)\n",
    "time.sleep(timeDelay) \n",
    "soup=bs4.BeautifulSoup(driver.page_source, 'lxml')#returns html of the page\n",
    "for i in soup.findAll(attrs={'class':\"jobTuple\"}):\n",
    "    for j in i.findAll(attrs={'class':\"title ellipsis\"}):\n",
    "        Link.append(j.get('href')) #stores all the link of the job postings"
   ]
  },
  {
   "cell_type": "code",
   "execution_count": 359,
   "id": "fa4bad8c",
   "metadata": {},
   "outputs": [
    {
     "data": {
      "text/plain": [
       "20"
      ]
     },
     "execution_count": 359,
     "metadata": {},
     "output_type": "execute_result"
    }
   ],
   "source": [
    "len(Link)"
   ]
  },
  {
   "cell_type": "code",
   "execution_count": 360,
   "id": "43f316a6",
   "metadata": {},
   "outputs": [],
   "source": [
    "description=[]\n",
    "role=[]\n",
    "skills=[]\n",
    "links = []\n",
    "\n",
    "for lin in range(len(Link)):\n",
    "    driver.get(Link[lin])\n",
    "    time.sleep(1)\n",
    "    soup=bs4.BeautifulSoup(driver.page_source, 'lxml') \n",
    "    if soup.find(attrs={'class':\"jd-header-comp-name\"}) != None and company_name.lower() in soup.find(attrs={'class':\"jd-header-comp-name\"}).text.lower():\n",
    "        description.append(soup.find(attrs={'class':\"job-desc\"}).text)\n",
    "        for i in soup.find(attrs={'class':\"other-details\"}).findAll(attrs={'class':\"details\"}):\n",
    "            role.append(i.text)\n",
    "            break\n",
    "        \n",
    "        sk=[]\n",
    "        for i in soup.find(attrs={'class':\"key-skill\"}).findAll('a'):\n",
    "            sk.append(i.text)\n",
    "        skills.append(sk)\n",
    "        links.append(Link[lin])"
   ]
  },
  {
   "cell_type": "code",
   "execution_count": 361,
   "id": "a3925115",
   "metadata": {},
   "outputs": [],
   "source": [
    "df = pandas.DataFrame()"
   ]
  },
  {
   "cell_type": "code",
   "execution_count": 362,
   "id": "a6404da2",
   "metadata": {},
   "outputs": [],
   "source": [
    "df['role']=role\n",
    "df['description']=description\n",
    "df['skills']=skills\n",
    "df['Job Link']=links"
   ]
  },
  {
   "cell_type": "code",
   "execution_count": 363,
   "id": "e72d67d1",
   "metadata": {},
   "outputs": [
    {
     "data": {
      "text/html": [
       "<div>\n",
       "<style scoped>\n",
       "    .dataframe tbody tr th:only-of-type {\n",
       "        vertical-align: middle;\n",
       "    }\n",
       "\n",
       "    .dataframe tbody tr th {\n",
       "        vertical-align: top;\n",
       "    }\n",
       "\n",
       "    .dataframe thead th {\n",
       "        text-align: right;\n",
       "    }\n",
       "</style>\n",
       "<table border=\"1\" class=\"dataframe\">\n",
       "  <thead>\n",
       "    <tr style=\"text-align: right;\">\n",
       "      <th></th>\n",
       "      <th>role</th>\n",
       "      <th>description</th>\n",
       "      <th>skills</th>\n",
       "      <th>Job Link</th>\n",
       "    </tr>\n",
       "  </thead>\n",
       "  <tbody>\n",
       "    <tr>\n",
       "      <th>0</th>\n",
       "      <td>Role: Business Analyst,</td>\n",
       "      <td>Job description  Business analyst responsibili...</td>\n",
       "      <td>[Process automation, Business Analyst, ISO, An...</td>\n",
       "      <td>https://www.naukri.com/job-listings-business-a...</td>\n",
       "    </tr>\n",
       "    <tr>\n",
       "      <th>1</th>\n",
       "      <td>Role: Full Stack Developer,</td>\n",
       "      <td>Job description  Looking for a SCORM JS develo...</td>\n",
       "      <td>[Process automation, Version control, GIT, Mac...</td>\n",
       "      <td>https://www.naukri.com/job-listings-xapi-devel...</td>\n",
       "    </tr>\n",
       "    <tr>\n",
       "      <th>2</th>\n",
       "      <td>Role: UI / UX Designer,</td>\n",
       "      <td>Job description  We are looking for a dynamic ...</td>\n",
       "      <td>[Process automation, jQuery, Front end, Machin...</td>\n",
       "      <td>https://www.naukri.com/job-listings-ux-ui-desi...</td>\n",
       "    </tr>\n",
       "    <tr>\n",
       "      <th>3</th>\n",
       "      <td>Role: Test Analyst,</td>\n",
       "      <td>Job description  Quality Assurance Manual Data...</td>\n",
       "      <td>[Process automation, QA, ERP, LMS, Testing too...</td>\n",
       "      <td>https://www.naukri.com/job-listings-quality-as...</td>\n",
       "    </tr>\n",
       "    <tr>\n",
       "      <th>4</th>\n",
       "      <td>Role: Automation Test Engineer,</td>\n",
       "      <td>Job description  A automation engineers design...</td>\n",
       "      <td>[Maven, ERP, Coding, XML, MySQL, Debugging, Te...</td>\n",
       "      <td>https://www.naukri.com/job-listings-quality-as...</td>\n",
       "    </tr>\n",
       "  </tbody>\n",
       "</table>\n",
       "</div>"
      ],
      "text/plain": [
       "                              role  \\\n",
       "0          Role: Business Analyst,   \n",
       "1      Role: Full Stack Developer,   \n",
       "2          Role: UI / UX Designer,   \n",
       "3              Role: Test Analyst,   \n",
       "4  Role: Automation Test Engineer,   \n",
       "\n",
       "                                         description  \\\n",
       "0  Job description  Business analyst responsibili...   \n",
       "1  Job description  Looking for a SCORM JS develo...   \n",
       "2  Job description  We are looking for a dynamic ...   \n",
       "3  Job description  Quality Assurance Manual Data...   \n",
       "4  Job description  A automation engineers design...   \n",
       "\n",
       "                                              skills  \\\n",
       "0  [Process automation, Business Analyst, ISO, An...   \n",
       "1  [Process automation, Version control, GIT, Mac...   \n",
       "2  [Process automation, jQuery, Front end, Machin...   \n",
       "3  [Process automation, QA, ERP, LMS, Testing too...   \n",
       "4  [Maven, ERP, Coding, XML, MySQL, Debugging, Te...   \n",
       "\n",
       "                                            Job Link  \n",
       "0  https://www.naukri.com/job-listings-business-a...  \n",
       "1  https://www.naukri.com/job-listings-xapi-devel...  \n",
       "2  https://www.naukri.com/job-listings-ux-ui-desi...  \n",
       "3  https://www.naukri.com/job-listings-quality-as...  \n",
       "4  https://www.naukri.com/job-listings-quality-as...  "
      ]
     },
     "execution_count": 363,
     "metadata": {},
     "output_type": "execute_result"
    }
   ],
   "source": [
    "df.head()"
   ]
  },
  {
   "cell_type": "code",
   "execution_count": 323,
   "id": "fe2baf24",
   "metadata": {},
   "outputs": [
    {
     "data": {
      "text/plain": [
       "(12, 4)"
      ]
     },
     "execution_count": 323,
     "metadata": {},
     "output_type": "execute_result"
    }
   ],
   "source": [
    "df.shape"
   ]
  },
  {
   "cell_type": "markdown",
   "id": "230435ea",
   "metadata": {},
   "source": [
    "# Pre Processing NLP"
   ]
  },
  {
   "cell_type": "code",
   "execution_count": 324,
   "id": "fbda8f71",
   "metadata": {},
   "outputs": [
    {
     "data": {
      "text/html": [
       "<div>\n",
       "<style scoped>\n",
       "    .dataframe tbody tr th:only-of-type {\n",
       "        vertical-align: middle;\n",
       "    }\n",
       "\n",
       "    .dataframe tbody tr th {\n",
       "        vertical-align: top;\n",
       "    }\n",
       "\n",
       "    .dataframe thead th {\n",
       "        text-align: right;\n",
       "    }\n",
       "</style>\n",
       "<table border=\"1\" class=\"dataframe\">\n",
       "  <thead>\n",
       "    <tr style=\"text-align: right;\">\n",
       "      <th></th>\n",
       "      <th>role</th>\n",
       "      <th>description</th>\n",
       "      <th>skills</th>\n",
       "      <th>Job Link</th>\n",
       "    </tr>\n",
       "  </thead>\n",
       "  <tbody>\n",
       "    <tr>\n",
       "      <th>0</th>\n",
       "      <td>Role: Business Analyst,</td>\n",
       "      <td>job description  business analyst responsibili...</td>\n",
       "      <td>[Process automation, Business Analyst, ISO, An...</td>\n",
       "      <td>https://www.naukri.com/job-listings-business-a...</td>\n",
       "    </tr>\n",
       "    <tr>\n",
       "      <th>1</th>\n",
       "      <td>Role: Full Stack Developer,</td>\n",
       "      <td>job description  looking for a scorm js develo...</td>\n",
       "      <td>[Process automation, Version control, GIT, Mac...</td>\n",
       "      <td>https://www.naukri.com/job-listings-xapi-devel...</td>\n",
       "    </tr>\n",
       "    <tr>\n",
       "      <th>2</th>\n",
       "      <td>Role: UI / UX Designer,</td>\n",
       "      <td>job description  we are looking for a dynamic ...</td>\n",
       "      <td>[Process automation, jQuery, Front end, Machin...</td>\n",
       "      <td>https://www.naukri.com/job-listings-ux-ui-desi...</td>\n",
       "    </tr>\n",
       "    <tr>\n",
       "      <th>3</th>\n",
       "      <td>Role: Test Analyst,</td>\n",
       "      <td>job description  quality assurance manual data...</td>\n",
       "      <td>[Process automation, QA, ERP, LMS, Testing too...</td>\n",
       "      <td>https://www.naukri.com/job-listings-quality-as...</td>\n",
       "    </tr>\n",
       "    <tr>\n",
       "      <th>4</th>\n",
       "      <td>Role: Automation Test Engineer,</td>\n",
       "      <td>job description  a automation engineers design...</td>\n",
       "      <td>[Maven, ERP, Coding, XML, MySQL, Debugging, Te...</td>\n",
       "      <td>https://www.naukri.com/job-listings-quality-as...</td>\n",
       "    </tr>\n",
       "  </tbody>\n",
       "</table>\n",
       "</div>"
      ],
      "text/plain": [
       "                              role  \\\n",
       "0          Role: Business Analyst,   \n",
       "1      Role: Full Stack Developer,   \n",
       "2          Role: UI / UX Designer,   \n",
       "3              Role: Test Analyst,   \n",
       "4  Role: Automation Test Engineer,   \n",
       "\n",
       "                                         description  \\\n",
       "0  job description  business analyst responsibili...   \n",
       "1  job description  looking for a scorm js develo...   \n",
       "2  job description  we are looking for a dynamic ...   \n",
       "3  job description  quality assurance manual data...   \n",
       "4  job description  a automation engineers design...   \n",
       "\n",
       "                                              skills  \\\n",
       "0  [Process automation, Business Analyst, ISO, An...   \n",
       "1  [Process automation, Version control, GIT, Mac...   \n",
       "2  [Process automation, jQuery, Front end, Machin...   \n",
       "3  [Process automation, QA, ERP, LMS, Testing too...   \n",
       "4  [Maven, ERP, Coding, XML, MySQL, Debugging, Te...   \n",
       "\n",
       "                                            Job Link  \n",
       "0  https://www.naukri.com/job-listings-business-a...  \n",
       "1  https://www.naukri.com/job-listings-xapi-devel...  \n",
       "2  https://www.naukri.com/job-listings-ux-ui-desi...  \n",
       "3  https://www.naukri.com/job-listings-quality-as...  \n",
       "4  https://www.naukri.com/job-listings-quality-as...  "
      ]
     },
     "execution_count": 324,
     "metadata": {},
     "output_type": "execute_result"
    }
   ],
   "source": [
    "# lower Casing \n",
    "\n",
    "df.description = df.description.apply(lambda x: x.lower())\n",
    "df.head()"
   ]
  },
  {
   "cell_type": "code",
   "execution_count": 325,
   "id": "65e2e54d",
   "metadata": {},
   "outputs": [],
   "source": [
    "# removing unwanted substrings from role\n",
    "df['role'] = df['role'].str[6:-1]"
   ]
  },
  {
   "cell_type": "code",
   "execution_count": 326,
   "id": "d849d65d",
   "metadata": {},
   "outputs": [],
   "source": [
    "import string\n",
    "def remove_punctuation(text):\n",
    "    for punc in list(string.punctuation):\n",
    "        if punc in text:\n",
    "            text = text.replace(punc, ' ')\n",
    "    return text.strip()"
   ]
  },
  {
   "cell_type": "code",
   "execution_count": 327,
   "id": "9158d7d7",
   "metadata": {},
   "outputs": [],
   "source": [
    " df[\"description\"] = df[\"description\"].apply(remove_punctuation)"
   ]
  },
  {
   "cell_type": "code",
   "execution_count": 328,
   "id": "b59e3912",
   "metadata": {},
   "outputs": [],
   "source": [
    "from nltk import RegexpTokenizer\n",
    "\n",
    "tokenizer = RegexpTokenizer(r\"\\w+\") # Remove puntations\n",
    "df['tokenized_sents'] = df.apply(lambda row: tokenizer.tokenize(row['description']), axis=1)"
   ]
  },
  {
   "cell_type": "code",
   "execution_count": 329,
   "id": "39d15f3e",
   "metadata": {},
   "outputs": [
    {
     "data": {
      "text/plain": [
       "0    [job, description, business, analyst, responsi...\n",
       "1    [job, description, looking, for, a, scorm, js,...\n",
       "2    [job, description, we, are, looking, for, a, d...\n",
       "3    [job, description, quality, assurance, manual,...\n",
       "4    [job, description, a, automation, engineers, d...\n",
       "5    [job, description, as, a, automation, test, le...\n",
       "6    [job, description, we, are, looking, for, a, m...\n",
       "7    [job, description, the, main, role, of, rpa, d...\n",
       "8    [job, description, as, a, rpa, automation, eng...\n",
       "9    [job, description, we, are, seeking, an, exper...\n",
       "Name: tokenized_sents, dtype: object"
      ]
     },
     "execution_count": 329,
     "metadata": {},
     "output_type": "execute_result"
    }
   ],
   "source": [
    "df['tokenized_sents'].head(10)"
   ]
  },
  {
   "cell_type": "code",
   "execution_count": 330,
   "id": "d2bdc5da",
   "metadata": {},
   "outputs": [],
   "source": [
    "# Stopward removal\n",
    "\n",
    "from nltk.corpus import stopwords\n",
    "stop_words = set(stopwords.words(\"english\"))\n",
    "stop_words = [x for x in stop_words]"
   ]
  },
  {
   "cell_type": "code",
   "execution_count": 331,
   "id": "cfc0600c",
   "metadata": {},
   "outputs": [
    {
     "name": "stdout",
     "output_type": "stream",
     "text": [
      "[\"you'll\", 'with', 'out', 'yourself', 've', \"shan't\", 'just', 'by', 'will', \"you'd\", 'if', 'aren', 'once', 'having', 'here', \"isn't\", 'own', 'again', \"couldn't\", 'll', 'to', 'in', 'had', 'before', 'under', 'or', 'about', 'where', 'other', 'hadn', 'whom', 'same', 'yours', 'because', 'below', 'but', 'why', 'they', 'herself', 'have', 'you', 'yourselves', 'he', 'i', 'no', 'wasn', \"aren't\", 'him', 'further', 'ourselves', 'on', 'weren', 'that', \"it's\", 'its', 'very', 'me', 'them', \"hasn't\", 't', 'of', \"wasn't\", 'most', 'hers', 'we', \"that'll\", 's', 'not', 'needn', 'don', 'nor', 'up', 'doesn', 'only', 'there', \"mustn't\", 'itself', 'when', 'between', 'couldn', 'then', 'their', 'at', 'who', 'these', 'so', \"you're\", 'her', 'doing', 'his', 'for', 'm', \"wouldn't\", 'the', 'ours', 'such', 'mustn', 'am', 'both', \"didn't\", 'theirs', 'an', 'which', 'as', 'during', 'more', 'didn', 'haven', \"needn't\", 'over', \"won't\", 'from', 'mightn', 'can', 'any', 'this', \"weren't\", 'myself', 'be', 'my', \"don't\", 'won', 're', \"shouldn't\", 'she', 'shouldn', 'our', 'down', \"should've\", \"she's\", 'too', 'did', 'should', 'has', 'ma', 'until', 'himself', 'each', 'are', 'being', \"haven't\", 'it', 'was', 'shan', 'now', 'through', 'what', 'into', 'your', 'some', 'against', 'those', 'after', 'above', 'does', \"doesn't\", 'a', 'and', 'ain', 'd', 'few', \"you've\", 'how', 'o', 'y', 'do', 'while', \"hadn't\", 'all', 'been', 'wouldn', 'is', 'off', 'isn', 'than', 'hasn', \"mightn't\", 'themselves', 'were']\n"
     ]
    }
   ],
   "source": [
    "print(stop_words)"
   ]
  },
  {
   "cell_type": "code",
   "execution_count": 332,
   "id": "a705e4ad",
   "metadata": {},
   "outputs": [],
   "source": [
    "def remove_stopwords(x):\n",
    "    st = []\n",
    "    for i in x:\n",
    "        if i in stop_words:\n",
    "            continue\n",
    "        else:\n",
    "            st.append(i)\n",
    "    return st"
   ]
  },
  {
   "cell_type": "code",
   "execution_count": 333,
   "id": "b3e36f97",
   "metadata": {},
   "outputs": [],
   "source": [
    "df['No_Stopwords'] = df['tokenized_sents'].apply(remove_stopwords)"
   ]
  },
  {
   "cell_type": "code",
   "execution_count": 334,
   "id": "853bfe32",
   "metadata": {},
   "outputs": [
    {
     "data": {
      "text/plain": [
       "0    [job, description, business, analyst, responsi...\n",
       "1    [job, description, looking, scorm, js, develop...\n",
       "2    [job, description, looking, dynamic, ui, ux, d...\n",
       "3    [job, description, quality, assurance, manual,...\n",
       "4    [job, description, automation, engineers, desi...\n",
       "5    [job, description, automation, test, lead, arc...\n",
       "6    [job, description, looking, machine, learning,...\n",
       "7    [job, description, main, role, rpa, developers...\n",
       "8    [job, description, rpa, automation, engineer, ...\n",
       "9    [job, description, seeking, experienced, backe...\n",
       "Name: No_Stopwords, dtype: object"
      ]
     },
     "execution_count": 334,
     "metadata": {},
     "output_type": "execute_result"
    }
   ],
   "source": [
    "df['No_Stopwords'].head(10)"
   ]
  },
  {
   "cell_type": "code",
   "execution_count": 335,
   "id": "951d8695",
   "metadata": {},
   "outputs": [],
   "source": [
    "# Lemmatization \n",
    "\n",
    "from nltk.stem import WordNetLemmatizer\n",
    "lemmatizer = WordNetLemmatizer()"
   ]
  },
  {
   "cell_type": "code",
   "execution_count": 336,
   "id": "045c4c35",
   "metadata": {},
   "outputs": [],
   "source": [
    "def lemmatize(x):\n",
    "    lem_words =  []\n",
    "    for ele in x:\n",
    "        lem_words.append(lemmatizer.lemmatize(ele))\n",
    "    return lem_words"
   ]
  },
  {
   "cell_type": "code",
   "execution_count": 337,
   "id": "784eb263",
   "metadata": {},
   "outputs": [],
   "source": [
    "df[\"Lemmatized\"] = df[\"No_Stopwords\"].apply(lemmatize)"
   ]
  },
  {
   "cell_type": "code",
   "execution_count": 338,
   "id": "7dd5be7c",
   "metadata": {},
   "outputs": [
    {
     "data": {
      "text/plain": [
       "0    [job, description, business, analyst, responsi...\n",
       "1    [job, description, looking, scorm, j, develope...\n",
       "2    [job, description, looking, dynamic, ui, ux, d...\n",
       "3    [job, description, quality, assurance, manual,...\n",
       "4    [job, description, automation, engineer, desig...\n",
       "Name: Lemmatized, dtype: object"
      ]
     },
     "execution_count": 338,
     "metadata": {},
     "output_type": "execute_result"
    }
   ],
   "source": [
    "df[\"Lemmatized\"].head()"
   ]
  },
  {
   "cell_type": "code",
   "execution_count": 339,
   "id": "add96e46",
   "metadata": {},
   "outputs": [],
   "source": [
    "# pos tagging\n",
    "\n",
    "from nltk import pos_tag"
   ]
  },
  {
   "cell_type": "code",
   "execution_count": 340,
   "id": "b1318fa3",
   "metadata": {},
   "outputs": [],
   "source": [
    "df[\"POS_Lemmataized\"] = df[\"Lemmatized\"].apply(pos_tag)"
   ]
  },
  {
   "cell_type": "code",
   "execution_count": 341,
   "id": "c20a8778",
   "metadata": {},
   "outputs": [
    {
     "data": {
      "text/plain": [
       "0    [(job, NN), (description, NN), (business, NN),...\n",
       "1    [(job, NN), (description, NN), (looking, VBG),...\n",
       "2    [(job, NN), (description, NN), (looking, VBG),...\n",
       "3    [(job, NN), (description, NN), (quality, NN), ...\n",
       "4    [(job, NN), (description, NN), (automation, NN...\n",
       "Name: POS_Lemmataized, dtype: object"
      ]
     },
     "execution_count": 341,
     "metadata": {},
     "output_type": "execute_result"
    }
   ],
   "source": [
    "df[\"POS_Lemmataized\"].head()"
   ]
  },
  {
   "cell_type": "code",
   "execution_count": 342,
   "id": "e7e33712",
   "metadata": {},
   "outputs": [],
   "source": [
    "def select_NN(x):\n",
    "    task_keywords = []\n",
    "    for i in x:\n",
    "        if i[1] == \"NN\":\n",
    "            task_keywords.append(i[0])\n",
    "        else:\n",
    "            continue\n",
    "    return task_keywords"
   ]
  },
  {
   "cell_type": "code",
   "execution_count": 343,
   "id": "c53660c4",
   "metadata": {},
   "outputs": [],
   "source": [
    "df['KeyWords'] = df['POS_Lemmataized'].apply(select_NN)"
   ]
  },
  {
   "cell_type": "code",
   "execution_count": 344,
   "id": "d1f80504",
   "metadata": {},
   "outputs": [
    {
     "data": {
      "text/plain": [
       "0     [job, description, business, analyst, responsi...\n",
       "1     [job, description, j, developer, work, team, w...\n",
       "2     [job, description, designer, experience, user,...\n",
       "3     [job, description, quality, assurance, databas...\n",
       "4     [job, description, automation, engineer, desig...\n",
       "5     [job, description, automation, test, lead, own...\n",
       "6     [job, description, machine, intelligence, prod...\n",
       "7     [job, description, role, rpa, developer, build...\n",
       "8     [job, description, rpa, automation, lead, solu...\n",
       "9     [job, description, backend, developer, buildin...\n",
       "10    [job, description, pl, sql, developer, network...\n",
       "11    [job, description, test, functionality, usabil...\n",
       "Name: KeyWords, dtype: object"
      ]
     },
     "execution_count": 344,
     "metadata": {},
     "output_type": "execute_result"
    }
   ],
   "source": [
    "df['KeyWords']"
   ]
  },
  {
   "cell_type": "code",
   "execution_count": 345,
   "id": "36c01caf",
   "metadata": {},
   "outputs": [
    {
     "name": "stdout",
     "output_type": "stream",
     "text": [
      "['model', 'machine', 'nlp', 'machine learning', 'artificial intelligence', 'artificial intelligence', 'data collection', 'data scientist', 'tensorflow', 'data science', 'natural language processing', 'aiml', 'ai algorithms', 'pandas', 'numpy', 'pytorch', 'ml', 'predictive modelling']\n"
     ]
    }
   ],
   "source": [
    "import pickle\n",
    "\n",
    "with open('vocab.pkl', 'rb') as file:\n",
    "    vocab = pickle.load(file)\n",
    "    print(vocab)"
   ]
  },
  {
   "cell_type": "code",
   "execution_count": 346,
   "id": "8621deb1",
   "metadata": {},
   "outputs": [
    {
     "data": {
      "text/html": [
       "<div>\n",
       "<style scoped>\n",
       "    .dataframe tbody tr th:only-of-type {\n",
       "        vertical-align: middle;\n",
       "    }\n",
       "\n",
       "    .dataframe tbody tr th {\n",
       "        vertical-align: top;\n",
       "    }\n",
       "\n",
       "    .dataframe thead th {\n",
       "        text-align: right;\n",
       "    }\n",
       "</style>\n",
       "<table border=\"1\" class=\"dataframe\">\n",
       "  <thead>\n",
       "    <tr style=\"text-align: right;\">\n",
       "      <th></th>\n",
       "      <th>role</th>\n",
       "      <th>description</th>\n",
       "      <th>skills</th>\n",
       "      <th>Job Link</th>\n",
       "      <th>tokenized_sents</th>\n",
       "      <th>No_Stopwords</th>\n",
       "      <th>Lemmatized</th>\n",
       "      <th>POS_Lemmataized</th>\n",
       "      <th>KeyWords</th>\n",
       "    </tr>\n",
       "  </thead>\n",
       "  <tbody>\n",
       "    <tr>\n",
       "      <th>0</th>\n",
       "      <td>Business Analyst</td>\n",
       "      <td>job description  business analyst responsibili...</td>\n",
       "      <td>[Process automation, Business Analyst, ISO, An...</td>\n",
       "      <td>https://www.naukri.com/job-listings-business-a...</td>\n",
       "      <td>[job, description, business, analyst, responsi...</td>\n",
       "      <td>[job, description, business, analyst, responsi...</td>\n",
       "      <td>[job, description, business, analyst, responsi...</td>\n",
       "      <td>[(job, NN), (description, NN), (business, NN),...</td>\n",
       "      <td>[job, description, business, analyst, responsi...</td>\n",
       "    </tr>\n",
       "    <tr>\n",
       "      <th>1</th>\n",
       "      <td>Full Stack Developer</td>\n",
       "      <td>job description  looking for a scorm js develo...</td>\n",
       "      <td>[Process automation, Version control, GIT, Mac...</td>\n",
       "      <td>https://www.naukri.com/job-listings-xapi-devel...</td>\n",
       "      <td>[job, description, looking, for, a, scorm, js,...</td>\n",
       "      <td>[job, description, looking, scorm, js, develop...</td>\n",
       "      <td>[job, description, looking, scorm, j, develope...</td>\n",
       "      <td>[(job, NN), (description, NN), (looking, VBG),...</td>\n",
       "      <td>[job, description, j, developer, work, team, w...</td>\n",
       "    </tr>\n",
       "    <tr>\n",
       "      <th>2</th>\n",
       "      <td>UI / UX Designer</td>\n",
       "      <td>job description  we are looking for a dynamic ...</td>\n",
       "      <td>[Process automation, jQuery, Front end, Machin...</td>\n",
       "      <td>https://www.naukri.com/job-listings-ux-ui-desi...</td>\n",
       "      <td>[job, description, we, are, looking, for, a, d...</td>\n",
       "      <td>[job, description, looking, dynamic, ui, ux, d...</td>\n",
       "      <td>[job, description, looking, dynamic, ui, ux, d...</td>\n",
       "      <td>[(job, NN), (description, NN), (looking, VBG),...</td>\n",
       "      <td>[job, description, designer, experience, user,...</td>\n",
       "    </tr>\n",
       "    <tr>\n",
       "      <th>3</th>\n",
       "      <td>Test Analyst</td>\n",
       "      <td>job description  quality assurance manual data...</td>\n",
       "      <td>[Process automation, QA, ERP, LMS, Testing too...</td>\n",
       "      <td>https://www.naukri.com/job-listings-quality-as...</td>\n",
       "      <td>[job, description, quality, assurance, manual,...</td>\n",
       "      <td>[job, description, quality, assurance, manual,...</td>\n",
       "      <td>[job, description, quality, assurance, manual,...</td>\n",
       "      <td>[(job, NN), (description, NN), (quality, NN), ...</td>\n",
       "      <td>[job, description, quality, assurance, databas...</td>\n",
       "    </tr>\n",
       "    <tr>\n",
       "      <th>4</th>\n",
       "      <td>Automation Test Engineer</td>\n",
       "      <td>job description  a automation engineers design...</td>\n",
       "      <td>[Maven, ERP, Coding, XML, MySQL, Debugging, Te...</td>\n",
       "      <td>https://www.naukri.com/job-listings-quality-as...</td>\n",
       "      <td>[job, description, a, automation, engineers, d...</td>\n",
       "      <td>[job, description, automation, engineers, desi...</td>\n",
       "      <td>[job, description, automation, engineer, desig...</td>\n",
       "      <td>[(job, NN), (description, NN), (automation, NN...</td>\n",
       "      <td>[job, description, automation, engineer, desig...</td>\n",
       "    </tr>\n",
       "  </tbody>\n",
       "</table>\n",
       "</div>"
      ],
      "text/plain": [
       "                       role  \\\n",
       "0          Business Analyst   \n",
       "1      Full Stack Developer   \n",
       "2          UI / UX Designer   \n",
       "3              Test Analyst   \n",
       "4  Automation Test Engineer   \n",
       "\n",
       "                                         description  \\\n",
       "0  job description  business analyst responsibili...   \n",
       "1  job description  looking for a scorm js develo...   \n",
       "2  job description  we are looking for a dynamic ...   \n",
       "3  job description  quality assurance manual data...   \n",
       "4  job description  a automation engineers design...   \n",
       "\n",
       "                                              skills  \\\n",
       "0  [Process automation, Business Analyst, ISO, An...   \n",
       "1  [Process automation, Version control, GIT, Mac...   \n",
       "2  [Process automation, jQuery, Front end, Machin...   \n",
       "3  [Process automation, QA, ERP, LMS, Testing too...   \n",
       "4  [Maven, ERP, Coding, XML, MySQL, Debugging, Te...   \n",
       "\n",
       "                                            Job Link  \\\n",
       "0  https://www.naukri.com/job-listings-business-a...   \n",
       "1  https://www.naukri.com/job-listings-xapi-devel...   \n",
       "2  https://www.naukri.com/job-listings-ux-ui-desi...   \n",
       "3  https://www.naukri.com/job-listings-quality-as...   \n",
       "4  https://www.naukri.com/job-listings-quality-as...   \n",
       "\n",
       "                                     tokenized_sents  \\\n",
       "0  [job, description, business, analyst, responsi...   \n",
       "1  [job, description, looking, for, a, scorm, js,...   \n",
       "2  [job, description, we, are, looking, for, a, d...   \n",
       "3  [job, description, quality, assurance, manual,...   \n",
       "4  [job, description, a, automation, engineers, d...   \n",
       "\n",
       "                                        No_Stopwords  \\\n",
       "0  [job, description, business, analyst, responsi...   \n",
       "1  [job, description, looking, scorm, js, develop...   \n",
       "2  [job, description, looking, dynamic, ui, ux, d...   \n",
       "3  [job, description, quality, assurance, manual,...   \n",
       "4  [job, description, automation, engineers, desi...   \n",
       "\n",
       "                                          Lemmatized  \\\n",
       "0  [job, description, business, analyst, responsi...   \n",
       "1  [job, description, looking, scorm, j, develope...   \n",
       "2  [job, description, looking, dynamic, ui, ux, d...   \n",
       "3  [job, description, quality, assurance, manual,...   \n",
       "4  [job, description, automation, engineer, desig...   \n",
       "\n",
       "                                     POS_Lemmataized  \\\n",
       "0  [(job, NN), (description, NN), (business, NN),...   \n",
       "1  [(job, NN), (description, NN), (looking, VBG),...   \n",
       "2  [(job, NN), (description, NN), (looking, VBG),...   \n",
       "3  [(job, NN), (description, NN), (quality, NN), ...   \n",
       "4  [(job, NN), (description, NN), (automation, NN...   \n",
       "\n",
       "                                            KeyWords  \n",
       "0  [job, description, business, analyst, responsi...  \n",
       "1  [job, description, j, developer, work, team, w...  \n",
       "2  [job, description, designer, experience, user,...  \n",
       "3  [job, description, quality, assurance, databas...  \n",
       "4  [job, description, automation, engineer, desig...  "
      ]
     },
     "execution_count": 346,
     "metadata": {},
     "output_type": "execute_result"
    }
   ],
   "source": [
    "df.head()"
   ]
  },
  {
   "cell_type": "code",
   "execution_count": 347,
   "id": "0c38a295",
   "metadata": {},
   "outputs": [],
   "source": [
    "def check_ML_Job(x):\n",
    "    temp_role = x[0].lower().split()\n",
    "    \n",
    "     \n",
    "    # checking job title\n",
    "    for word in temp_role:\n",
    "        if \"machine learning\" == word or \"ml\" == word:\n",
    "            return \"Yes\"\n",
    "        \n",
    "    # Checking Description  \n",
    "    temp_desc = x[-1]\n",
    "    for v in vocab:\n",
    "        if v in temp_desc:\n",
    "            print(\"-----------------------\",temp_desc,\"------------------------------------\")\n",
    "            return \"Yes\"\n",
    "    return \"False\""
   ]
  },
  {
   "cell_type": "code",
   "execution_count": 348,
   "id": "cdbfcb17",
   "metadata": {},
   "outputs": [
    {
     "name": "stdout",
     "output_type": "stream",
     "text": [
      "----------------------- ['job', 'description', 'machine', 'intelligence', 'product', 'machine', 'responsibility', 'machine', 'model', 'system', 'job', 'skill', 'programming', 'goal', 'shape', 'self', 'application', 'duty', 'responsibility', 'build', 'algorithm', 'system', 'end', 'solution', 'batch', 'time', 'algorithm', 'performance', 'b', 'spirit', 'opportunity', 'business', 'process', 'consumer', 'experience', 'prototype', 'solution', 'demonstrate', 'value', 'crawl', 'work', 'scientist', 'analyst', 'product', 'feature', 'process', 'analysis', 'model', 'development', 'validation', 'implementation', 'efficient', 'software', 'product', 'release', 'environment', 'promote', 'software', 'engineering', 'practice', 'team', 'knowledge', 'team', 'adopt', 'practice', 'use', 'community', 'practice', 'education', 'bachelor', 'computer', 'science', 'role', 'stack', 'developer', 'industry', 'type', 'courier', 'department', 'engineering', 'software', 'employment', 'type', 'time', 'category', 'software', 'developmenteducationug', 'graduatepg', 'intelligencemachine', 'learningperformance', 'testingapplication', 'developmentanalyticsmonitoringsqlpython'] ------------------------------------\n"
     ]
    }
   ],
   "source": [
    "df[\"ML Job\"] = df.apply(check_ML_Job,axis=1)"
   ]
  },
  {
   "cell_type": "code",
   "execution_count": 349,
   "id": "5da11c83",
   "metadata": {},
   "outputs": [
    {
     "data": {
      "text/html": [
       "<div>\n",
       "<style scoped>\n",
       "    .dataframe tbody tr th:only-of-type {\n",
       "        vertical-align: middle;\n",
       "    }\n",
       "\n",
       "    .dataframe tbody tr th {\n",
       "        vertical-align: top;\n",
       "    }\n",
       "\n",
       "    .dataframe thead th {\n",
       "        text-align: right;\n",
       "    }\n",
       "</style>\n",
       "<table border=\"1\" class=\"dataframe\">\n",
       "  <thead>\n",
       "    <tr style=\"text-align: right;\">\n",
       "      <th></th>\n",
       "      <th>role</th>\n",
       "      <th>description</th>\n",
       "      <th>skills</th>\n",
       "      <th>Job Link</th>\n",
       "      <th>tokenized_sents</th>\n",
       "      <th>No_Stopwords</th>\n",
       "      <th>Lemmatized</th>\n",
       "      <th>POS_Lemmataized</th>\n",
       "      <th>KeyWords</th>\n",
       "      <th>ML Job</th>\n",
       "    </tr>\n",
       "  </thead>\n",
       "  <tbody>\n",
       "    <tr>\n",
       "      <th>6</th>\n",
       "      <td>Full Stack Developer</td>\n",
       "      <td>job description  we are looking for a machine ...</td>\n",
       "      <td>[Prototype, Artificial Intelligence, Machine l...</td>\n",
       "      <td>https://www.naukri.com/job-listings-ai-ml-deve...</td>\n",
       "      <td>[job, description, we, are, looking, for, a, m...</td>\n",
       "      <td>[job, description, looking, machine, learning,...</td>\n",
       "      <td>[job, description, looking, machine, learning,...</td>\n",
       "      <td>[(job, NN), (description, NN), (looking, VBG),...</td>\n",
       "      <td>[job, description, machine, intelligence, prod...</td>\n",
       "      <td>Yes</td>\n",
       "    </tr>\n",
       "  </tbody>\n",
       "</table>\n",
       "</div>"
      ],
      "text/plain": [
       "                   role                                        description  \\\n",
       "6  Full Stack Developer  job description  we are looking for a machine ...   \n",
       "\n",
       "                                              skills  \\\n",
       "6  [Prototype, Artificial Intelligence, Machine l...   \n",
       "\n",
       "                                            Job Link  \\\n",
       "6  https://www.naukri.com/job-listings-ai-ml-deve...   \n",
       "\n",
       "                                     tokenized_sents  \\\n",
       "6  [job, description, we, are, looking, for, a, m...   \n",
       "\n",
       "                                        No_Stopwords  \\\n",
       "6  [job, description, looking, machine, learning,...   \n",
       "\n",
       "                                          Lemmatized  \\\n",
       "6  [job, description, looking, machine, learning,...   \n",
       "\n",
       "                                     POS_Lemmataized  \\\n",
       "6  [(job, NN), (description, NN), (looking, VBG),...   \n",
       "\n",
       "                                            KeyWords ML Job  \n",
       "6  [job, description, machine, intelligence, prod...    Yes  "
      ]
     },
     "execution_count": 349,
     "metadata": {},
     "output_type": "execute_result"
    }
   ],
   "source": [
    "df[df[\"ML Job\"]==\"Yes\"]"
   ]
  },
  {
   "cell_type": "code",
   "execution_count": 350,
   "id": "b08f7484",
   "metadata": {},
   "outputs": [
    {
     "data": {
      "text/plain": [
       "[['Full Stack Developer',\n",
       "  'https://www.naukri.com/job-listings-ai-ml-developer-airo-digital-labs-india-pvt-ltd-kolkata-mumbai-new-delhi-hyderabad-secunderabad-pune-chennai-bangalore-bengaluru-4-to-9-years-180423500502']]"
      ]
     },
     "execution_count": 350,
     "metadata": {},
     "output_type": "execute_result"
    }
   ],
   "source": [
    "ML_JOBS = df[df[\"ML Job\"] == \"Yes\"].values.tolist()\n",
    "result = []\n",
    "for job in ML_JOBS:\n",
    "    result.append([job[0],job[3]])\n",
    "result"
   ]
  },
  {
   "cell_type": "code",
   "execution_count": 351,
   "id": "b6f26626",
   "metadata": {},
   "outputs": [
    {
     "data": {
      "text/plain": [
       "1"
      ]
     },
     "execution_count": 351,
     "metadata": {},
     "output_type": "execute_result"
    }
   ],
   "source": [
    "len(result)"
   ]
  },
  {
   "cell_type": "code",
   "execution_count": 352,
   "id": "645115a8",
   "metadata": {},
   "outputs": [],
   "source": [
    "def unique(result):\n",
    "    unique_list = []\n",
    "    for x in result:\n",
    "        if x[1] not in unique_list:\n",
    "            unique_list.append(x)\n",
    "    for x in unique_list:\n",
    "        print(x)\n",
    "    print(len(unique_list))"
   ]
  },
  {
   "cell_type": "code",
   "execution_count": 353,
   "id": "818e9cbb",
   "metadata": {},
   "outputs": [
    {
     "name": "stdout",
     "output_type": "stream",
     "text": [
      "['Full Stack Developer', 'https://www.naukri.com/job-listings-ai-ml-developer-airo-digital-labs-india-pvt-ltd-kolkata-mumbai-new-delhi-hyderabad-secunderabad-pune-chennai-bangalore-bengaluru-4-to-9-years-180423500502']\n",
      "1\n"
     ]
    }
   ],
   "source": [
    "unique(result)"
   ]
  },
  {
   "cell_type": "code",
   "execution_count": null,
   "id": "22326af7",
   "metadata": {},
   "outputs": [],
   "source": []
  },
  {
   "cell_type": "code",
   "execution_count": null,
   "id": "46571789",
   "metadata": {},
   "outputs": [],
   "source": []
  }
 ],
 "metadata": {
  "kernelspec": {
   "display_name": "Python 3",
   "language": "python",
   "name": "python3"
  },
  "language_info": {
   "codemirror_mode": {
    "name": "ipython",
    "version": 3
   },
   "file_extension": ".py",
   "mimetype": "text/x-python",
   "name": "python",
   "nbconvert_exporter": "python",
   "pygments_lexer": "ipython3",
   "version": "3.8.8"
  }
 },
 "nbformat": 4,
 "nbformat_minor": 5
}
